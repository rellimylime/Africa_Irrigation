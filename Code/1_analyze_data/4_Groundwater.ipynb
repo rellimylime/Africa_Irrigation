{
 "cells": [
  {
   "cell_type": "markdown",
   "metadata": {},
   "source": [
    "# Groundwater Productivity Targeting Analysis\n",
    "This notebook analyzes the relationship between groundwater productivity and the spatial distribution of Center Pivot Irrigation Systems (CPIS) and irrigated land across Africa. It calculates targeting ratios for CPIS relative to irrigated area by groundwater productivity category, using bootstrapping to estimate confidence intervals."
   ]
  },
  {
   "cell_type": "markdown",
   "metadata": {},
   "source": [
    "# Import Required Libraries and Utilities\n",
    "Import all necessary libraries and utility functions, including configuration and region ISO dictionaries from the project's utility files."
   ]
  },
  {
   "cell_type": "code",
   "execution_count": null,
   "metadata": {},
   "outputs": [],
   "source": [
    "import geopandas as gpd\n",
    "import pandas as pd\n",
    "import matplotlib.pyplot as plt\n",
    "from shapely.geometry import Point\n",
    "from scipy.spatial import cKDTree\n",
    "from tqdm import tqdm\n",
    "import numpy as np\n",
    "import sys\n",
    "import os\n",
    "\n",
    "# Add the project root to sys.path so we can import from Code.utils everywhere\n",
    "project_root = os.path.abspath(os.path.join(os.getcwd(), '..', '..'))\n",
    "if project_root not in sys.path:\n",
    "    sys.path.insert(0, project_root)\n",
    "\n",
    "from Code.utils.utility import load_config, resolve_path, regions_dict\n",
    "\n",
    "# Load configuration\n",
    "config = load_config()\n",
    "\n",
    "# Helper for SSA filtering\n",
    "def filter_ssa(df, iso_col='ISO'):\n",
    "    northern_african_countries = regions_dict['Northern Africa']\n",
    "    return df[~df[iso_col].isin(northern_african_countries)]"
   ]
  },
  {
   "cell_type": "markdown",
   "metadata": {},
   "source": [
    "## Prepare Groundwater Productivity Data\n",
    "Load and process the groundwater productivity dataset, assign categories, and save as a GeoDataFrame."
   ]
  },
  {
   "cell_type": "code",
   "execution_count": null,
   "metadata": {},
   "outputs": [],
   "source": [
    "# Define groundwater productivity category mappings\n",
    "value_map_cat = {'VH': 20.0, 'H': 12.5, 'M': 3.0, 'LM': 0.75, 'L': 0.3, 'VL': 0.1}\n",
    "reverse_map_cat = {v: k for k, v in value_map_cat.items()}\n",
    "\n",
    "# Load the groundwater productivity data\n",
    "GW_path = resolve_path(config['Groundwater_Productivity_path'])\n",
    "df_GW = pd.read_csv(GW_path, sep=r'\\s+')\n",
    "geometry = [Point(xy) for xy in tqdm(zip(df_GW['X'], df_GW['Y']), desc=\"Creating geometries\")]\n",
    "gdf_GW = gpd.GeoDataFrame(df_GW, geometry=geometry, crs='EPSG:4326').to_crs(epsg=3857)\n",
    "gdf_GW['GW_prod_cat_L_s'] = gdf_GW['GWPROD_V2'].map(value_map_cat)\n",
    "gdf_GW['GW_prod_cat'] = gdf_GW['Liters_Second'].map(reverse_map_cat)"
   ]
  },
  {
   "cell_type": "markdown",
   "metadata": {},
   "source": [
    "## Assign Groundwater Value to Each Irrigated Pixel\n",
    "Spatially join AEI data with groundwater productivity and calculate AEI statistics by country and productivity category."
   ]
  },
  {
   "cell_type": "code",
   "execution_count": null,
   "metadata": {},
   "outputs": [],
   "source": [
    "# Load the AEI data by country\n",
    "AEI_path = resolve_path(config['AEI_2015_All_shp_path'])\n",
    "AEI_by_country = gpd.read_file(AEI_path).to_crs(gdf_GW.crs)\n",
    "\n",
    "# Spatial join: assign each GW point to an AEI polygon\n",
    "gdf_combined = gpd.sjoin(gdf_GW, AEI_by_country, how=\"left\", predicate=\"within\")\n",
    "gdf_combined = gdf_combined.rename(columns={'GWPROD_V2': 'GW_prod_cat'})\n",
    "gdf_combined = gdf_combined.drop(columns=['index_right']).reset_index(drop=True)\n",
    "\n",
    "# Group by country and groundwater productivity category to calculate total AEI\n",
    "AEI_by_country_and_prod = gdf_combined.groupby(['ISO', 'GW_prod_cat'])['raster_val'].sum().reset_index()\n",
    "# Calculate total AEI per country\n",
    "total_AEI_per_country = gdf_combined.groupby('ISO')['raster_val'].sum().reset_index().rename(columns={'raster_val': 'Total_AEI'})\n",
    "# Merge and calculate percent AEI per category\n",
    "merged_with_AEI = AEI_by_country_and_prod.merge(total_AEI_per_country, on='ISO')\n",
    "merged_with_AEI['Percent_AEI'] = merged_with_AEI['raster_val'] / merged_with_AEI['Total_AEI']\n",
    "# Restrict to SSA\n",
    "merged = filter_ssa(merged_with_AEI, iso_col='ISO')"
   ]
  },
  {
   "cell_type": "markdown",
   "metadata": {},
   "source": [
    "## Assign Groundwater Values to Each Center Pivot\n",
    "Assign the nearest groundwater productivity value to each CPIS polygon and summarize by productivity level and country."
   ]
  },
  {
   "cell_type": "code",
   "execution_count": null,
   "metadata": {},
   "outputs": [],
   "source": [
    "# Load the CPIS shapefile\n",
    "gdf_CPIS_cc = gpd.read_file(resolve_path(config['Combined_CPIS_All_shp_path'])).to_crs(gdf_GW.crs)\n",
    "gdf_CPIS = gdf_CPIS_cc.rename(columns={'Country Co': 'ISO'})\n",
    "# Calculate centroids of the CPIS polygons\n",
    "cp_centroids_coords = np.array(list(gdf_CPIS.geometry.centroid.apply(lambda geom: (geom.x, geom.y))))\n",
    "# Extract coordinates of groundwater points\n",
    "gw_coords = np.array(list(gdf_GW.geometry.apply(lambda geom: (geom.x, geom.y))))\n",
    "# Build a KDTree for the groundwater points\n",
    "tree = cKDTree(gw_coords)\n",
    "_, idx = tree.query(cp_centroids_coords, k=1)\n",
    "# Assign the nearest groundwater productivity value to each CPIS\n",
    "gdf_CPIS['GW_prod_cat'] = gdf_GW.iloc[idx]['GW_prod_cat'].values\n",
    "# Restrict to SSA\n",
    "gdf_CPIS_SSA = filter_ssa(gdf_CPIS, iso_col='ISO')\n",
    "# Group by groundwater productivity category to calculate the total number of CPIS (per level overall and by country)\n",
    "CPIS_SSA_per_country_level = gdf_CPIS_SSA.groupby(['ISO', 'GW_prod_cat']).size().reset_index(name='CPIS_per_country_level')\n",
    "CPIS_SSA_per_level = gdf_CPIS_SSA.groupby('GW_prod_cat').size().reset_index(name='CPIS_count')"
   ]
  },
  {
   "cell_type": "markdown",
   "metadata": {},
   "source": [
    "## Merge AEI and CPIS Data for Targeting Ratio Calculation\n",
    "Merge the AEI and CPIS summary tables to prepare for targeting ratio analysis."
   ]
  },
  {
   "cell_type": "code",
   "execution_count": null,
   "metadata": {},
   "outputs": [],
   "source": [
    "# Group by 'ISO' and count the number of points in each country\n",
    "points_per_country = gdf_CPIS.groupby('ISO').size().reset_index(name='Point_Count')\n",
    "# Merge on 'ISO' and 'GW_prod_cat'\n",
    "merged_with_cpis = merged_with_AEI.merge(CPIS_SSA_per_country_level, on=['ISO', 'GW_prod_cat'], how='left')\n",
    "# Fill NaN values in CPIS count column with 0 and convert to int\n",
    "merged_with_cpis['CPIS_per_country_level'] = merged_with_cpis['CPIS_per_country_level'].fillna(0).astype(int)\n",
    "merged_with_cpis['GW_prod_cat_L_s'] = merged_with_cpis['GW_prod_cat'].map(value_map_cat)"
   ]
  },
  {
   "cell_type": "markdown",
   "metadata": {},
   "source": [
    "## Calculate Targeting Ratios with Bootstrapping\n",
    "Compute the targeting ratio for each groundwater productivity level, including confidence intervals using bootstrapping."
   ]
  },
  {
   "cell_type": "code",
   "execution_count": null,
   "metadata": {},
   "outputs": [],
   "source": [
    "def bootstrap_targeting_ratio(numerator, denominator, num_bootstrap=1000):\n",
    "    ratios = []\n",
    "    for _ in range(num_bootstrap):\n",
    "        boot_numerator = np.random.poisson(numerator)\n",
    "        boot_denominator = np.random.poisson(denominator)\n",
    "        if boot_denominator != 0:\n",
    "            boot_ratio = boot_numerator / boot_denominator\n",
    "        else:\n",
    "            boot_ratio = np.nan\n",
    "        ratios.append(boot_ratio)\n",
    "    ratios = np.array(ratios)\n",
    "    return np.nanpercentile(ratios, 2.5), np.nanpercentile(ratios, 97.5)\n",
    "\n",
    "targeting_ratios = []\n",
    "for prod_level in CPIS_SSA_per_level['GW_prod_cat']:\n",
    "    CPIS_count = CPIS_SSA_per_level[CPIS_SSA_per_level['GW_prod_cat'] == prod_level]['CPIS_count'].values[0]\n",
    "    denominator = 0\n",
    "    for country in points_per_country['ISO']:\n",
    "        try:\n",
    "            country_cpis_count = points_per_country.loc[points_per_country['ISO'] == country, 'Point_Count'].values[0]\n",
    "            percent_aei = merged_with_cpis[(merged_with_cpis['ISO'] == country) & (merged_with_cpis['GW_prod_cat'] == prod_level)]['Percent_AEI'].values[0]\n",
    "            if np.isnan(country_cpis_count) or np.isnan(percent_aei):\n",
    "                continue\n",
    "            denominator += country_cpis_count * percent_aei\n",
    "        except KeyError:\n",
    "            continue\n",
    "    if denominator == 0:\n",
    "        targeting_ratio = np.nan\n",
    "        ci_lower, ci_upper = np.nan, np.nan\n",
    "    else:\n",
    "        targeting_ratio = CPIS_count / denominator\n",
    "        ci_lower, ci_upper = bootstrap_targeting_ratio(CPIS_count, denominator)\n",
    "    targeting_ratios.append({\n",
    "        'GW_prod_cat_L_s': prod_level,\n",
    "        'Numerator': CPIS_count,\n",
    "        'Denominator': denominator,\n",
    "        'Targeting_Ratio': targeting_ratio,\n",
    "        'CI_Lower': ci_lower,\n",
    "        'CI_Upper': ci_upper\n",
    "    })\n",
    "df_targeting_ratios = pd.DataFrame(targeting_ratios)"
   ]
  },
  {
   "cell_type": "markdown",
   "metadata": {},
   "source": [
    "## Visualize Targeting Ratios and Components\n",
    "Plot the numerators, denominators, and targeting ratios with confidence intervals for each groundwater productivity category."
   ]
  },
  {
   "cell_type": "code",
   "execution_count": null,
   "metadata": {},
   "outputs": [],
   "source": [
    "# Ensure the correct order of the groundwater productivity categories for plotting\n",
    "desired_order = ['VL', 'L', 'LM', 'M', 'H', 'VH']\n",
    "df_targeting_ratios['GW_prod_cat_L_s'] = pd.Categorical(df_targeting_ratios['GW_prod_cat_L_s'], categories=desired_order, ordered=True)\n",
    "df_targeting_ratios = df_targeting_ratios.sort_values('GW_prod_cat_L_s')\n",
    "\n",
    "plt.figure(figsize=(14, 7))\n",
    "plt.subplot(1, 2, 1)\n",
    "plt.bar(df_targeting_ratios['GW_prod_cat_L_s'], df_targeting_ratios['Numerator'], color='seagreen')\n",
    "plt.title('Numerators by Groundwater Productivity Category')\n",
    "plt.xlabel('Groundwater Productivity Category')\n",
    "plt.ylabel('Numerator Value')\n",
    "plt.grid(axis='y', linestyle='--', linewidth=0.5, alpha=0.7)\n",
    "plt.subplot(1, 2, 2)\n",
    "plt.bar(df_targeting_ratios['GW_prod_cat_L_s'], df_targeting_ratios['Denominator'], color='darkolivegreen')\n",
    "plt.title('Denominators by Groundwater Productivity Category')\n",
    "plt.xlabel('Groundwater Productivity Category')\n",
    "plt.ylabel('Denominator Value')\n",
    "plt.grid(axis='y', linestyle='--', linewidth=0.5, alpha=0.7)\n",
    "plt.tight_layout()\n",
    "plt.show()\n",
    "\n",
    "plt.figure(figsize=(12, 6))\n",
    "ratios = df_targeting_ratios['Targeting_Ratio']\n",
    "lower_errors = ratios - df_targeting_ratios['CI_Lower']\n",
    "upper_errors = df_targeting_ratios['CI_Upper'] - ratios\n",
    "plt.errorbar(df_targeting_ratios['GW_prod_cat_L_s'], ratios, yerr=[lower_errors, upper_errors],\n",
    "             fmt='o', ecolor='darkgreen', capsize=5, elinewidth=2, markeredgewidth=2, color='seagreen')\n",
    "plt.axhline(y=1, color='olivedrab', linestyle='--', linewidth=1, label='Reference Line at 1')\n",
    "plt.xlabel('Groundwater Productivity Category')\n",
    "plt.ylabel('Targeting Ratio')\n",
    "plt.title('Targeting Ratios with 95% Confidence Intervals')\n",
    "plt.xticks(rotation=45)\n",
    "plt.grid(axis='y', linestyle='--', linewidth=0.5, alpha=0.7)\n",
    "plt.tight_layout()\n",
    "plt.legend()\n",
    "plt.show()"
   ]
  }
 ],
 "metadata": {
  "kernelspec": {
   "display_name": "irrigation",
   "language": "python",
   "name": "python3"
  },
  "language_info": {
   "codemirror_mode": {
    "name": "ipython",
    "version": 3
   },
   "file_extension": ".py",
   "mimetype": "text/x-python",
   "name": "python",
   "nbconvert_exporter": "python",
   "pygments_lexer": "ipython3",
   "version": "3.12.4"
  }
 },
 "nbformat": 4,
 "nbformat_minor": 2
}
