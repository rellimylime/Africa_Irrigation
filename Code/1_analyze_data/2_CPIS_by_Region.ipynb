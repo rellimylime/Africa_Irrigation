{
 "cells": [
  {
   "cell_type": "markdown",
   "metadata": {},
   "source": [
    "#### Description\n",
    "This notebook examines the percent increase in CPIS area by region and the percent of irrigated land CPIS comprise by region. It now utilizes utility functions for configuration, path resolution, and country ISO codes, and includes improved code comments and markdown explanations."
   ]
  },
  {
   "cell_type": "markdown",
   "metadata": {},
   "source": [
    "## 1. Import Required Libraries and Utilities\n",
    "Import all necessary libraries and utility functions for configuration, path resolution, and country ISO codes."
   ]
  },
  {
   "cell_type": "code",
   "execution_count": 1,
   "metadata": {},
   "outputs": [],
   "source": [
    "# Import standard libraries and utility functions\n",
    "import pandas as pd\n",
    "import matplotlib.pyplot as plt\n",
    "import sys\n",
    "import os\n",
    "\n",
    "# Add the project root to sys.path so we can import from Code.utils everywhere\n",
    "project_root = os.path.abspath(os.path.join(os.getcwd(), '..', '..'))\n",
    "if project_root not in sys.path:\n",
    "    sys.path.insert(0, project_root)\n",
    "\n",
    "from Code.utils.utility import load_config, resolve_path, regions_dict, region_names\n",
    "\n",
    "# Load configuration\n",
    "config = load_config()\n",
    "\n",
    "# Helper function to read CSVs using config keys\n",
    "read = lambda config_str: pd.read_csv(resolve_path(config[config_str]))"
   ]
  },
  {
   "cell_type": "markdown",
   "metadata": {},
   "source": [
    "## 3. Load and Group Data by Region\n",
    "Read CPIS and total irrigation area data, then group and sum by region."
   ]
  },
  {
   "cell_type": "code",
   "execution_count": null,
   "metadata": {},
   "outputs": [],
   "source": [
    "# Load CPIS and total irrigation area data for 2000 and 2021\n",
    "CPIS_area_2000 = read('CPIS_Area_by_Country_2000_csv_path')\n",
    "CPIS_area_2021 = read('CPIS_Area_by_Country_2021_csv_path')\n",
    "total_area_2000 = read('AQUA_AfricaIrrigation_2000')\n",
    "total_area_2021 = read('AQUA_AfricaIrrigation_2021')\n",
    "\n",
    "# Initialize dictionary to store grouped data\n",
    "region_data = {region: {'CPIS_2000': 0, 'CPIS_2021': 0, 'total_2000': 0, 'total_2021': 0} for region in region_names}\n",
    "\n",
    "# Group and sum data for each region\n",
    "for region, isos in regions_dict.items():\n",
    "    region_data[region]['CPIS_2000'] = CPIS_area_2000[CPIS_area_2000['ISO'].isin(isos)]['Area_1000ha'].sum()\n",
    "    region_data[region]['CPIS_2021'] = CPIS_area_2021[CPIS_area_2021['ISO'].isin(isos)]['Area_1000ha'].sum()\n",
    "    region_data[region]['total_2000'] = total_area_2000[total_area_2000['ISO'].isin(isos)]['Value'].sum()\n",
    "    region_data[region]['total_2021'] = total_area_2021[total_area_2021['ISO'].isin(isos)]['Value'].sum()"
   ]
  },
  {
   "cell_type": "markdown",
   "metadata": {},
   "source": [
    "## 4. Calculate Percent Increase in CPIS and Irrigated Area\n",
    "Compute the percent increase in CPIS and total irrigated area for each region."
   ]
  },
  {
   "cell_type": "code",
   "execution_count": null,
   "metadata": {},
   "outputs": [],
   "source": [
    "# Calculate percent increases for each region\n",
    "for region in region_names:\n",
    "    d = region_data[region]\n",
    "    d['percent_increase_CPIS'] = 100 * (d['CPIS_2021'] - d['CPIS_2000']) / d['CPIS_2000'] if d['CPIS_2000'] else 0\n",
    "    d['percent_increase_total'] = 100 * (d['total_2021'] - d['total_2000']) / d['total_2000'] if d['total_2000'] else 0\n",
    "\n",
    "# Print summary of percent increases\n",
    "for region in region_names:\n",
    "    d = region_data[region]\n",
    "    print(f\"{region}: CPIS {'increased' if d['percent_increase_CPIS'] >= 0 else 'decreased'} by {abs(d['percent_increase_CPIS']):.2f}%\")\n",
    "    print(f\"{region}: Total irrigation area {'increased' if d['percent_increase_total'] >= 0 else 'decreased'} by {abs(d['percent_increase_total']):.2f}%\\n\")"
   ]
  },
  {
   "cell_type": "markdown",
   "metadata": {},
   "source": [
    "## 5. Compare CPIS as a Percentage of Irrigated Land\n",
    "Calculate and visualize the share of irrigated land that is CPIS for each region and year."
   ]
  },
  {
   "cell_type": "code",
   "execution_count": null,
   "metadata": {},
   "outputs": [],
   "source": [
    "# Calculate CPIS as a percentage of total irrigated area for each region and year\n",
    "ratios = {region: {'2000': 0, '2021': 0} for region_names}\n",
    "for region in region_names:\n",
    "    d = region_data[region]\n",
    "    ratios[region]['2000'] = (d['CPIS_2000'] / d['total_2000'] * 100) if d['total_2000'] else 0\n",
    "    ratios[region]['2021'] = (d['CPIS_2021'] / d['total_2021'] * 100) if d['total_2021'] else 0\n",
    "\n",
    "# Plot CPIS and total irrigated area for each region\n",
    "fig, axs = plt.subplots(2, 2, figsize=(14, 10))\n",
    "bar_width = 0.35\n",
    "colors = ['#1f77b4', '#ff7f0e']\n",
    "plot_regions = region_names[:4]  # Only plot the first four regions for 2x2 grid\n",
    "\n",
    "for i, region in enumerate(plot_regions):\n",
    "    ax = axs[i // 2, i % 2]\n",
    "    CPIS_vals = [region_data[region]['CPIS_2000'], region_data[region]['CPIS_2021']]\n",
    "    total_vals = [region_data[region]['total_2000'], region_data[region]['total_2021']]\n",
    "    index = [0, 1]\n",
    "    ax.bar([x - bar_width for x in index], CPIS_vals, bar_width, label='CPIS', color=colors[0])\n",
    "    ax.bar(index, total_vals, bar_width, label='Total', color=colors[1])\n",
    "    ax.set_title(f'Irrigation Area in {region}', fontsize=14)\n",
    "    ax.set_ylabel('Area (1000ha)', fontsize=12)\n",
    "    ax.set_xlabel('Year', fontsize=12)\n",
    "    ax.set_xticks(index)\n",
    "    ax.set_xticklabels(['2000', '2021'], fontsize=12)\n",
    "    ax.legend(fontsize=12)\n",
    "    ax.grid(True, linestyle='--', alpha=0.7)\n",
    "    # Annotate with CPIS share\n",
    "    ratio_2000 = f\"In 2000, CPIS comprised {ratios[region]['2000']:.2f}% of irrigated area.\"\n",
    "    ratio_2021 = f\"In 2021, CPIS comprised {ratios[region]['2021']:.2f}% of irrigated area.\"\n",
    "    ax.text(0.5, -0.15, f\"{ratio_2000}\\n{ratio_2021}\", ha='center', va='top', transform=ax.transAxes, fontsize=10)\n",
    "\n",
    "plt.tight_layout(pad=2)\n",
    "plt.savefig(resolve_path(config['2_Figure1']))\n",
    "plt.show()"
   ]
  }
 ],
 "metadata": {
  "kernelspec": {
   "display_name": "irrigation",
   "language": "python",
   "name": "python3"
  },
  "language_info": {
   "codemirror_mode": {
    "name": "ipython",
    "version": 3
   },
   "file_extension": ".py",
   "mimetype": "text/x-python",
   "name": "python",
   "nbconvert_exporter": "python",
   "pygments_lexer": "ipython3",
   "version": "3.12.4"
  }
 },
 "nbformat": 4,
 "nbformat_minor": 2
}
