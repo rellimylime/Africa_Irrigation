{
 "cells": [
  {
   "cell_type": "markdown",
   "id": "561391d9",
   "metadata": {},
   "source": [
    "# GDW Dams Processing"
   ]
  },
  {
   "cell_type": "code",
   "execution_count": 1,
   "id": "4e329911",
   "metadata": {},
   "outputs": [],
   "source": [
    "# Import required libraries\n",
    "import geopandas as gpd\n",
    "import pandas as pd\n",
    "import sys\n",
    "import os\n",
    "\n",
    "# Add the project root to sys.path so we can import from Code.utils everywhere\n",
    "project_root = os.path.abspath(os.path.join(os.getcwd(), '..', '..'))\n",
    "if project_root not in sys.path:\n",
    "    sys.path.insert(0, project_root)\n",
    "\n",
    "from Code.utils.utility import load_config, resolve_path, ssa_iso, africa_iso_countries, africa_iso_countries_filtered\n",
    "from Code.utils.spatial_utility import load_and_reproject, optimized_clip\n",
    "\n",
    "# Load configuration\n",
    "config = load_config()"
   ]
  },
  {
   "cell_type": "markdown",
   "id": "bb2a6969",
   "metadata": {},
   "source": [
    "## Load and spatially join dam and arid region data"
   ]
  },
  {
   "cell_type": "code",
   "execution_count": 2,
   "id": "c02b055d",
   "metadata": {},
   "outputs": [
    {
     "ename": "KeyboardInterrupt",
     "evalue": "",
     "output_type": "error",
     "traceback": [
      "\u001b[0;31m---------------------------------------------------------------------------\u001b[0m",
      "\u001b[0;31mKeyboardInterrupt\u001b[0m                         Traceback (most recent call last)",
      "Cell \u001b[0;32mIn[2], line 7\u001b[0m\n\u001b[1;32m      5\u001b[0m \u001b[38;5;66;03m# Load the GDW dam shapefile\u001b[39;00m\n\u001b[1;32m      6\u001b[0m gdw_dams_path \u001b[38;5;241m=\u001b[39m resolve_path(config[\u001b[38;5;124m'\u001b[39m\u001b[38;5;124mGDW_barrier_shp_path\u001b[39m\u001b[38;5;124m'\u001b[39m])\n\u001b[0;32m----> 7\u001b[0m gdf_dams \u001b[38;5;241m=\u001b[39m \u001b[43mgpd\u001b[49m\u001b[38;5;241;43m.\u001b[39;49m\u001b[43mread_file\u001b[49m\u001b[43m(\u001b[49m\u001b[43mgdw_dams_path\u001b[49m\u001b[43m)\u001b[49m\n\u001b[1;32m      9\u001b[0m \u001b[38;5;66;03m# Ensure both GeoDataFrames have the same CRS\u001b[39;00m\n\u001b[1;32m     10\u001b[0m gdf_ssa_arid \u001b[38;5;241m=\u001b[39m gdf_ssa_arid\u001b[38;5;241m.\u001b[39mto_crs(gdf_dams\u001b[38;5;241m.\u001b[39mcrs)\n",
      "File \u001b[0;32m~/miniconda3/envs/irrigation/lib/python3.12/site-packages/geopandas/io/file.py:289\u001b[0m, in \u001b[0;36m_read_file\u001b[0;34m(filename, bbox, mask, rows, engine, **kwargs)\u001b[0m\n\u001b[1;32m    286\u001b[0m     \u001b[38;5;28;01melse\u001b[39;00m:\n\u001b[1;32m    287\u001b[0m         path_or_bytes \u001b[38;5;241m=\u001b[39m filename\n\u001b[0;32m--> 289\u001b[0m     \u001b[38;5;28;01mreturn\u001b[39;00m \u001b[43m_read_file_fiona\u001b[49m\u001b[43m(\u001b[49m\n\u001b[1;32m    290\u001b[0m \u001b[43m        \u001b[49m\u001b[43mpath_or_bytes\u001b[49m\u001b[43m,\u001b[49m\u001b[43m \u001b[49m\u001b[43mfrom_bytes\u001b[49m\u001b[43m,\u001b[49m\u001b[43m \u001b[49m\u001b[43mbbox\u001b[49m\u001b[38;5;241;43m=\u001b[39;49m\u001b[43mbbox\u001b[49m\u001b[43m,\u001b[49m\u001b[43m \u001b[49m\u001b[43mmask\u001b[49m\u001b[38;5;241;43m=\u001b[39;49m\u001b[43mmask\u001b[49m\u001b[43m,\u001b[49m\u001b[43m \u001b[49m\u001b[43mrows\u001b[49m\u001b[38;5;241;43m=\u001b[39;49m\u001b[43mrows\u001b[49m\u001b[43m,\u001b[49m\u001b[43m \u001b[49m\u001b[38;5;241;43m*\u001b[39;49m\u001b[38;5;241;43m*\u001b[39;49m\u001b[43mkwargs\u001b[49m\n\u001b[1;32m    291\u001b[0m \u001b[43m    \u001b[49m\u001b[43m)\u001b[49m\n\u001b[1;32m    293\u001b[0m \u001b[38;5;28;01melse\u001b[39;00m:\n\u001b[1;32m    294\u001b[0m     \u001b[38;5;28;01mraise\u001b[39;00m \u001b[38;5;167;01mValueError\u001b[39;00m(\u001b[38;5;124mf\u001b[39m\u001b[38;5;124m\"\u001b[39m\u001b[38;5;124munknown engine \u001b[39m\u001b[38;5;124m'\u001b[39m\u001b[38;5;132;01m{\u001b[39;00mengine\u001b[38;5;132;01m}\u001b[39;00m\u001b[38;5;124m'\u001b[39m\u001b[38;5;124m\"\u001b[39m)\n",
      "File \u001b[0;32m~/miniconda3/envs/irrigation/lib/python3.12/site-packages/geopandas/io/file.py:372\u001b[0m, in \u001b[0;36m_read_file_fiona\u001b[0;34m(path_or_bytes, from_bytes, bbox, mask, rows, where, **kwargs)\u001b[0m\n\u001b[1;32m    368\u001b[0m     df \u001b[38;5;241m=\u001b[39m pd\u001b[38;5;241m.\u001b[39mDataFrame(\n\u001b[1;32m    369\u001b[0m         [record[\u001b[38;5;124m\"\u001b[39m\u001b[38;5;124mproperties\u001b[39m\u001b[38;5;124m\"\u001b[39m] \u001b[38;5;28;01mfor\u001b[39;00m record \u001b[38;5;129;01min\u001b[39;00m f_filt], columns\u001b[38;5;241m=\u001b[39mcolumns\n\u001b[1;32m    370\u001b[0m     )\n\u001b[1;32m    371\u001b[0m \u001b[38;5;28;01melse\u001b[39;00m:\n\u001b[0;32m--> 372\u001b[0m     df \u001b[38;5;241m=\u001b[39m \u001b[43mGeoDataFrame\u001b[49m\u001b[38;5;241;43m.\u001b[39;49m\u001b[43mfrom_features\u001b[49m\u001b[43m(\u001b[49m\n\u001b[1;32m    373\u001b[0m \u001b[43m        \u001b[49m\u001b[43mf_filt\u001b[49m\u001b[43m,\u001b[49m\u001b[43m \u001b[49m\u001b[43mcrs\u001b[49m\u001b[38;5;241;43m=\u001b[39;49m\u001b[43mcrs\u001b[49m\u001b[43m,\u001b[49m\u001b[43m \u001b[49m\u001b[43mcolumns\u001b[49m\u001b[38;5;241;43m=\u001b[39;49m\u001b[43mcolumns\u001b[49m\u001b[43m \u001b[49m\u001b[38;5;241;43m+\u001b[39;49m\u001b[43m \u001b[49m\u001b[43m[\u001b[49m\u001b[38;5;124;43m\"\u001b[39;49m\u001b[38;5;124;43mgeometry\u001b[39;49m\u001b[38;5;124;43m\"\u001b[39;49m\u001b[43m]\u001b[49m\n\u001b[1;32m    374\u001b[0m \u001b[43m    \u001b[49m\u001b[43m)\u001b[49m\n\u001b[1;32m    375\u001b[0m \u001b[38;5;28;01mfor\u001b[39;00m k \u001b[38;5;129;01min\u001b[39;00m datetime_fields:\n\u001b[1;32m    376\u001b[0m     as_dt \u001b[38;5;241m=\u001b[39m \u001b[38;5;28;01mNone\u001b[39;00m\n",
      "File \u001b[0;32m~/miniconda3/envs/irrigation/lib/python3.12/site-packages/geopandas/geodataframe.py:642\u001b[0m, in \u001b[0;36mGeoDataFrame.from_features\u001b[0;34m(cls, features, crs, columns)\u001b[0m\n\u001b[1;32m    639\u001b[0m \u001b[38;5;28;01mfor\u001b[39;00m feature \u001b[38;5;129;01min\u001b[39;00m features_lst:\n\u001b[1;32m    640\u001b[0m     \u001b[38;5;66;03m# load geometry\u001b[39;00m\n\u001b[1;32m    641\u001b[0m     \u001b[38;5;28;01mif\u001b[39;00m \u001b[38;5;28mhasattr\u001b[39m(feature, \u001b[38;5;124m\"\u001b[39m\u001b[38;5;124m__geo_interface__\u001b[39m\u001b[38;5;124m\"\u001b[39m):\n\u001b[0;32m--> 642\u001b[0m         feature \u001b[38;5;241m=\u001b[39m \u001b[43mfeature\u001b[49m\u001b[38;5;241;43m.\u001b[39;49m\u001b[43m__geo_interface__\u001b[49m\n\u001b[1;32m    643\u001b[0m     row \u001b[38;5;241m=\u001b[39m {\n\u001b[1;32m    644\u001b[0m         \u001b[38;5;124m\"\u001b[39m\u001b[38;5;124mgeometry\u001b[39m\u001b[38;5;124m\"\u001b[39m: shape(feature[\u001b[38;5;124m\"\u001b[39m\u001b[38;5;124mgeometry\u001b[39m\u001b[38;5;124m\"\u001b[39m]) \u001b[38;5;28;01mif\u001b[39;00m feature[\u001b[38;5;124m\"\u001b[39m\u001b[38;5;124mgeometry\u001b[39m\u001b[38;5;124m\"\u001b[39m] \u001b[38;5;28;01melse\u001b[39;00m \u001b[38;5;28;01mNone\u001b[39;00m\n\u001b[1;32m    645\u001b[0m     }\n\u001b[1;32m    646\u001b[0m     \u001b[38;5;66;03m# load properties\u001b[39;00m\n",
      "File \u001b[0;32m~/miniconda3/envs/irrigation/lib/python3.12/site-packages/fiona/model.py:367\u001b[0m, in \u001b[0;36mFeature.__geo_interface__\u001b[0;34m(self)\u001b[0m\n\u001b[1;32m    365\u001b[0m \u001b[38;5;129m@property\u001b[39m\n\u001b[1;32m    366\u001b[0m \u001b[38;5;28;01mdef\u001b[39;00m \u001b[38;5;21m__geo_interface__\u001b[39m(\u001b[38;5;28mself\u001b[39m):\n\u001b[0;32m--> 367\u001b[0m     \u001b[38;5;28;01mreturn\u001b[39;00m \u001b[43mObjectEncoder\u001b[49m\u001b[43m(\u001b[49m\u001b[43m)\u001b[49m\u001b[38;5;241;43m.\u001b[39;49m\u001b[43mdefault\u001b[49m\u001b[43m(\u001b[49m\u001b[38;5;28;43mself\u001b[39;49m\u001b[43m)\u001b[49m\n",
      "File \u001b[0;32m~/miniconda3/envs/irrigation/lib/python3.12/site-packages/fiona/model.py:388\u001b[0m, in \u001b[0;36mObjectEncoder.default\u001b[0;34m(self, o)\u001b[0m\n\u001b[1;32m    386\u001b[0m \u001b[38;5;28;01mdef\u001b[39;00m \u001b[38;5;21mdefault\u001b[39m(\u001b[38;5;28mself\u001b[39m, o):\n\u001b[1;32m    387\u001b[0m     \u001b[38;5;28;01mif\u001b[39;00m \u001b[38;5;28misinstance\u001b[39m(o, Object):\n\u001b[0;32m--> 388\u001b[0m         o_dict \u001b[38;5;241m=\u001b[39m {k: \u001b[38;5;28;43mself\u001b[39;49m\u001b[38;5;241;43m.\u001b[39;49m\u001b[43mdefault\u001b[49m\u001b[43m(\u001b[49m\u001b[43mv\u001b[49m\u001b[43m)\u001b[49m \u001b[38;5;28;01mfor\u001b[39;00m k, v \u001b[38;5;129;01min\u001b[39;00m o\u001b[38;5;241m.\u001b[39mitems()}\n\u001b[1;32m    389\u001b[0m         \u001b[38;5;28;01mif\u001b[39;00m \u001b[38;5;28misinstance\u001b[39m(o, Geometry):\n\u001b[1;32m    390\u001b[0m             \u001b[38;5;28;01mif\u001b[39;00m o\u001b[38;5;241m.\u001b[39mtype \u001b[38;5;241m==\u001b[39m \u001b[38;5;124m\"\u001b[39m\u001b[38;5;124mGeometryCollection\u001b[39m\u001b[38;5;124m\"\u001b[39m:\n",
      "File \u001b[0;32m~/miniconda3/envs/irrigation/lib/python3.12/site-packages/fiona/model.py:388\u001b[0m, in \u001b[0;36mObjectEncoder.default\u001b[0;34m(self, o)\u001b[0m\n\u001b[1;32m    386\u001b[0m \u001b[38;5;28;01mdef\u001b[39;00m \u001b[38;5;21mdefault\u001b[39m(\u001b[38;5;28mself\u001b[39m, o):\n\u001b[1;32m    387\u001b[0m     \u001b[38;5;28;01mif\u001b[39;00m \u001b[38;5;28misinstance\u001b[39m(o, Object):\n\u001b[0;32m--> 388\u001b[0m         o_dict \u001b[38;5;241m=\u001b[39m \u001b[43m{\u001b[49m\u001b[43mk\u001b[49m\u001b[43m:\u001b[49m\u001b[43m \u001b[49m\u001b[38;5;28;43mself\u001b[39;49m\u001b[38;5;241;43m.\u001b[39;49m\u001b[43mdefault\u001b[49m\u001b[43m(\u001b[49m\u001b[43mv\u001b[49m\u001b[43m)\u001b[49m\u001b[43m \u001b[49m\u001b[38;5;28;43;01mfor\u001b[39;49;00m\u001b[43m \u001b[49m\u001b[43mk\u001b[49m\u001b[43m,\u001b[49m\u001b[43m \u001b[49m\u001b[43mv\u001b[49m\u001b[43m \u001b[49m\u001b[38;5;129;43;01min\u001b[39;49;00m\u001b[43m \u001b[49m\u001b[43mo\u001b[49m\u001b[38;5;241;43m.\u001b[39;49m\u001b[43mitems\u001b[49m\u001b[43m(\u001b[49m\u001b[43m)\u001b[49m\u001b[43m}\u001b[49m\n\u001b[1;32m    389\u001b[0m         \u001b[38;5;28;01mif\u001b[39;00m \u001b[38;5;28misinstance\u001b[39m(o, Geometry):\n\u001b[1;32m    390\u001b[0m             \u001b[38;5;28;01mif\u001b[39;00m o\u001b[38;5;241m.\u001b[39mtype \u001b[38;5;241m==\u001b[39m \u001b[38;5;124m\"\u001b[39m\u001b[38;5;124mGeometryCollection\u001b[39m\u001b[38;5;124m\"\u001b[39m:\n",
      "File \u001b[0;32m<frozen _collections_abc>:894\u001b[0m, in \u001b[0;36m__iter__\u001b[0;34m(self)\u001b[0m\n",
      "File \u001b[0;32m~/miniconda3/envs/irrigation/lib/python3.12/site-packages/fiona/model.py:139\u001b[0m, in \u001b[0;36mObject.__getitem__\u001b[0;34m(self, item)\u001b[0m\n\u001b[1;32m    137\u001b[0m \u001b[38;5;28;01mdef\u001b[39;00m \u001b[38;5;21m__getitem__\u001b[39m(\u001b[38;5;28mself\u001b[39m, item):\n\u001b[1;32m    138\u001b[0m     props \u001b[38;5;241m=\u001b[39m \u001b[38;5;28mself\u001b[39m\u001b[38;5;241m.\u001b[39m_props()\n\u001b[0;32m--> 139\u001b[0m     \u001b[43mprops\u001b[49m\u001b[38;5;241;43m.\u001b[39;49m\u001b[43mupdate\u001b[49m\u001b[43m(\u001b[49m\u001b[38;5;241;43m*\u001b[39;49m\u001b[38;5;241;43m*\u001b[39;49m\u001b[38;5;28;43mself\u001b[39;49m\u001b[38;5;241;43m.\u001b[39;49m\u001b[43m_data\u001b[49m\u001b[43m)\u001b[49m\n\u001b[1;32m    140\u001b[0m     \u001b[38;5;28;01mreturn\u001b[39;00m props[item]\n",
      "\u001b[0;31mKeyboardInterrupt\u001b[0m: "
     ]
    }
   ],
   "source": [
    "# Load the SSA Arid by Country shapefile\n",
    "ssa_arid_path = resolve_path(config['SSA_Arid_by_Country_shp_path'])\n",
    "gdf_ssa_arid = gpd.read_file(ssa_arid_path)\n",
    "\n",
    "# Load the GDW dam shapefile\n",
    "gdw_dams_path = resolve_path(config['GDW_barrier_shp_path'])\n",
    "gdf_dams = gpd.read_file(gdw_dams_path)\n",
    "\n",
    "# Ensure both GeoDataFrames have the same CRS\n",
    "gdf_ssa_arid = gdf_ssa_arid.to_crs(gdf_dams.crs)\n",
    "\n",
    "# Perform a spatial join to assign ISO and NAME_0 from SSA Arid regions to dams\n",
    "gdf_dams_spatial = gpd.sjoin(\n",
    "    gdf_dams[['geometry', 'COUNTRY', 'GDW_ID']],  # Include the 'COUNTRY' and 'GDW_ID' column explicitly\n",
    "    gdf_ssa_arid[['geometry', 'ISO', 'NAME_0']],\n",
    "    how=\"inner\",\n",
    "    predicate=\"intersects\",\n",
    "    rsuffix=\"_bounds\"  # Add a suffix to avoid column name conflicts\n",
    ")\n",
    "\n",
    "# Assign ISO from the utility file using the \"Country\" column\n",
    "country_to_iso = {country: iso for iso, countries in africa_iso_countries_filtered.items() for country in countries}\n",
    "gdf_dams_spatial['ISO_from_country'] = gdf_dams_spatial['COUNTRY'].map(country_to_iso)\n",
    "\n",
    "# Filter dams that are inside the arid SSA bounds\n",
    "dams_in_arid_ssa = gdf_dams[gdf_dams['GDW_ID'].isin(gdf_dams_spatial['GDW_ID'])].copy()"
   ]
  },
  {
   "cell_type": "markdown",
   "id": "259127f7",
   "metadata": {},
   "source": [
    "## Validate ISO matching and save arid SSA dams"
   ]
  },
  {
   "cell_type": "code",
   "execution_count": null,
   "id": "2a8c394e",
   "metadata": {},
   "outputs": [
    {
     "name": "stdout",
     "output_type": "stream",
     "text": [
      "Total dams spatially matched: 2764\n",
      "Number of dams with matching ISOs: 2758\n",
      "Number of dams with mismatched ISOs: 6\n",
      "The following dams have mismatched ISOs:\n",
      "       GDW_ID       COUNTRY  ISO ISO_from_country\n",
      "62         63      Zimbabwe  ZMB              ZWE\n",
      "6664     6665      Zimbabwe  ZAF              ZWE\n",
      "40788   40789      Botswana  ZAF              BWA\n",
      "40812   40813      Botswana  ZAF              BWA\n",
      "40833   40834  South Africa  NAM              ZAF\n",
      "40836   40837  South Africa  NAM              ZAF\n",
      "Finalized dataset saved to /home/waves/data/Africa_Irrigation/Data/Processed/GDW_Arid_SSA_Final-shp/GDW_Arid_SSA_Final.shp\n",
      "Finalized dataset saved to /home/waves/data/Africa_Irrigation/Data/Processed/GDW_Arid_SSA_Final-shp/GDW_Arid_SSA_Final.shp\n"
     ]
    }
   ],
   "source": [
    "# Validate ISO matching\n",
    "gdf_dams_spatial['ISO_match'] = gdf_dams_spatial['ISO'] == gdf_dams_spatial['ISO_from_country']\n",
    "\n",
    "# Print validation results\n",
    "num_total_dams = gdf_dams_spatial.shape[0]\n",
    "num_matching_isos = gdf_dams_spatial['ISO_match'].sum()\n",
    "num_mismatched_isos = num_total_dams - num_matching_isos\n",
    "\n",
    "print(f\"Total dams spatially matched: {num_total_dams}\")\n",
    "print(f\"Number of dams with matching ISOs: {num_matching_isos}\")\n",
    "print(f\"Number of dams with mismatched ISOs: {num_mismatched_isos}\")\n",
    "\n",
    "# Print mismatched rows for inspection\n",
    "if num_mismatched_isos > 0:\n",
    "    print(\"The following dams have mismatched ISOs:\")\n",
    "    print(gdf_dams_spatial[~gdf_dams_spatial['ISO_match']][['GDW_ID','COUNTRY', 'ISO', 'ISO_from_country']].drop_duplicates())\n",
    "else:\n",
    "    print(\"All dams have matching ISOs.\")\n",
    "\n",
    "# Add the ISO_from_country values to the filtered dataset\n",
    "iso_mapping = gdf_dams_spatial.set_index('GDW_ID')['ISO_from_country'].to_dict()\n",
    "dams_in_arid_ssa['ISO'] = dams_in_arid_ssa['GDW_ID'].map(iso_mapping)\n",
    "\n",
    "# Save the finalized dataset to a shapefile\n",
    "output_path = resolve_path(config['GDW_Arid_SSA_Final_shp_path'])\n",
    "dams_in_arid_ssa.to_file(output_path, driver=\"ESRI Shapefile\")\n",
    "\n",
    "print(f\"Finalized dataset saved to {output_path}\")"
   ]
  },
  {
   "cell_type": "markdown",
   "id": "6ca94b32",
   "metadata": {},
   "source": [
    "## Filter for irrigation dams and save"
   ]
  },
  {
   "cell_type": "code",
   "execution_count": 7,
   "id": "c08d70ca",
   "metadata": {},
   "outputs": [
    {
     "name": "stdout",
     "output_type": "stream",
     "text": [
      "Index(['GDW_ID', 'RES_NAME', 'DAM_NAME', 'ALT_NAME', 'DAM_TYPE', 'LAKE_CTRL',\n",
      "       'RIVER', 'ALT_RIVER', 'MAIN_BASIN', 'SUB_BASIN', 'COUNTRY', 'SEC_CNTRY',\n",
      "       'ADMIN_UNIT', 'SEC_ADMIN', 'NEAR_CITY', 'ALT_CITY', 'YEAR_DAM',\n",
      "       'PRE_YEAR', 'YEAR_SRC', 'ALT_YEAR', 'REM_YEAR', 'TIMELINE', 'YEAR_TXT',\n",
      "       'DAM_HGT_M', 'ALT_HGT_M', 'DAM_LEN_M', 'ALT_LEN_M', 'AREA_SKM',\n",
      "       'AREA_POLY', 'AREA_REP', 'AREA_MAX', 'AREA_MIN', 'CAP_MCM', 'CAP_MAX',\n",
      "       'CAP_REP', 'CAP_MIN', 'DEPTH_M', 'DIS_AVG_LS', 'DOR_PC', 'ELEV_MASL',\n",
      "       'CATCH_SKM', 'CATCH_REP', 'POWER_MW', 'DATA_INFO', 'USE_IRRI',\n",
      "       'USE_ELEC', 'USE_SUPP', 'USE_FCON', 'USE_RECR', 'USE_NAVI', 'USE_FISH',\n",
      "       'USE_PCON', 'USE_LIVE', 'USE_OTHR', 'MAIN_USE', 'MULTI_DAMS',\n",
      "       'COMMENTS', 'URL', 'QUALITY', 'EDITOR', 'LONG_RIV', 'LAT_RIV',\n",
      "       'LONG_DAM', 'LAT_DAM', 'ORIG_SRC', 'POLY_SRC', 'GRAND_ID', 'HYRIV_ID',\n",
      "       'INSTREAM', 'HYLAK_ID', 'HYBAS_L12', 'ISO', 'geometry'],\n",
      "      dtype='object')\n",
      "Number of dams before filtering by MAIN_USE: 2764\n",
      "Number of dams after filtering by MAIN_USE: 270\n",
      "Number of dams after filtering by DAM_HGT_M: 171\n",
      "Finalized dataset saved to /home/waves/data/Africa_Irrigation/Data/Processed/GDW_Arid_SSA_Final-shp/GDW_Arid_SSA_Final_Irr.shp\n"
     ]
    }
   ],
   "source": [
    "\n",
    "dams_in_arid_ssa = gpd.read_file(resolve_path(config['GDW_Arid_SSA_Final_shp_path']))\n",
    "print(dams_in_arid_ssa.columns)\n",
    "\n",
    "# Filter dams by MAIN_USE (e.g., \"Irrigation\")\n",
    "gdf_dams_irrigation = dams_in_arid_ssa[dams_in_arid_ssa['MAIN_USE'].str.contains('Irrigation', case=False, na=False)].copy()\n",
    "gdf_dams_filtered = gdf_dams_irrigation[gdf_dams_irrigation['DAM_HGT_M'] > 15].copy()\n",
    "\n",
    "# Print the number of dams before and after filtering\n",
    "print(f\"Number of dams before filtering by MAIN_USE: {dams_in_arid_ssa.shape[0]}\")\n",
    "print(f\"Number of dams after filtering by MAIN_USE: {gdf_dams_irrigation.shape[0]}\")\n",
    "print(f\"Number of dams after filtering by DAM_HGT_M: {gdf_dams_filtered.shape[0]}\")\n",
    "\n",
    "# Save the finalized irrigation dataset to a shapefile\n",
    "output_path = resolve_path(config['GDW_Arid_SSA_Final_Irr_shp_path'])\n",
    "gdf_dams_filtered.to_file(output_path, driver=\"ESRI Shapefile\")\n",
    "\n",
    "print(f\"Finalized dataset saved to {output_path}\")"
   ]
  },
  {
   "cell_type": "code",
   "execution_count": 8,
   "id": "91e2eba3",
   "metadata": {},
   "outputs": [
    {
     "name": "stdout",
     "output_type": "stream",
     "text": [
      "Dams existing by 1980: 114\n",
      "Dams existing by 1985: 137\n",
      "Dams existing by 1990: 153\n",
      "Dams existing by 1995: 159\n",
      "Dams existing by 2000: 161\n",
      "Dams existing by 2005: 162\n",
      "Dams existing by 2010: 164\n",
      "Dams existing by 2015: 168\n"
     ]
    }
   ],
   "source": [
    "# import dams geoDataFrame\n",
    "import geopandas as gpd\n",
    "import pandas as pd\n",
    "import numpy as np      \n",
    "\n",
    "gdf_dams_irrigation = gpd.read_file(resolve_path(config['GDW_Arid_SSA_Final_Irr_shp_path']))\n",
    "\n",
    "years = list(range(1980, 2020, 5))\n",
    "dam_counts = {}\n",
    "\n",
    "for year in years:\n",
    "    count = gdf_dams_irrigation[gdf_dams_irrigation['YEAR_DAM'] <= year].shape[0]\n",
    "    dam_counts[year] = count\n",
    "\n",
    "for year, count in dam_counts.items():\n",
    "    print(f\"Dams existing by {year}: {count}\")"
   ]
  }
 ],
 "metadata": {
  "kernelspec": {
   "display_name": "irrigation",
   "language": "python",
   "name": "python3"
  },
  "language_info": {
   "codemirror_mode": {
    "name": "ipython",
    "version": 3
   },
   "file_extension": ".py",
   "mimetype": "text/x-python",
   "name": "python",
   "nbconvert_exporter": "python",
   "pygments_lexer": "ipython3",
   "version": "3.12.4"
  }
 },
 "nbformat": 4,
 "nbformat_minor": 5
}
