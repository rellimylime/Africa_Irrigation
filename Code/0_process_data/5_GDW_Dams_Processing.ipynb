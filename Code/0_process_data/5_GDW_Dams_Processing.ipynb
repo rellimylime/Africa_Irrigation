{
 "cells": [
  {
   "cell_type": "markdown",
   "id": "561391d9",
   "metadata": {},
   "source": [
    "# GDW Dams Processing for Africa: Spatial Join, Validation, and Filtering\n",
    "This notebook processes GDW dam data for Africa by:\n",
    "1. Loading and spatially joining dam and arid region data\n",
    "2. Validating ISO matching and saving arid SSA dams\n",
    "3. Filtering for irrigation dams and saving\n",
    "4. Summarizing dam counts by year"
   ]
  },
  {
   "cell_type": "code",
   "execution_count": null,
   "id": "4e329911",
   "metadata": {},
   "outputs": [],
   "source": [
    "# Import required libraries\n",
    "import geopandas as gpd\n",
    "import sys\n",
    "import os\n",
    "\n",
    "# Add the project root to sys.path so we can import from Code.utils everywhere\n",
    "project_root = os.path.abspath(os.path.join(os.getcwd(), '..', '..'))\n",
    "if project_root not in sys.path:\n",
    "    sys.path.insert(0, project_root)\n",
    "\n",
    "from Code.utils.utility import load_config, resolve_path, africa_iso_countries_filtered\n",
    "# Load configuration\n",
    "config = load_config()"
   ]
  },
  {
   "cell_type": "markdown",
   "id": "bb2a6969",
   "metadata": {},
   "source": [
    "## Load and spatially join dam and arid region data"
   ]
  },
  {
   "cell_type": "code",
   "execution_count": 2,
   "id": "c02b055d",
   "metadata": {},
   "outputs": [],
   "source": [
    "# Load the SSA Arid by Country shapefile\n",
    "ssa_arid_path = resolve_path(config['SSA_Arid_by_Country_shp_path'])\n",
    "gdf_ssa_arid = gpd.read_file(ssa_arid_path)\n",
    "\n",
    "# Load the GDW dam shapefile\n",
    "gdw_dams_path = resolve_path(config['GDW_barrier_shp_path'])\n",
    "gdf_dams = gpd.read_file(gdw_dams_path)\n",
    "\n",
    "# Ensure both GeoDataFrames have the same CRS\n",
    "gdf_ssa_arid = gdf_ssa_arid.to_crs(gdf_dams.crs)\n",
    "\n",
    "# Perform a spatial join to assign ISO and NAME_0 from SSA Arid regions to dams\n",
    "gdf_dams_spatial = gpd.sjoin(\n",
    "    gdf_dams[['geometry', 'COUNTRY', 'GDW_ID']],  # Include the 'COUNTRY' and 'GDW_ID' column explicitly\n",
    "    gdf_ssa_arid[['geometry', 'ISO', 'NAME_0']],\n",
    "    how=\"inner\",\n",
    "    predicate=\"intersects\",\n",
    "    rsuffix=\"_bounds\"  # Add a suffix to avoid column name conflicts\n",
    ")\n",
    "\n",
    "# Assign ISO from the utility file using the \"Country\" column\n",
    "country_to_iso = {country: iso for iso, countries in africa_iso_countries_filtered.items() for country in countries}\n",
    "gdf_dams_spatial['ISO_from_country'] = gdf_dams_spatial['COUNTRY'].map(country_to_iso)\n",
    "\n",
    "# Filter dams that are inside the arid SSA bounds\n",
    "dams_in_arid_ssa = gdf_dams[gdf_dams['GDW_ID'].isin(gdf_dams_spatial['GDW_ID'])].copy()"
   ]
  },
  {
   "cell_type": "markdown",
   "id": "259127f7",
   "metadata": {},
   "source": [
    "## 2. Validate ISO matching and save arid SSA dams"
   ]
  },
  {
   "cell_type": "code",
   "execution_count": 3,
   "id": "2a8c394e",
   "metadata": {},
   "outputs": [
    {
     "name": "stdout",
     "output_type": "stream",
     "text": [
      "Total dams spatially matched: 2764\n",
      "Number of dams with matching ISOs: 2758\n",
      "Number of dams with mismatched ISOs: 6\n",
      "The following dams have mismatched ISOs:\n",
      "       GDW_ID       COUNTRY  ISO ISO_from_country\n",
      "62         63      Zimbabwe  ZMB              ZWE\n",
      "6664     6665      Zimbabwe  ZAF              ZWE\n",
      "40788   40789      Botswana  ZAF              BWA\n",
      "40812   40813      Botswana  ZAF              BWA\n",
      "40833   40834  South Africa  NAM              ZAF\n",
      "40836   40837  South Africa  NAM              ZAF\n",
      "Finalized dataset saved to /home/waves/data/Africa_Irrigation/Data/Processed/GDW_Arid_SSA_Final-shp/GDW_Arid_SSA_Final.shp\n"
     ]
    }
   ],
   "source": [
    "# Validate ISO matching\n",
    "gdf_dams_spatial['ISO_match'] = gdf_dams_spatial['ISO'] == gdf_dams_spatial['ISO_from_country']\n",
    "\n",
    "# Print validation results\n",
    "num_total_dams = gdf_dams_spatial.shape[0]\n",
    "num_matching_isos = gdf_dams_spatial['ISO_match'].sum()\n",
    "num_mismatched_isos = num_total_dams - num_matching_isos\n",
    "\n",
    "print(f\"Total dams spatially matched: {num_total_dams}\")\n",
    "print(f\"Number of dams with matching ISOs: {num_matching_isos}\")\n",
    "print(f\"Number of dams with mismatched ISOs: {num_mismatched_isos}\")\n",
    "\n",
    "# Print mismatched rows for inspection\n",
    "if num_mismatched_isos > 0:\n",
    "    print(\"The following dams have mismatched ISOs:\")\n",
    "    print(gdf_dams_spatial[~gdf_dams_spatial['ISO_match']][['GDW_ID','COUNTRY', 'ISO', 'ISO_from_country']].drop_duplicates())\n",
    "else:\n",
    "    print(\"All dams have matching ISOs.\")\n",
    "\n",
    "# Add the ISO_from_country values to the filtered dataset\n",
    "iso_mapping = gdf_dams_spatial.set_index('GDW_ID')['ISO_from_country'].to_dict()\n",
    "dams_in_arid_ssa['ISO'] = dams_in_arid_ssa['GDW_ID'].map(iso_mapping)\n",
    "\n",
    "# Save the finalized dataset to a shapefile\n",
    "output_path = resolve_path(config['GDW_Arid_SSA_Final_shp_path'])\n",
    "dams_in_arid_ssa.to_file(output_path, driver=\"ESRI Shapefile\")\n",
    "\n",
    "print(f\"Finalized dataset saved to {output_path}\")"
   ]
  },
  {
   "cell_type": "markdown",
   "id": "6ca94b32",
   "metadata": {},
   "source": [
    "## 3. Filter for irrigation dams and save"
   ]
  },
  {
   "cell_type": "code",
   "execution_count": 4,
   "id": "c08d70ca",
   "metadata": {},
   "outputs": [
    {
     "name": "stdout",
     "output_type": "stream",
     "text": [
      "Number of dams before filtering by MAIN_USE: 2764\n",
      "Number of dams after filtering by MAIN_USE: 270\n",
      "Number of dams after filtering by DAM_HGT_M: 171\n",
      "Finalized dataset saved to /home/waves/data/Africa_Irrigation/Data/Processed/GDW_Arid_SSA_Final-shp/GDW_Arid_SSA_Final_Irr.shp\n"
     ]
    }
   ],
   "source": [
    "\n",
    "dams_in_arid_ssa = gpd.read_file(resolve_path(config['GDW_Arid_SSA_Final_shp_path']))\n",
    "#print(dams_in_arid_ssa.columns)\n",
    "\n",
    "# Filter dams by MAIN_USE (e.g., \"Irrigation\")\n",
    "gdf_dams_irrigation = dams_in_arid_ssa[dams_in_arid_ssa['MAIN_USE'].str.contains('Irrigation', case=False, na=False)].copy()\n",
    "gdf_dams_filtered = gdf_dams_irrigation[gdf_dams_irrigation['DAM_HGT_M'] > 15].copy()\n",
    "\n",
    "# Print the number of dams before and after filtering\n",
    "print(f\"Number of dams before filtering by MAIN_USE: {dams_in_arid_ssa.shape[0]}\")\n",
    "print(f\"Number of dams after filtering by MAIN_USE: {gdf_dams_irrigation.shape[0]}\")\n",
    "print(f\"Number of dams after filtering by DAM_HGT_M: {gdf_dams_filtered.shape[0]}\")\n",
    "\n",
    "# Save the finalized irrigation dataset to a shapefile\n",
    "output_path = resolve_path(config['GDW_Arid_SSA_Final_Irr_shp_path'])\n",
    "gdf_dams_filtered.to_file(output_path, driver=\"ESRI Shapefile\")\n",
    "\n",
    "print(f\"Finalized dataset saved to {output_path}\")"
   ]
  },
  {
   "cell_type": "markdown",
   "id": "77b712da",
   "metadata": {},
   "source": [
    "## 4. Summarize dam counts by year"
   ]
  },
  {
   "cell_type": "code",
   "execution_count": 5,
   "id": "91e2eba3",
   "metadata": {},
   "outputs": [
    {
     "name": "stdout",
     "output_type": "stream",
     "text": [
      "Dams existing by 1980: 114\n",
      "Dams existing by 1985: 137\n",
      "Dams existing by 1990: 153\n",
      "Dams existing by 1995: 159\n",
      "Dams existing by 2000: 161\n",
      "Dams existing by 2005: 162\n",
      "Dams existing by 2010: 164\n",
      "Dams existing by 2015: 168\n"
     ]
    }
   ],
   "source": [
    "# Load the finalized irrigation dataset\n",
    "gdf_dams_irrigation = gpd.read_file(resolve_path(config['GDW_Arid_SSA_Final_Irr_shp_path']))\n",
    "\n",
    "# Define time intervals and initialize a dictionary to hold counts\n",
    "years = list(range(1980, 2020, 5))\n",
    "dam_counts = {}\n",
    "\n",
    "# Count dams existing by each time interval\n",
    "for year in years:\n",
    "    count = gdf_dams_irrigation[gdf_dams_irrigation['YEAR_DAM'] <= year].shape[0]\n",
    "    dam_counts[year] = count\n",
    "\n",
    "# Print the counts\n",
    "for year, count in dam_counts.items():\n",
    "    print(f\"Dams existing by {year}: {count}\")"
   ]
  }
 ],
 "metadata": {
  "kernelspec": {
   "display_name": "irrigation",
   "language": "python",
   "name": "python3"
  },
  "language_info": {
   "codemirror_mode": {
    "name": "ipython",
    "version": 3
   },
   "file_extension": ".py",
   "mimetype": "text/x-python",
   "name": "python",
   "nbconvert_exporter": "python",
   "pygments_lexer": "ipython3",
   "version": "3.12.4"
  }
 },
 "nbformat": 4,
 "nbformat_minor": 5
}
