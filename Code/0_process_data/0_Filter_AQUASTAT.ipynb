{
 "cells": [
  {
   "cell_type": "markdown",
   "metadata": {},
   "source": [
    "# Filter AQUASTAT Data\n",
    "\n",
    "This notebook filters AQUASTAT data to African and Sub-Saharan African countries. It:\n",
    "1. Loads the global AQUASTAT dataset\n",
    "2. Adds ISO codes based on country names\n",
    "3. Filters to African and Sub-Saharan African countries\n",
    "4. Saves filtered datasets for all years, 2000, and 2021"
   ]
  },
  {
   "cell_type": "code",
   "execution_count": 1,
   "metadata": {},
   "outputs": [],
   "source": [
    "import sys\n",
    "import os\n",
    "\n",
    "# Add the project root to sys.path so we can import from Code.utils everywhere\n",
    "project_root = os.path.abspath(os.path.join(os.getcwd(), '..', '..'))\n",
    "if project_root not in sys.path:\n",
    "    sys.path.insert(0, project_root)\n",
    "\n",
    "from Code.utils import utility\n",
    "\n",
    "import pandas as pd\n",
    "import geopandas as gpd\n",
    "import unicodedata\n"
   ]
  },
  {
   "cell_type": "markdown",
   "metadata": {},
   "source": [
    "## Load and Filter AQUASTAT Data"
   ]
  },
  {
   "cell_type": "code",
   "execution_count": 2,
   "metadata": {},
   "outputs": [
    {
     "name": "stdout",
     "output_type": "stream",
     "text": [
      "Loaded AQUASTAT data with 5841 rows\n"
     ]
    }
   ],
   "source": [
    "# Load the global AQUASTAT data\n",
    "try:\n",
    "    AQUA_data = pd.read_csv(utility.resolve_path(utility.load_config()['AQUA_World_path']))\n",
    "    print(f\"Loaded AQUASTAT data with {len(AQUA_data)} rows\")\n",
    "except Exception as e:\n",
    "    print(f\"Error loading AQUASTAT data: {e}\")"
   ]
  },
  {
   "cell_type": "markdown",
   "metadata": {},
   "source": [
    "### Filter to All African Countries"
   ]
  },
  {
   "cell_type": "code",
   "execution_count": 3,
   "metadata": {},
   "outputs": [
    {
     "name": "stdout",
     "output_type": "stream",
     "text": [
      "Filtered to 1642 rows for African countries\n",
      "Saved African data to /home/waves/data/Africa_Irrigation/Data/Processed/AQUA_AfricaIrrigation.csv\n"
     ]
    }
   ],
   "source": [
    "# Create a mapping from country names to ISO codes for all African countries\n",
    "ISO_mapping = {country: iso for iso, countries in utility.africa_iso_countries.items() for country in countries}\n",
    "\n",
    "# Add ISO column and filter to African countries\n",
    "AQUA_data['ISO'] = AQUA_data['Area'].map(ISO_mapping)\n",
    "AQUA_data_africa = AQUA_data.dropna(subset=['ISO'])\n",
    "\n",
    "print(f\"Filtered to {len(AQUA_data_africa)} rows for African countries\")\n",
    "\n",
    "# Save the filtered data\n",
    "try:\n",
    "    output_dir_africa = utility.resolve_path(utility.load_config()['AQUA_AfricaIrrigation'])\n",
    "    AQUA_data_africa.to_csv(output_dir_africa, index=False)\n",
    "    print(f\"Saved African data to {output_dir_africa}\")\n",
    "except Exception as e:\n",
    "    print(f\"Error saving African data: {e}\")"
   ]
  },
  {
   "cell_type": "markdown",
   "metadata": {},
   "source": [
    "### Filter to Sub-Saharan African Countries"
   ]
  },
  {
   "cell_type": "code",
   "execution_count": 4,
   "metadata": {},
   "outputs": [
    {
     "name": "stdout",
     "output_type": "stream",
     "text": [
      "Filtered to 1397 rows for Sub-Saharan African countries\n",
      "Saved SSA data to /home/waves/data/Africa_Irrigation/Data/Processed/AQUA_SSAIrrigation.csv\n"
     ]
    }
   ],
   "source": [
    "# Create a mapping from country names to ISO codes for SSA countries\n",
    "ISO_mapping_SSA = {country: iso for iso, countries in utility.africa_iso_countries_filtered.items() for country in countries}\n",
    "\n",
    "# Add ISO column and filter to SSA countries\n",
    "AQUA_data['ISO'] = AQUA_data['Area'].map(ISO_mapping_SSA)\n",
    "AQUA_data_SSA = AQUA_data.dropna(subset=['ISO'])\n",
    "\n",
    "print(f\"Filtered to {len(AQUA_data_SSA)} rows for Sub-Saharan African countries\")\n",
    "\n",
    "# Save the filtered data\n",
    "try:\n",
    "    output_dir_SSA = utility.resolve_path(utility.load_config()['AQUA_SSAIrrigation'])\n",
    "    AQUA_data_SSA.to_csv(output_dir_SSA, index=False)\n",
    "    print(f\"Saved SSA data to {output_dir_SSA}\")\n",
    "except Exception as e:\n",
    "    print(f\"Error saving SSA data: {e}\")"
   ]
  },
  {
   "cell_type": "markdown",
   "metadata": {},
   "source": [
    "## Extract Data for Specific Years (2000 and 2021)"
   ]
  },
  {
   "cell_type": "code",
   "execution_count": 5,
   "metadata": {},
   "outputs": [
    {
     "name": "stdout",
     "output_type": "stream",
     "text": [
      "Africa 2000: 49 rows\n",
      "Africa 2021: 53 rows\n",
      "SSA 2000: 42 rows\n",
      "SSA 2021: 46 rows\n"
     ]
    }
   ],
   "source": [
    "# Filter data for years 2000 and 2021\n",
    "AQUA_Africa2000 = AQUA_data_africa[AQUA_data_africa['Year'] == 2000].copy()\n",
    "AQUA_Africa2021 = AQUA_data_africa[AQUA_data_africa['Year'] == 2021].copy()\n",
    "AQUA_SSA2000 = AQUA_data_SSA[AQUA_data_SSA['Year'] == 2000].copy()\n",
    "AQUA_SSA2021 = AQUA_data_SSA[AQUA_data_SSA['Year'] == 2021].copy()\n",
    "\n",
    "print(f\"Africa 2000: {len(AQUA_Africa2000)} rows\")\n",
    "print(f\"Africa 2021: {len(AQUA_Africa2021)} rows\")\n",
    "print(f\"SSA 2000: {len(AQUA_SSA2000)} rows\")\n",
    "print(f\"SSA 2021: {len(AQUA_SSA2021)} rows\")"
   ]
  },
  {
   "cell_type": "code",
   "execution_count": 6,
   "metadata": {},
   "outputs": [
    {
     "name": "stdout",
     "output_type": "stream",
     "text": [
      "Successfully saved all year-specific datasets\n"
     ]
    }
   ],
   "source": [
    "# Get output paths from config\n",
    "config = utility.load_config()\n",
    "output_paths = {\n",
    "    'Africa2000': utility.resolve_path(config['AQUA_AfricaIrrigation_2000']),\n",
    "    'Africa2021': utility.resolve_path(config['AQUA_AfricaIrrigation_2021']),\n",
    "    'SSA2000': utility.resolve_path(config['AQUA_SSAIrrigation_2000']),\n",
    "    'SSA2021': utility.resolve_path(config['AQUA_SSAIrrigation_2021'])\n",
    "}\n",
    "\n",
    "# Save filtered data for specific years\n",
    "try:\n",
    "    AQUA_Africa2000.to_csv(output_paths['Africa2000'], index=False)\n",
    "    AQUA_Africa2021.to_csv(output_paths['Africa2021'], index=False)\n",
    "    AQUA_SSA2000.to_csv(output_paths['SSA2000'], index=False)\n",
    "    AQUA_SSA2021.to_csv(output_paths['SSA2021'], index=False)\n",
    "    print(\"Successfully saved all year-specific datasets\")\n",
    "except Exception as e:\n",
    "    print(f\"Error saving year-specific datasets: {e}\")"
   ]
  }
 ],
 "metadata": {
  "kernelspec": {
   "display_name": "irrigation",
   "language": "python",
   "name": "python3"
  },
  "language_info": {
   "codemirror_mode": {
    "name": "ipython",
    "version": 3
   },
   "file_extension": ".py",
   "mimetype": "text/x-python",
   "name": "python",
   "nbconvert_exporter": "python",
   "pygments_lexer": "ipython3",
   "version": "3.12.4"
  }
 },
 "nbformat": 4,
 "nbformat_minor": 4
}
