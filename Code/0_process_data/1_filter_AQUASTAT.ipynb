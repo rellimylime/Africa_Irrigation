{
 "cells": [
  {
   "cell_type": "code",
   "execution_count": 72,
   "metadata": {},
   "outputs": [],
   "source": [
    "import pandas as pd\n",
    "import os\n",
    "import yaml\n",
    "import utility"
   ]
  },
  {
   "cell_type": "code",
   "execution_count": 73,
   "metadata": {},
   "outputs": [],
   "source": [
    "#configure config\n",
    "config = utility.load_config()\n",
    "\n",
    "def resolve_path(relative_path):\n",
    "    return os.path.join(config['base_path'], relative_path)\n"
   ]
  },
  {
   "cell_type": "code",
   "execution_count": 74,
   "metadata": {},
   "outputs": [
    {
     "name": "stdout",
     "output_type": "stream",
     "text": [
      "        Country\n",
      "0       Algeria\n",
      "1        Angola\n",
      "2         Benin\n",
      "3      Botswana\n",
      "4  Burkina Faso\n"
     ]
    }
   ],
   "source": [
    "AQUA_data = pd.read_csv(resolve_path(config['AQUA_World_path']))\n",
    "african_countries = pd.read_csv(resolve_path(config['African_countries_path']))\n",
    "\n",
    "print(african_countries.head())"
   ]
  },
  {
   "cell_type": "code",
   "execution_count": 75,
   "metadata": {},
   "outputs": [
    {
     "name": "stdout",
     "output_type": "stream",
     "text": [
      "['Algeria', 'Angola', 'Benin', 'Botswana', 'Burkina Faso', 'Burundi', 'Cabo Verde', 'Cameroon', 'Central African Republic', 'Chad', \"Côte d'Ivoire\", 'Comoros', 'Congo', 'Djibouti', 'Egypt', 'Equatorial Guinea', 'Eritrea', 'Eswatini', 'Ethiopia', 'French Southern Territories', 'Gabon', 'Gambia', 'Ghana', 'Guinea', 'Guinea-Bissau', 'Kenya', 'Lesotho', 'Liberia', 'Libya', 'Madagascar', 'Malawi', 'Mali', 'Mauritania', 'Mauritius', 'Mayotte', 'Morocco', 'Mozambique', 'Namibia', 'Niger', 'Nigeria', 'Republic of Congo', 'Reunion', 'Rwanda', 'Sao Tome and Principe', 'Senegal', 'Seychelles', 'Sierra Leone', 'Somalia', 'South Africa', 'South Sudan', 'Sudan', 'Swaziland', 'Tanzania', 'Togo', 'Tunisia', 'Uganda', 'Western Sahara', 'Zambia', 'Zimbabwe']\n",
      "                           VariableGroup  \\\n",
      "82   Irrigation and drainage development   \n",
      "146  Irrigation and drainage development   \n",
      "603  Irrigation and drainage development   \n",
      "709  Irrigation and drainage development   \n",
      "809  Irrigation and drainage development   \n",
      "\n",
      "                                     Subgroup  \\\n",
      "82   Area under agricultural water management   \n",
      "146  Area under agricultural water management   \n",
      "603  Area under agricultural water management   \n",
      "709  Area under agricultural water management   \n",
      "809  Area under agricultural water management   \n",
      "\n",
      "                                Variable          Area  Year       Value  \\\n",
      "82   Area equipped for irrigation: total       Algeria  2000  567.900000   \n",
      "146  Area equipped for irrigation: total        Angola  2000   84.608333   \n",
      "603  Area equipped for irrigation: total         Benin  2000   11.752500   \n",
      "709  Area equipped for irrigation: total      Botswana  2000    1.427400   \n",
      "809  Area equipped for irrigation: total  Burkina Faso  2000   24.647778   \n",
      "\n",
      "        Unit Symbol  IsAggregate  \n",
      "82   1000 ha      I        False  \n",
      "146  1000 ha      I        False  \n",
      "603  1000 ha      E        False  \n",
      "709  1000 ha      I        False  \n",
      "809  1000 ha      E        False  \n"
     ]
    }
   ],
   "source": [
    "# Group 2000 and 2021 data for African countries\n",
    "african_countries_list = african_countries['Country'].tolist()\n",
    "\n",
    "print(african_countries_list)\n",
    "\n",
    "AQUA_Africa2000 = AQUA_data[(AQUA_data['Year'] == 2000) & (AQUA_data['Area'].isin(african_countries['Country']))].copy()\n",
    "\n",
    "\n",
    "AQUA_Africa2021 = AQUA_data[(AQUA_data['Year'] == 2021) & (AQUA_data['Area'].isin(african_countries['Country']))].copy()\n",
    "\n",
    "print(AQUA_Africa2000.head())"
   ]
  },
  {
   "cell_type": "code",
   "execution_count": 76,
   "metadata": {},
   "outputs": [],
   "source": [
    "# Create new CSV locations and files for filtered data\n",
    "\n",
    "output_dir2000 = resolve_path(config['AQUA_AfricaIrrigation_2000'])\n",
    "output_dir2021 = resolve_path(config['AQUA_AfricaIrrigation_2021'])\n",
    "\n",
    "\n",
    "AQUA_Africa2000.to_csv(output_dir2000, index=False)\n",
    "AQUA_Africa2021.to_csv(output_dir2021, index=False)\n",
    "\n"
   ]
  },
  {
   "cell_type": "code",
   "execution_count": 77,
   "metadata": {},
   "outputs": [],
   "source": [
    "AQUA_Africa = AQUA_data[(AQUA_data['Area'].isin(african_countries['Country'])) & (AQUA_data['Variable'] == 'Area equipped for irrigation: total')].copy()\n",
    "\n",
    "output_dir_all = resolve_path(config['AQUA_AfricaIrrigation'])\n",
    "\n",
    "AQUA_Africa.to_csv(output_dir_all, index = False)\n",
    "\n"
   ]
  }
 ],
 "metadata": {
  "kernelspec": {
   "display_name": "Python (Irrigation)",
   "language": "python",
   "name": "irrigation"
  },
  "language_info": {
   "codemirror_mode": {
    "name": "ipython",
    "version": 3
   },
   "file_extension": ".py",
   "mimetype": "text/x-python",
   "name": "python",
   "nbconvert_exporter": "python",
   "pygments_lexer": "ipython3",
   "version": "3.12.4"
  }
 },
 "nbformat": 4,
 "nbformat_minor": 2
}
