{
 "cells": [
  {
   "cell_type": "code",
   "execution_count": 22,
   "metadata": {},
   "outputs": [],
   "source": [
    "import pandas as pd\n",
    "import os\n",
    "import yaml\n",
    "import utility"
   ]
  },
  {
   "cell_type": "code",
   "execution_count": 23,
   "metadata": {},
   "outputs": [],
   "source": [
    "#configure config\n",
    "config = utility.load_config()\n",
    "\n",
    "def resolve_path(relative_path):\n",
    "    return os.path.join(config['base_path'], relative_path)\n"
   ]
  },
  {
   "cell_type": "code",
   "execution_count": 24,
   "metadata": {},
   "outputs": [],
   "source": [
    "african_countries = ['Algeria', 'Angola', 'Benin', 'Botswana', 'Burkina Faso', 'Burundi', 'Cabo Verde', 'Cameroon', \n",
    "                     'Central African Republic', 'Chad', 'Comoros', 'Congo', 'Djibouti', 'Egypt', 'Equatorial Guinea', \n",
    "                     'Eritrea', 'Eswatini', 'Ethiopia', 'Gabon', 'Gambia', 'Ghana', 'Guinea', 'Guinea-Bissau', 'Ivory Coast', \n",
    "                     'Kenya', 'Lesotho', 'Liberia', 'Libya', 'Madagascar', 'Malawi', 'Mali', 'Mauritania', 'Mauritius', \n",
    "                     'Morocco', 'Mozambique', 'Namibia', 'Niger', 'Nigeria', 'Rwanda', 'Sao Tome and Principe', 'Senegal', \n",
    "                     'Seychelles', 'Sierra Leone', 'Somalia', 'South Africa', 'South Sudan', 'Sudan', 'Tanzania', \n",
    "                     'Togo', 'Tunisia', 'Uganda', 'Zambia', 'Zimbabwe']\n"
   ]
  },
  {
   "cell_type": "code",
   "execution_count": 16,
   "metadata": {},
   "outputs": [],
   "source": [
    "AQUA = pd.read_csv(resolve_path(config['AQUA_World_path']))"
   ]
  },
  {
   "cell_type": "code",
   "execution_count": 25,
   "metadata": {},
   "outputs": [],
   "source": [
    "# Group 2000 and 2020 data for African countries\n",
    "\n",
    "AQUA_Africa2000 = AQUA[(AQUA['Year'] == 2000) & (AQUA['Area'].isin(african_countries)) & (AQUA['Variable'] == 'Area equipped for irrigation: total')].copy()\n",
    "\n",
    "\n",
    "AQUA_Africa2020 = AQUA[(AQUA['Year'] == 2020) & (AQUA['Area'].isin(african_countries)) & (AQUA['Variable'] == 'Area equipped for irrigation: total')].copy()\n",
    "\n"
   ]
  },
  {
   "cell_type": "code",
   "execution_count": 26,
   "metadata": {},
   "outputs": [],
   "source": [
    "# Create new CSV locations and files for filtered data\n",
    "\n",
    "output_dir2000 = resolve_path(config['AQUA_AfricaIrrigation_2000'])\n",
    "output_dir2020 = resolve_path(config['AQUA_AfricaIrrigation_2020'])\n",
    "\n",
    "\n",
    "AQUA_Africa2000.to_csv(output_dir2000, index=False)\n",
    "AQUA_Africa2020.to_csv(output_dir2020, index=False)\n",
    "\n"
   ]
  },
  {
   "cell_type": "code",
   "execution_count": 21,
   "metadata": {},
   "outputs": [],
   "source": [
    "AQUA_Africa = AQUA[(AQUA['Area'].isin(african_countries)) & (AQUA['Variable'] == 'Area equipped for irrigation: total')].copy()\n",
    "\n",
    "output_dir_all = resolve_path(config['AQUA_AfricaIrrigation'])\n",
    "\n",
    "#total_area_1 = AQUA_Africa2020['Value'].sum()\n",
    "#AQUA_Africa2020.loc[:,'total_area'] = total_area_2020\n",
    "\n",
    "\n",
    "AQUA_Africa.to_csv(output_dir_all, index = False)\n",
    "\n"
   ]
  }
 ],
 "metadata": {
  "kernelspec": {
   "display_name": "irrigation",
   "language": "python",
   "name": "irrigation"
  },
  "language_info": {
   "codemirror_mode": {
    "name": "ipython",
    "version": 3
   },
   "file_extension": ".py",
   "mimetype": "text/x-python",
   "name": "python",
   "nbconvert_exporter": "python",
   "pygments_lexer": "ipython3",
   "version": "3.12.4"
  }
 },
 "nbformat": 4,
 "nbformat_minor": 2
}
