{
 "cells": [
  {
   "cell_type": "code",
   "execution_count": null,
   "metadata": {},
   "outputs": [],
   "source": [
    "# importing necessary libraries\n",
    "import geopandas as gpd\n",
    "from tqdm import tqdm\n",
    "import matplotlib.pyplot as plt\n",
    "import sys\n",
    "import os\n",
    "\n",
    "# Add the project root to sys.path so we can import from Code.utils everywhere\n",
    "project_root = os.path.abspath(os.path.join(os.getcwd(), '..', '..'))\n",
    "if project_root not in sys.path:\n",
    "    sys.path.insert(0, project_root)\n",
    "\n",
    "from Code.utils.utility import load_config, resolve_path, ssa_iso\n",
    "from Code.utils.spatial_utility import optimized_clip\n",
    "\n",
    "# Load configuration\n",
    "config = load_config()"
   ]
  },
  {
   "cell_type": "markdown",
   "metadata": {},
   "source": [
    "Trim CPIS into Aridity Layers and Reproject"
   ]
  },
  {
   "cell_type": "code",
   "execution_count": 4,
   "metadata": {},
   "outputs": [
    {
     "name": "stderr",
     "output_type": "stream",
     "text": [
      "Processing CPIS Layers:  25%|██▌       | 1/4 [00:20<01:00, 20.23s/it]"
     ]
    },
    {
     "name": "stdout",
     "output_type": "stream",
     "text": [
      "Processed CPIS data for Semi_Arid layer and saved to /home/waves/data/Africa_Irrigation/Data/Processed/Combined_CPIS_Aridity_Layers-shp/Combined_CPIS_Semi_Arid.shp\n"
     ]
    },
    {
     "name": "stderr",
     "output_type": "stream",
     "text": [
      "Processing CPIS Layers:  50%|█████     | 2/4 [00:32<00:31, 15.56s/it]"
     ]
    },
    {
     "name": "stdout",
     "output_type": "stream",
     "text": [
      "Processed CPIS data for Arid layer and saved to /home/waves/data/Africa_Irrigation/Data/Processed/Combined_CPIS_Aridity_Layers-shp/Combined_CPIS_Arid.shp\n"
     ]
    },
    {
     "name": "stderr",
     "output_type": "stream",
     "text": [
      "Processing CPIS Layers:  75%|███████▌  | 3/4 [00:38<00:11, 11.04s/it]"
     ]
    },
    {
     "name": "stdout",
     "output_type": "stream",
     "text": [
      "Processed CPIS data for Hyper_Arid layer and saved to /home/waves/data/Africa_Irrigation/Data/Processed/Combined_CPIS_Aridity_Layers-shp/Combined_CPIS_Hyper_Arid.shp\n"
     ]
    },
    {
     "name": "stderr",
     "output_type": "stream",
     "text": [
      "Processing CPIS Layers: 100%|██████████| 4/4 [01:00<00:00, 15.20s/it]"
     ]
    },
    {
     "name": "stdout",
     "output_type": "stream",
     "text": [
      "Processed CPIS data for All layer and saved to /home/waves/data/Africa_Irrigation/Data/Processed/Combined_CPIS_Aridity_Layers-shp/Combined_CPIS_All.shp\n"
     ]
    },
    {
     "name": "stderr",
     "output_type": "stream",
     "text": [
      "\n"
     ]
    }
   ],
   "source": [
    "# Define a function to process CPIS data for a specific aridity layer\n",
    "def process_cpis_layer(layer_name, config, gdf_cpis):\n",
    "    # Resolve paths\n",
    "    aridity_shp_path = resolve_path(config[f'Africa_{layer_name}_shp_path'])\n",
    "    output_path = resolve_path(config[f'Combined_CPIS_{layer_name}_shp_path'])\n",
    "\n",
    "    # Load the aridity shapefile\n",
    "    aridity_gdf = gpd.read_file(aridity_shp_path)\n",
    "\n",
    "    # Ensure CRS matches\n",
    "    aridity_gdf = aridity_gdf.to_crs(gdf_cpis.crs)\n",
    "\n",
    "    # Filter CPIS data using optimized clipping\n",
    "    filtered_cpis = optimized_clip(gdf_cpis, aridity_gdf)\n",
    "\n",
    "    # Save the filtered data\n",
    "    filtered_cpis.to_file(output_path, driver='ESRI Shapefile')\n",
    "    print(f\"Processed CPIS data for {layer_name} layer and saved to {output_path}\")\n",
    "\n",
    "# Load and reproject the main CPIS dataset\n",
    "gdf_cpis = gpd.read_file(resolve_path(config['Combined_CPIS_shp_path']))\n",
    "gdf_cpis = gdf_cpis.to_crs(\"EPSG:3857\")\n",
    "\n",
    "# Save the reprojected dataset (optional)\n",
    "gdf_cpis.to_file(resolve_path(config['Combined_CPIS_Reproj_shp_path']))\n",
    "\n",
    "# Process each aridity layer\n",
    "aridity_layers = ['Semi_Arid', 'Arid', 'Hyper_Arid', 'All']\n",
    "for layer in tqdm(aridity_layers, desc=\"Processing CPIS Layers\"):\n",
    "    process_cpis_layer(layer, config, gdf_cpis)"
   ]
  },
  {
   "cell_type": "markdown",
   "metadata": {},
   "source": [
    "Filter the 'All' layer to SSA and add year column"
   ]
  },
  {
   "cell_type": "code",
   "execution_count": null,
   "metadata": {},
   "outputs": [
    {
     "name": "stdout",
     "output_type": "stream",
     "text": [
      "Index(['ID', 'year_2000', 'year_2021', 'Country', 'Country Co', 'geometry'], dtype='object')\n",
      "Filtered SSA CPIS dataset saved to /home/waves/data/Africa_Irrigation/Data/Processed/Combined_CPIS_Aridity_Layers-shp/SSA_Combined_CPIS_All.shp\n"
     ]
    }
   ],
   "source": [
    "# Load the \"All\" layer\n",
    "all_layer_path = resolve_path(config['Combined_CPIS_All_shp_path'])\n",
    "gdf_cpis_all = gpd.read_file(all_layer_path)\n",
    "\n",
    "# Filter to Sub-Saharan Africa using `ssa_iso`\n",
    "gdf_cpis_ssa = gdf_cpis_all[gdf_cpis_all['Country Co'].isin(ssa_iso)].copy()\n",
    "\n",
    "# Add a \"Year\" column based on year flags\n",
    "gdf_cpis_ssa['Year'] = gdf_cpis_ssa.apply(\n",
    "    lambda row: 2000 if row['year_2000'] == 1 else (2021 if row['year_2021'] == 1 else None),\n",
    "    axis=1\n",
    ")\n",
    "\n",
    "# Drop the old year columns\n",
    "gdf_cpis_ssa = gdf_cpis_ssa.drop(columns=['year_2000', 'year_2021'])\n",
    "\n",
    "# Save the filtered dataset\n",
    "ssa_output_path = resolve_path(config['SSA_Combined_CPIS_All_shp_path'])\n",
    "gdf_cpis_ssa.to_file(ssa_output_path, driver='ESRI Shapefile')\n",
    "print(f\"Filtered SSA CPIS dataset saved to {ssa_output_path}\")"
   ]
  }
 ],
 "metadata": {
  "kernelspec": {
   "display_name": "irrigation",
   "language": "python",
   "name": "python3"
  },
  "language_info": {
   "codemirror_mode": {
    "name": "ipython",
    "version": 3
   },
   "file_extension": ".py",
   "mimetype": "text/x-python",
   "name": "python",
   "nbconvert_exporter": "python",
   "pygments_lexer": "ipython3",
   "version": "3.12.4"
  }
 },
 "nbformat": 4,
 "nbformat_minor": 2
}
