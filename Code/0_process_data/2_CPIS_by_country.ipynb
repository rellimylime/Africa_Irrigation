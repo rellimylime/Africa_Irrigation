{
 "cells": [
  {
   "cell_type": "code",
   "execution_count": 47,
   "metadata": {},
   "outputs": [],
   "source": [
    "import matplotlib.pyplot as plt\n",
    "import geopandas as gpd\n",
    "import yaml\n",
    "import os\n",
    "import utility"
   ]
  },
  {
   "cell_type": "code",
   "execution_count": 48,
   "metadata": {},
   "outputs": [],
   "source": [
    "config = utility.load_config()\n",
    "\n",
    "def resolve_path(relative_path):\n",
    "    return os.path.join(config['base_path'], relative_path)"
   ]
  },
  {
   "cell_type": "markdown",
   "metadata": {},
   "source": [
    "Understanding how Africa_boundaries is chunked to evaluate how to overlay it with the CPIS shapefiles"
   ]
  },
  {
   "cell_type": "code",
   "execution_count": 49,
   "metadata": {},
   "outputs": [],
   "source": [
    "Africa_boundaries = gpd.read_file(resolve_path(config['Africa_boundaries_shp_path']))\n",
    "\n",
    "Africa_boundaries.loc[Africa_boundaries['Country']==\"Cape Verde\", 'Country'] = \"Cabo Verde\"\n",
    "\n",
    "Africa_boundaries.to_file(resolve_path('Data/Raw/Africa_Boundaries-shp/Africa_Boundaries.shp'))\n",
    "\n",
    "#cPIS2000 = gpd.read_file(resolve_path(config['CPIS_2000_shp_path']))\n",
    "#cPIS2021 = gpd.read_file(resolve_path(config['CPIS_2021_shp_path']))\n",
    "\n",
    "#Africa_boundaries.plot()\n",
    "#plt.show()"
   ]
  },
  {
   "cell_type": "markdown",
   "metadata": {},
   "source": [
    "This is how one would overlay the datasets to get the CPIS2000_Africa / CPIS2021_Africa sets (see below)... if their computer was beefier"
   ]
  },
  {
   "cell_type": "code",
   "execution_count": 50,
   "metadata": {},
   "outputs": [],
   "source": [
    "#CPIS2000_Africa = gpd.overlay(cPIS2000, Africa_boundaries, how = 'intersection')\n",
    "#CPIS2021_Africa = gpd.overlay(cPIS2021, Africa_boundaries, how = 'intersection')\n",
    "\n",
    "#CPIS2000_Africa.plot()\n",
    "#plt.show()"
   ]
  },
  {
   "cell_type": "code",
   "execution_count": 51,
   "metadata": {},
   "outputs": [],
   "source": [
    "#CPIS2000_Africa['Year'] = 2000\n",
    "#CPIS2021_Africa['Year'] = 2021\n",
    "\n",
    "#CPIS2000_Africa['Area'] = CPIS2000_Africa.geometry.area\n",
    "#CPIS2021_Africa['Area'] = CPIS2021_Africa.geometry.area"
   ]
  },
  {
   "cell_type": "markdown",
   "metadata": {},
   "source": [
    "Replication of Map from Africa_corporate_irrigation (GitHub via anna-boser)"
   ]
  },
  {
   "cell_type": "code",
   "execution_count": 52,
   "metadata": {},
   "outputs": [
    {
     "ename": "SyntaxError",
     "evalue": "invalid syntax (2148753790.py, line 1)",
     "output_type": "error",
     "traceback": [
      "\u001b[1;36m  Cell \u001b[1;32mIn[52], line 1\u001b[1;36m\u001b[0m\n\u001b[1;33m    CPIS_Africa = gpd..read_file(resolve_path(config['Africa_CPIS_shp_path']))\u001b[0m\n\u001b[1;37m                      ^\u001b[0m\n\u001b[1;31mSyntaxError\u001b[0m\u001b[1;31m:\u001b[0m invalid syntax\n"
     ]
    }
   ],
   "source": [
    "CPIS_Africa = gpd..read_file(resolve_path(config['Africa_CPIS_shp_path']))\n",
    "CPIS2000_Africa = gpd.read_file(resolve_path(config['Africa_CPIS_2000_shp_path']))\n",
    "CPIS2021_Africa = gpd.read_file(resolve_path(config['Africa_CPIS_2021_shp_path']))\n",
    "\n",
    "# Buffer the geometry to make it more visible\n",
    "CPIS_Africa['geometry'] = CPIS_Africa.geometry.buffer(0.1)\n",
    "\n",
    "# Create a single plot with two facets\n",
    "fig, axes = plt.subplots(1, 2, figsize=(20, 10))\n",
    "\n",
    "# Plot the CPIS data for 2000\n",
    "Africa_boundaries.boundary.plot(ax=axes[0], color='black')\n",
    "CPIS_Africa[CPIS_Africa['Year'] == 2000].plot(ax=axes[0], color='green')\n",
    "axes[0].set_title('CPIS in 2000 in Africa')\n",
    "\n",
    "# Plot the CPIS data for 2021\n",
    "Africa_boundaries.boundary.plot(ax=axes[1], color='black')\n",
    "CPIS_Africa[CPIS_Africa['Year'] == 2021].plot(ax=axes[1], color='green')\n",
    "axes[1].set_title('CPIS in 2021 in Africa')\n",
    "\n",
    "# Adjust layout and show the plot\n",
    "plt.tight_layout()\n",
    "plt.show()\n",
    "\n",
    "#Save the combined figure\n",
    "#fig.savefig(utility.make_output_path('CPIS_2000_2021_Africa.png'))"
   ]
  }
 ],
 "metadata": {
  "kernelspec": {
   "display_name": "Python (Irrigation)",
   "language": "python",
   "name": "irrigation"
  },
  "language_info": {
   "codemirror_mode": {
    "name": "ipython",
    "version": 3
   },
   "file_extension": ".py",
   "mimetype": "text/x-python",
   "name": "python",
   "nbconvert_exporter": "python",
   "pygments_lexer": "ipython3",
   "version": "3.12.4"
  }
 },
 "nbformat": 4,
 "nbformat_minor": 2
}
