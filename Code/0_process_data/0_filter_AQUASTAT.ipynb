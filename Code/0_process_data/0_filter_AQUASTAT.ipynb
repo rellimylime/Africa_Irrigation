{
 "cells": [
  {
   "cell_type": "code",
   "execution_count": 20,
   "metadata": {},
   "outputs": [],
   "source": [
    "import pandas as pd\n",
    "import geopandas as gpd\n",
    "import os\n",
    "import yaml\n",
    "import utility\n",
    "import unicodedata"
   ]
  },
  {
   "cell_type": "code",
   "execution_count": 21,
   "metadata": {},
   "outputs": [],
   "source": [
    "# configure config\n",
    "config = utility.load_config()\n",
    "\n",
    "def resolve_path(relative_path):\n",
    "    return os.path.join(config['base_path'], relative_path)\n"
   ]
  },
  {
   "cell_type": "code",
   "execution_count": 28,
   "metadata": {},
   "outputs": [
    {
     "name": "stdout",
     "output_type": "stream",
     "text": [
      "82                               Algeria\n",
      "146                               Angola\n",
      "603                                Benin\n",
      "709                             Botswana\n",
      "809                         Burkina Faso\n",
      "846                              Burundi\n",
      "952                             Cameroon\n",
      "1003            Central African Republic\n",
      "1081                                Chad\n",
      "1200                             Comoros\n",
      "1229                   Republic of Congo\n",
      "1422                      CÃ´te d'Ivoire\n",
      "1491    Democratic Republic of the Congo\n",
      "1686                               Egypt\n",
      "1740                             Eritrea\n",
      "1972                               Gabon\n",
      "2003                              Gambia\n",
      "2093                               Ghana\n",
      "2203                              Guinea\n",
      "2231                       Guinea-Bissau\n",
      "2735                               Kenya\n",
      "2963                             Lesotho\n",
      "2998                             Liberia\n",
      "3030                               Libya\n",
      "3101                          Madagascar\n",
      "3131                              Malawi\n",
      "3225                                Mali\n",
      "3285                          Mauritania\n",
      "3322                           Mauritius\n",
      "3421                             Morocco\n",
      "3456                          Mozambique\n",
      "3528                             Namibia\n",
      "3689                               Niger\n",
      "3720                             Nigeria\n",
      "4445                              Rwanda\n",
      "4535               Sao Tome and Principe\n",
      "4593                             Senegal\n",
      "4658                        Sierra Leone\n",
      "4787                             Somalia\n",
      "4818                        South Africa\n",
      "5219                                Togo\n",
      "5303                             Tunisia\n",
      "5398                              Uganda\n",
      "5526                            Tanzania\n",
      "5787                              Zambia\n",
      "5819                            Zimbabwe\n",
      "Name: Area, dtype: object\n"
     ]
    }
   ],
   "source": [
    "AQUA_data = pd.read_csv(resolve_path(config['AQUA_World_path']))\n",
    "african_countries = gpd.read_file(resolve_path(config['Africa_boundaries_shp_path']))\n",
    "\n",
    "# Group 2000 and 2021 data for African countries\n",
    "AQUA_Africa2000 = AQUA_data[(AQUA_data['Year'] == 2000) & (AQUA_data['Area'].isin(african_countries['Country']))].copy()\n",
    "AQUA_Africa2021 = AQUA_data[(AQUA_data['Year'] == 2021) & (AQUA_data['Area'].isin(african_countries['Country']))].copy()\n",
    "\n",
    "print(AQUA_Africa2000['Area'])"
   ]
  },
  {
   "cell_type": "code",
   "execution_count": 24,
   "metadata": {},
   "outputs": [],
   "source": [
    "# Create new CSV locations and files for filtered data\n",
    "\n",
    "output_dir2000 = resolve_path(config['AQUA_AfricaIrrigation_2000'])\n",
    "output_dir2021 = resolve_path(config['AQUA_AfricaIrrigation_2021'])\n",
    "\n",
    "\n",
    "AQUA_Africa2000.to_csv(output_dir2000, index=False)\n",
    "AQUA_Africa2021.to_csv(output_dir2021, index=False)\n",
    "\n"
   ]
  },
  {
   "cell_type": "code",
   "execution_count": 25,
   "metadata": {},
   "outputs": [],
   "source": [
    "AQUA_Africa = AQUA_data[(AQUA_data['Area'].isin(african_countries['Country'])) & (AQUA_data['Variable'] == 'Area equipped for irrigation: total')].copy()\n",
    "\n",
    "output_dir_all = resolve_path(config['AQUA_AfricaIrrigation'])\n",
    "\n",
    "AQUA_Africa.to_csv(output_dir_all, index = False)\n",
    "\n"
   ]
  }
 ],
 "metadata": {
  "kernelspec": {
   "display_name": "Python (Irrigation)",
   "language": "python",
   "name": "irrigation"
  },
  "language_info": {
   "codemirror_mode": {
    "name": "ipython",
    "version": 3
   },
   "file_extension": ".py",
   "mimetype": "text/x-python",
   "name": "python",
   "nbconvert_exporter": "python",
   "pygments_lexer": "ipython3",
   "version": "3.12.4"
  }
 },
 "nbformat": 4,
 "nbformat_minor": 2
}
