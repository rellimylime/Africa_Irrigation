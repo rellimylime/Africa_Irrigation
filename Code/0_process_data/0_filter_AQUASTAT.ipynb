{
 "cells": [
  {
   "cell_type": "markdown",
   "metadata": {},
   "source": [
    "#### Description\n",
    "This code uses a ISO:Country dictionary to filter data from \"Aqua_World_path\" down to just African countries and add an ISO column before saving the filtered data from all years as well as data from 2000 and 2021 individually."
   ]
  },
  {
   "cell_type": "code",
   "execution_count": 24,
   "metadata": {},
   "outputs": [],
   "source": [
    "import pandas as pd\n",
    "import geopandas as gpd\n",
    "import os\n",
    "import yaml\n",
    "import utility\n",
    "import unicodedata\n",
    "\n",
    "# configure config\n",
    "config = utility.load_config()\n",
    "\n",
    "def resolve_path(relative_path):\n",
    "    return os.path.join(config['base_path'], relative_path)\n"
   ]
  },
  {
   "cell_type": "code",
   "execution_count": 26,
   "metadata": {},
   "outputs": [],
   "source": [
    "africa_iso_countries_filtered = {\n",
    "    \"DZA\": [\"Algeria\"],\n",
    "    \"AGO\": [\"Angola\"],\n",
    "    \"BEN\": [\"Benin\"],\n",
    "    \"BWA\": [\"Botswana\"],\n",
    "    \"BFA\": [\"Burkina Faso\"],\n",
    "    \"BDI\": [\"Burundi\"],\n",
    "    \"CPV\": [\"Cabo Verde\", \"Cape Verde\"],\n",
    "    \"CMR\": [\"Cameroon\"],\n",
    "    \"CAF\": [\"Central African Republic\"],\n",
    "    \"TCD\": [\"Chad\"],\n",
    "    \"CIV\": [\"Côte d'Ivoire\", \"CÃ´te d'Ivoire\"],\n",
    "    \"COM\": [\"Comoros\"],\n",
    "    \"COG\": [\"Republic of Congo\", \"Congo\"],\n",
    "    \"COD\": [\"Democratic Republic of the Congo\"],\n",
    "    \"DJI\": [\"Djibouti\"],\n",
    "    \"EGY\": [\"Egypt\"],\n",
    "    \"GNQ\": [\"Equatorial Guinea\"],\n",
    "    \"ERI\": [\"Eritrea\"],\n",
    "    \"SWZ\": [\"Eswatini\", \"Swaziland\"],\n",
    "    \"ETH\": [\"Ethiopia\"],\n",
    "    \"GAB\": [\"Gabon\"],\n",
    "    \"GMB\": [\"Gambia\"],\n",
    "    \"GHA\": [\"Ghana\"],\n",
    "    \"GIN\": [\"Guinea\"],\n",
    "    \"GNB\": [\"Guinea-Bissau\"],\n",
    "    \"KEN\": [\"Kenya\"],\n",
    "    \"LSO\": [\"Lesotho\"],\n",
    "    \"LBR\": [\"Liberia\"],\n",
    "    \"LBY\": [\"Libya\"],\n",
    "    \"MDG\": [\"Madagascar\"],\n",
    "    \"MWI\": [\"Malawi\"],\n",
    "    \"MLI\": [\"Mali\"],\n",
    "    \"MRT\": [\"Mauritania\"],\n",
    "    \"MUS\": [\"Mauritius\"],\n",
    "    \"MYT\": [\"Mayotte\"],\n",
    "    \"MAR\": [\"Morocco\"],\n",
    "    \"MOZ\": [\"Mozambique\"],\n",
    "    \"NAM\": [\"Namibia\"],\n",
    "    \"NER\": [\"Niger\"],\n",
    "    \"NGA\": [\"Nigeria\"],\n",
    "    \"REU\": [\"Reunion\"],\n",
    "    \"RWA\": [\"Rwanda\"],\n",
    "    \"STP\": [\"São Tomé and Príncipe\", \"Sao Tome and Principe\"],\n",
    "    \"SEN\": [\"Senegal\"],\n",
    "    \"SYC\": [\"Seychelles\"],\n",
    "    \"SLE\": [\"Sierra Leone\"],\n",
    "    \"SOM\": [\"Somalia\"],\n",
    "    \"ZAF\": [\"South Africa\"],\n",
    "    \"SSD\": [\"South Sudan\"],\n",
    "    \"SDN\": [\"Sudan\"],\n",
    "    \"TZA\": [\"Tanzania\"],\n",
    "    \"TGO\": [\"Togo\"],\n",
    "    \"TUN\": [\"Tunisia\"],\n",
    "    \"UGA\": [\"Uganda\"],\n",
    "    \"ESH\": [\"Western Sahara\"],\n",
    "    \"ZMB\": [\"Zambia\"],\n",
    "    \"ZWE\": [\"Zimbabwe\"]\n",
    "}\n"
   ]
  },
  {
   "cell_type": "markdown",
   "metadata": {},
   "source": [
    "Filter AQUA Irrigation data to Africa"
   ]
  },
  {
   "cell_type": "code",
   "execution_count": 28,
   "metadata": {},
   "outputs": [],
   "source": [
    "AQUA_data = pd.read_csv(resolve_path(config['AQUA_World_path']))\n",
    "african_countries = gpd.read_file(resolve_path(config['Africa_boundaries_shp_path']))\n",
    "\n",
    "ISO_mapping = {country: iso for iso, countries in africa_iso_countries_filtered.items() for country in countries}\n",
    "\n",
    "AQUA_data['ISO'] = AQUA_data['Area'].map(ISO_mapping)\n",
    "AQUA_data_africa = AQUA_data.dropna(subset=['ISO'])\n",
    "\n",
    "output_dir_all = resolve_path(config['AQUA_AfricaIrrigation'])\n",
    "AQUA_data_africa.to_csv(output_dir_all, index = False)"
   ]
  },
  {
   "cell_type": "markdown",
   "metadata": {},
   "source": [
    "Add a column for ISO's to African Countries CSV while we're at it"
   ]
  },
  {
   "cell_type": "code",
   "execution_count": 31,
   "metadata": {},
   "outputs": [
    {
     "name": "stdout",
     "output_type": "stream",
     "text": [
      "0     DZA\n",
      "1     AGO\n",
      "2     BEN\n",
      "3     BWA\n",
      "4     BFA\n",
      "5     BDI\n",
      "6     CPV\n",
      "7     CMR\n",
      "8     CAF\n",
      "9     TCD\n",
      "10    CIV\n",
      "11    COM\n",
      "12    COG\n",
      "13    DJI\n",
      "14    EGY\n",
      "15    GNQ\n",
      "16    ERI\n",
      "17    SWZ\n",
      "18    ETH\n",
      "19    NaN\n",
      "20    GAB\n",
      "21    GMB\n",
      "22    GHA\n",
      "23    GIN\n",
      "24    GNB\n",
      "25    KEN\n",
      "26    LSO\n",
      "27    LBR\n",
      "28    LBY\n",
      "29    MDG\n",
      "30    MWI\n",
      "31    MLI\n",
      "32    MRT\n",
      "33    MUS\n",
      "34    MYT\n",
      "35    MAR\n",
      "36    MOZ\n",
      "37    NAM\n",
      "38    NER\n",
      "39    NGA\n",
      "40    COG\n",
      "41    REU\n",
      "42    RWA\n",
      "43    STP\n",
      "44    SEN\n",
      "45    SYC\n",
      "46    SLE\n",
      "47    SOM\n",
      "48    ZAF\n",
      "49    SSD\n",
      "50    SDN\n",
      "51    SWZ\n",
      "52    TZA\n",
      "53    TGO\n",
      "54    TUN\n",
      "55    UGA\n",
      "56    ESH\n",
      "57    ZMB\n",
      "58    ZWE\n",
      "Name: ISO, dtype: object\n"
     ]
    }
   ],
   "source": [
    "countries_CSV = pd.read_csv(resolve_path(config['African_Countries_csv_path']))\n",
    "countries_CSV['ISO'] = countries_CSV['Country'].map(ISO_mapping)\n",
    "\n",
    "countries_CSV.to_csv(resolve_path(config['African_Countries_ISO_csv_path']))\n",
    "print(countries_CSV['ISO'])"
   ]
  },
  {
   "cell_type": "markdown",
   "metadata": {},
   "source": [
    "Separate the data into 2000 and 2021 and save"
   ]
  },
  {
   "cell_type": "code",
   "execution_count": 20,
   "metadata": {},
   "outputs": [],
   "source": [
    "# Group 2000 and 2021 data for African countries\n",
    "AQUA_Africa2000 = AQUA_data_africa[(AQUA_data_africa['Year'] == 2000)].copy()\n",
    "AQUA_Africa2021 = AQUA_data_africa[(AQUA_data_africa['Year'] == 2021)].copy()\n",
    "\n",
    "output_dir2000 = resolve_path(config['AQUA_AfricaIrrigation_2000'])\n",
    "output_dir2021 = resolve_path(config['AQUA_AfricaIrrigation_2021'])\n",
    "\n",
    "AQUA_Africa2000.to_csv(output_dir2000, index=False)\n",
    "AQUA_Africa2021.to_csv(output_dir2021, index=False)"
   ]
  }
 ],
 "metadata": {
  "kernelspec": {
   "display_name": "irrigation",
   "language": "python",
   "name": "python3"
  },
  "language_info": {
   "codemirror_mode": {
    "name": "ipython",
    "version": 3
   },
   "file_extension": ".py",
   "mimetype": "text/x-python",
   "name": "python",
   "nbconvert_exporter": "python",
   "pygments_lexer": "ipython3",
   "version": "3.12.4"
  }
 },
 "nbformat": 4,
 "nbformat_minor": 2
}
