{
 "cells": [
  {
   "cell_type": "code",
   "execution_count": 3,
   "metadata": {},
   "outputs": [],
   "source": [
    "import sys\n",
    "import os\n",
    "\n",
    "# Add the project root to sys.path so we can import from Code.utils everywhere\n",
    "project_root = os.path.abspath(os.path.join(os.getcwd(), '..', '..'))\n",
    "if project_root not in sys.path:\n",
    "    sys.path.insert(0, project_root)\n",
    "\n",
    "from Code.utils.utility import load_config, resolve_path, ssa_iso\n",
    "from Code.utils.spatial_utility import load_and_reproject, optimized_clip\n",
    "\n",
    "import geopandas as gpd\n",
    "import pandas as pd\n",
    "from shapely.geometry import Point\n",
    "\n",
    "# Load configuration\n",
    "config = load_config()"
   ]
  },
  {
   "cell_type": "markdown",
   "metadata": {},
   "source": [
    "##### Filter the dam data"
   ]
  },
  {
   "cell_type": "code",
   "execution_count": 3,
   "metadata": {},
   "outputs": [
    {
     "name": "stdout",
     "output_type": "stream",
     "text": [
      "Country                 335\n",
      "ISO                     335\n",
      "Sec_cntry                 4\n",
      "Name                    335\n",
      "AltDamName               60\n",
      "Purpose                 335\n",
      "Admin_unit              326\n",
      "Near_city               329\n",
      "River                   284\n",
      "Main_basin              330\n",
      "Sub_basin               305\n",
      "Status                  335\n",
      "PVOUT                   335\n",
      "PotentialPVSurface      335\n",
      "PV_InstalledCapacity    335\n",
      "PV_SpaCapacity          335\n",
      "Dam_hgt                 335\n",
      "Res_capacityM3          335\n",
      "Res_area_km2            335\n",
      "HPP_Install_Cap         335\n",
      "Transm_exist            335\n",
      "Transm_length           335\n",
      "Transm_plan             335\n",
      "Proj_type                 0\n",
      "Lifecycle                 0\n",
      "Storage_ty                0\n",
      "Linked_prj                0\n",
      "Proj_cost               335\n",
      "Proj_statu                0\n",
      "Study_stat                0\n",
      "YEAR                    335\n",
      "Yr_recents              335\n",
      "Comission_              335\n",
      "Ann_firm_g              335\n",
      "Ann_tot_ge              335\n",
      "Prox_irrig                0\n",
      "Size_irrig                0\n",
      "Owner                     0\n",
      "Autom_EMS_                0\n",
      "PrivateOwn                0\n",
      "Feed_in_ta                0\n",
      "Feed_in__1                0\n",
      "Guaranteed                0\n",
      "Competitiv                0\n",
      "Winning_bi                0\n",
      "OtherFisca                0\n",
      "Prioritize                0\n",
      "Priority_d                0\n",
      "Compensati                0\n",
      "Compensa_1                0\n",
      "Gov_guaran                0\n",
      "Regulatory              324\n",
      "Download                335\n",
      "Long__res_              335\n",
      "Lat__res_               335\n",
      "Lat__hydro                0\n",
      "Long__hydr                0\n",
      "Database                335\n",
      "Notes                    35\n",
      "dtype: int64\n",
      "Filtered irrigation dams saved to /home/waves/data/Africa_Irrigation/Data/Processed/Africa_Dams_Irrigation.csv\n"
     ]
    }
   ],
   "source": [
    "# Load the global dam dataset\n",
    "global_dams_path = resolve_path(config['Global_Dam_Data_csv_path'])\n",
    "global_dams = pd.read_csv(global_dams_path)\n",
    "\n",
    "# Strip whitespace from the ISO column and filter to SSA countries\n",
    "global_dams['ISO'] = global_dams['ISO'].str.strip()\n",
    "ssa_dams = global_dams[global_dams['ISO'].isin(ssa_iso)].copy()\n",
    "\n",
    "# Filter dams where the 'Purpose' column contains the word 'Irrigation'\n",
    "irrigation_dams = ssa_dams[ssa_dams['Purpose'].str.contains('Irrigation', case=False, na=False)].copy()\n",
    "print(irrigation_dams.count())\n",
    "\n",
    "# Save the filtered irrigation dams to a CSV file\n",
    "irrigation_dams_path = resolve_path(config['Africa_Dam_Irrigation_csv_path'])\n",
    "irrigation_dams.to_csv(irrigation_dams_path, index=False)\n",
    "print(f\"Filtered irrigation dams saved to {irrigation_dams_path}\")"
   ]
  },
  {
   "cell_type": "markdown",
   "metadata": {},
   "source": [
    "Turn the CSV into a GDF and trim to arid regions"
   ]
  },
  {
   "cell_type": "code",
   "execution_count": 5,
   "metadata": {},
   "outputs": [
    {
     "name": "stdout",
     "output_type": "stream",
     "text": [
      "Number of dams after converting to GeoDataFrame: 335\n",
      "Reprojected GeoDataFrame to EPSG:3857 for spatial operations.\n",
      "Number of dams in Semi_Arid region: 235\n"
     ]
    },
    {
     "name": "stderr",
     "output_type": "stream",
     "text": [
      "/tmp/ipykernel_905328/3002115758.py:36: UserWarning: Column names longer than 10 characters will be truncated when saved to ESRI Shapefile.\n",
      "  filtered_dams.to_file(output_path, driver='ESRI Shapefile')\n"
     ]
    },
    {
     "name": "stdout",
     "output_type": "stream",
     "text": [
      "Filtered dams for Semi_Arid region saved to /home/waves/data/Africa_Irrigation/Data/Processed/Africa_Dam_Aridity_Layers-shp/Africa_Dam_Semi_Arid.shp\n",
      "Number of dams in Arid region: 43\n"
     ]
    },
    {
     "name": "stderr",
     "output_type": "stream",
     "text": [
      "/tmp/ipykernel_905328/3002115758.py:36: UserWarning: Column names longer than 10 characters will be truncated when saved to ESRI Shapefile.\n",
      "  filtered_dams.to_file(output_path, driver='ESRI Shapefile')\n"
     ]
    },
    {
     "name": "stdout",
     "output_type": "stream",
     "text": [
      "Filtered dams for Arid region saved to /home/waves/data/Africa_Irrigation/Data/Processed/Africa_Dam_Aridity_Layers-shp/Africa_Dam_Arid.shp\n",
      "Number of dams in Hyper_Arid region: 0\n",
      "No dams found in Hyper_Arid region. Skipping save.\n",
      "Number of dams in All region: 278\n"
     ]
    },
    {
     "name": "stderr",
     "output_type": "stream",
     "text": [
      "/tmp/ipykernel_905328/3002115758.py:36: UserWarning: Column names longer than 10 characters will be truncated when saved to ESRI Shapefile.\n",
      "  filtered_dams.to_file(output_path, driver='ESRI Shapefile')\n"
     ]
    },
    {
     "name": "stdout",
     "output_type": "stream",
     "text": [
      "Filtered dams for All region saved to /home/waves/data/Africa_Irrigation/Data/Processed/Africa_Dam_Aridity_Layers-shp/Africa_Dam_All_Arid.shp\n"
     ]
    }
   ],
   "source": [
    "# Convert irrigation dams to a GeoDataFrame\n",
    "geometry = [Point(xy) for xy in zip(irrigation_dams['Long__res_'], irrigation_dams['Lat__res_'])]\n",
    "gdf_dams = gpd.GeoDataFrame(irrigation_dams, geometry=geometry)\n",
    "gdf_dams = gdf_dams.set_crs(\"EPSG:4326\")  # Ensure the CRS is correct\n",
    "print(f\"Number of dams after converting to GeoDataFrame: {gdf_dams.shape[0]}\")\n",
    "\n",
    "# Reproject to a projected CRS for spatial operations\n",
    "gdf_dams = gdf_dams.to_crs(\"EPSG:3857\")\n",
    "print(f\"Reprojected GeoDataFrame to EPSG:3857 for spatial operations.\")\n",
    "\n",
    "# Define aridity layers to process\n",
    "aridity_layers = ['Semi_Arid', 'Arid', 'Hyper_Arid', 'All']\n",
    "\n",
    "# Iterate through each aridity layer\n",
    "for layer in aridity_layers:\n",
    "    # Load the aridity shapefile\n",
    "    aridity_shp_path = resolve_path(config[f'Africa_{layer}_shp_path'])\n",
    "    aridity_gdf = load_and_reproject(aridity_shp_path, target_crs=\"EPSG:3857\")\n",
    "    \n",
    "    if aridity_gdf is None:\n",
    "        print(f\"Failed to load {layer} aridity shapefile. Skipping...\")\n",
    "        continue\n",
    "\n",
    "    # Filter dams to the current aridity layer\n",
    "    filtered_dams = optimized_clip(gdf_dams, aridity_gdf)\n",
    "    print(f\"Number of dams in {layer} region: {filtered_dams.shape[0]}\")\n",
    "\n",
    "    # Rename columns to avoid truncation in ESRI Shapefile\n",
    "    filtered_dams = filtered_dams.rename(columns={\"Long__res_\": \"Longitude\", \"Lat__res_\": \"Latitude\"})\n",
    "\n",
    "    # Save the filtered dams to a shapefile\n",
    "    output_path = resolve_path(config[f'Africa_Dam_{layer}_shp_path'])\n",
    "    if filtered_dams.empty:\n",
    "        print(f\"No dams found in {layer} region. Skipping save.\")\n",
    "    else:\n",
    "        filtered_dams.to_file(output_path, driver='ESRI Shapefile')\n",
    "        print(f\"Filtered dams for {layer} region saved to {output_path}\")"
   ]
  }
 ],
 "metadata": {
  "kernelspec": {
   "display_name": "irrigation",
   "language": "python",
   "name": "python3"
  },
  "language_info": {
   "codemirror_mode": {
    "name": "ipython",
    "version": 3
   },
   "file_extension": ".py",
   "mimetype": "text/x-python",
   "name": "python",
   "nbconvert_exporter": "python",
   "pygments_lexer": "ipython3",
   "version": "3.12.4"
  }
 },
 "nbformat": 4,
 "nbformat_minor": 2
}
