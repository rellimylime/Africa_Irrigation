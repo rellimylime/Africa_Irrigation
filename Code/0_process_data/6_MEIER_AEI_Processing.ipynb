{
 "cells": [
  {
   "cell_type": "markdown",
   "metadata": {},
   "source": [
    "# MEIER AEI Processing\n",
    "\n",
    "This notebook processes the MEIER AEI (Area Equipped for Irrigation) dataset for Africa. It:\n",
    "1. Loads the MEIER AEI raster data\n",
    "2. Crops it to the Africa region\n",
    "3. Converts it to vector format\n",
    "4. Reprojects to Web Mercator (EPSG:3857)\n",
    "5. Clips to different aridity layers\n",
    "6. Adds country information\n",
    "7. Saves the results as shapefiles"
   ]
  },
  {
   "cell_type": "code",
   "execution_count": null,
   "metadata": {},
   "source": [
    "import geopandas as gpd\n",
    "import matplotlib.pyplot as plt\n",
    "from shapely.geometry import shape, box\n",
    "from shapely.ops import unary_union\n",
    "from tqdm import tqdm\n",
    "from rasterio.plot import show\n",
    "from rasterio.features import shapes\n",
    "from rasterio.mask import mask\n",
    "import rasterio\n",
    "import numpy as np\n",
    "import utility\n",
    "import spatial_utility"
   ]
  },
  {
   "cell_type": "markdown",
   "metadata": {},
   "source": [
    "## Load and Process MEIER AEI Raster Data"
   ]
  },
  {
   "cell_type": "code",
   "execution_count": null,
   "metadata": {},
   "source": [
    "try:\n",
    "    # Load configuration\n",
    "    config = utility.load_config()\n",
    "    \n",
    "    # Load and read the ASC file\n",
    "    asc_file_path = utility.resolve_path(config['Africa_MEIER_AEI_2015_asc_path'])\n",
    "    \n",
    "    with rasterio.open(asc_file_path) as src:\n",
    "        asc_data = src.read(1)  # Read the first band\n",
    "        asc_meta = src.meta\n",
    "        print(\"ASC metadata:\", asc_meta)\n",
    "        show(src, title=\"Original MEIER ASC Data\")\n",
    "    \n",
    "    print(f\"Loaded MEIER AEI raster with shape {asc_data.shape}\")\n",
    "except Exception as e:\n",
    "    print(f\"Error loading MEIER AEI raster: {e}\")"
   ]
  },
  {
   "cell_type": "markdown",
   "metadata": {},
   "source": [
    "## Crop to Africa Bounding Box"
   ]
  },
  {
   "cell_type": "code",
   "execution_count": null,
   "metadata": {},
   "source": [
    "try:\n",
    "    # Define the bounding box for Africa\n",
    "    africa_bbox = (-18.0, -35.0, 52.0, 38.0)  # (min_lon, min_lat, max_lon, max_lat)\n",
    "    \n",
    "    # Create a bounding box geometry\n",
    "    bbox_geom = box(*africa_bbox)\n",
    "    geo = gpd.GeoDataFrame({'geometry': [bbox_geom]}, index=[0], crs='EPSG:4326')\n",
    "    \n",
    "    # Reproject the bounding box to the ASC file CRS if necessary\n",
    "    if asc_meta['crs'] != geo.crs:\n",
    "        geo = geo.to_crs(crs=asc_meta['crs'])\n",
    "    \n",
    "    # Crop the ASC data using the bounding box\n",
    "    with rasterio.open(asc_file_path) as src:\n",
    "        out_image, out_transform = mask(src, [bbox_geom], crop=True)\n",
    "        out_meta = src.meta.copy()\n",
    "        out_meta.update({\n",
    "            \"driver\": \"GTiff\",\n",
    "            \"height\": out_image.shape[1],\n",
    "            \"width\": out_image.shape[2],\n",
    "            \"transform\": out_transform\n",
    "        })\n",
    "    \n",
    "    # Save the cropped ASC data to a new file\n",
    "    cropped_asc_path = utility.resolve_path(config['AEI_MEIER_2015_cropped_tif_path'])\n",
    "    with rasterio.open(cropped_asc_path, 'w', **out_meta) as dest:\n",
    "        dest.write(out_image)\n",
    "    \n",
    "    print(f\"Cropped MEIER AEI raster saved to {cropped_asc_path}\")\n",
    "except Exception as e:\n",
    "    print(f\"Error cropping MEIER AEI raster: {e}\")"
   ]
  },
  {
   "cell_type": "markdown",
   "metadata": {},
   "source": [
    "## Convert Raster to Vector"
   ]
  },
  {
   "cell_type": "code",
   "execution_count": null,
   "metadata": {},
   "source": [
    "def raster_to_geodataframe(raster_path, crs):\n",
    "    \"\"\"Convert a raster to a GeoDataFrame.\"\"\"\n",
    "    with rasterio.open(raster_path) as src:\n",
    "        image = src.read(1)  # Read the first band\n",
    "        mask = image != src.nodata\n",
    "        results = (\n",
    "            {'properties': {'raster_val': v}, 'geometry': shape(s)}\n",
    "            for i, (s, v) in enumerate(shapes(image, mask=mask, transform=src.transform))\n",
    "        )\n",
    "        geoms = list(results)\n",
    "        gdf = gpd.GeoDataFrame.from_features(geoms)\n",
    "        gdf.crs = crs\n",
    "    return gdf\n",
    "\n",
    "try:\n",
    "    # Convert the cropped raster to a GeoDataFrame\n",
    "    gdf_cropped_asc = raster_to_geodataframe(cropped_asc_path, asc_meta['crs'])\n",
    "    print(f\"Converted raster to GeoDataFrame with {len(gdf_cropped_asc)} features\")\n",
    "    print(\"Sample data:\")\n",
    "    print(gdf_cropped_asc.head())\n",
    "    \n",
    "    # Plot the cropped GeoDataFrame\n",
    "    fig, ax = plt.subplots(figsize=(10, 10))\n",
    "    gdf_cropped_asc.boundary.plot(ax=ax, linewidth=1, edgecolor='blue', alpha=0.5, label='Cropped MEIER ASC Data')\n",
    "    plt.title('Cropped MEIER ASC Data')\n",
    "    plt.legend()\n",
    "    plt.show()\n",
    "except Exception as e:\n",
    "    print(f\"Error converting raster to GeoDataFrame: {e}\")"
   ]
  },
  {
   "cell_type": "markdown",
   "metadata": {},
   "source": [
    "## Reproject to Web Mercator"
   ]
  },
  {
   "cell_type": "code",
   "execution_count": null,
   "metadata": {},
   "source": [
    "try:\n",
    "    # Reproject the cropped GeoDataFrame to Web Mercator (EPSG:3857)\n",
    "    gdf_cropped_asc_reprojected = gdf_cropped_asc.to_crs(epsg=3857)\n",
    "    \n",
    "    # Print CRS and bounding box after reprojection\n",
    "    print(\"Reprojected CRS:\", gdf_cropped_asc_reprojected.crs)\n",
    "    print(\"Reprojected Bounding Box:\", gdf_cropped_asc_reprojected.total_bounds)\n",
    "    \n",
    "    # Plot the reprojected GeoDataFrame\n",
    "    fig, ax = plt.subplots(figsize=(10, 10))\n",
    "    gdf_cropped_asc_reprojected.boundary.plot(ax=ax, linewidth=1, edgecolor='red', alpha=0.5, label='Reprojected MEIER ASC Data')\n",
    "    plt.title('Reprojected MEIER ASC Data')\n",
    "    plt.legend()\n",
    "    plt.show()\n",
    "    \n",
    "    # Save the reprojected GeoDataFrame as a GeoPackage\n",
    "    geopackage_path = utility.resolve_path(config['AEI_MEIER_2015_reproj_gpkg_path'])\n",
    "    gdf_cropped_asc_reprojected.to_file(geopackage_path, driver=\"GPKG\")\n",
    "    print(f\"Reprojected GeoDataFrame saved to {geopackage_path}\")\n",
    "except Exception as e:\n",
    "    print(f\"Error reprojecting GeoDataFrame: {e}\")"
   ]
  },
  {
   "cell_type": "markdown",
   "metadata": {},
   "source": [
    "## Process by Aridity Layers"
   ]
  },
  {
   "cell_type": "code",
   "execution_count": null,
   "metadata": {},
   "source": [
    "try:\n",
    "    # Process the MEIER AEI data by aridity layers using the utility function\n",
    "    results = spatial_utility.process_aei_by_aridity(dataset_type=\"meier\")\n",
    "    \n",
    "    # Print summary of results\n",
    "    for layer, gdf in results.items():\n",
    "        print(f\"Layer {layer}: {len(gdf)} features\")\n",
    "except Exception as e:\n",
    "    print(f\"Error processing MEIER AEI by aridity layers: {e}\")"
   ]
  }
 ],
 "metadata": {
  "kernelspec": {
   "display_name": "Python 3",
   "language": "python",
   "name": "python3"
  },
  "language_info": {
   "codemirror_mode": {
    "name": "ipython",
    "version": 3
   },
   "file_extension": ".py",
   "mimetype": "text/x-python",
   "name": "python",
   "nbconvert_exporter": "python",
   "pygments_lexer": "ipython3",
   "version": "3.8.5"
  }
 },
 "nbformat": 4,
 "nbformat_minor": 4
}
