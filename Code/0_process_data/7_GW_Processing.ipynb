{
 "cells": [
  {
   "cell_type": "code",
   "execution_count": 1,
   "metadata": {},
   "outputs": [],
   "source": [
    "import geopandas as gpd\n",
    "import pandas as pd\n",
    "import fiona\n",
    "import matplotlib.pyplot as plt\n",
    "from shapely.geometry import Point\n",
    "from scipy.spatial import cKDTree\n",
    "from tqdm import tqdm\n",
    "import rasterio\n",
    "import numpy as np\n",
    "import yaml\n",
    "import os\n",
    "\n",
    "# Load configuration\n",
    "with open('../../config.yaml', 'r') as file:\n",
    "    config = yaml.safe_load(file)\n",
    "\n",
    "def resolve_path(relative_path):\n",
    "    return os.path.join(config['base_path'], relative_path)"
   ]
  },
  {
   "cell_type": "code",
   "execution_count": 3,
   "metadata": {},
   "outputs": [
    {
     "name": "stderr",
     "output_type": "stream",
     "text": [
      "Creating geometries: 1019265it [00:07, 144288.70it/s]\n"
     ]
    }
   ],
   "source": [
    "# Load the groundwater productivity data\n",
    "df_GW = pd.read_csv(resolve_path(config['Groundwater_Productivity_path']), sep=r'\\s+')\n",
    "\n",
    "# Create geometry for groundwater productivity points\n",
    "geometry = [Point(xy) for xy in tqdm(zip(df_GW['X'], df_GW['Y']), desc=\"Creating geometries\")]\n",
    "gdf_GW = gpd.GeoDataFrame(df_GW, geometry=geometry)\n",
    "gdf_GW.set_crs(epsg=4326, inplace=True)\n",
    "gdf_GW.to_file(resolve_path(config['Groundwater_Prod_gpkg_path']))\n",
    "gdf_GW = gdf_GW.to_crs(epsg=3857)\n",
    "\n",
    "\n",
    "# Map groundwater productivity to categories\n",
    "value_map_cat = {'VH': 20.0, 'H': 12.5, 'M': 3.0, 'LM': 0.75, 'L': 0.3, 'VL': 0.1}\n",
    "\n",
    "reverse_map_cat = {v: k for k, v in value_map_cat.items()}\n",
    "\n",
    "gdf_GW['GW_prod_cat_L_s'] = gdf_GW['GWPROD_V2'].map(value_map_cat)\n",
    "\n"
   ]
  },
  {
   "cell_type": "code",
   "execution_count": 4,
   "metadata": {},
   "outputs": [
    {
     "name": "stderr",
     "output_type": "stream",
     "text": [
      "Creating geometries: 1019265it [00:06, 162497.01it/s]\n"
     ]
    }
   ],
   "source": [
    "# Load the groundwater productivity data\n",
    "df_GW = pd.read_csv(resolve_path(config['Groundwater_Productivity_path']), sep=r'\\s+')\n",
    "\n",
    "# Create geometry for groundwater productivity points\n",
    "geometry = [Point(xy) for xy in tqdm(zip(df_GW['X'], df_GW['Y']), desc=\"Creating geometries\")]\n",
    "gdf_GW = gpd.GeoDataFrame(df_GW, geometry=geometry)\n",
    "gdf_GW.set_crs(epsg=4326, inplace=True)\n",
    "\n",
    "# Map groundwater productivity to categories\n",
    "value_map_cat = {'VH': 20.0, 'H': 12.5, 'M': 3.0, 'LM': 0.75, 'L': 0.3, 'VL': 0.1}\n",
    "reverse_map_cat = {v: k for k, v in value_map_cat.items()}\n",
    "\n",
    "gdf_GW['GW_prod_cat_L_s'] = gdf_GW['GWPROD_V2'].map(value_map_cat)\n",
    "gdf_GW.to_file(resolve_path(config['Groundwater_Prod_gpkg_path']))\n",
    "\n",
    "gdf_GW = gdf_GW.to_crs(epsg=3857)\n",
    "\n"
   ]
  },
  {
   "cell_type": "code",
   "execution_count": 3,
   "metadata": {},
   "outputs": [
    {
     "name": "stdout",
     "output_type": "stream",
     "text": [
      "         X          Y GWPROD_V2                         geometry  \\\n",
      "0  9.41405  37.251192         M  POINT (1047967.285 4474177.758)   \n",
      "1  9.46405  37.251192         M  POINT (1053533.259 4474177.758)   \n",
      "2  9.51405  37.251192         M  POINT (1059099.234 4474177.758)   \n",
      "3  9.56405  37.251192         M  POINT (1064665.209 4474177.758)   \n",
      "4  9.61405  37.251192         H  POINT (1070231.183 4474177.758)   \n",
      "\n",
      "   GW_prod_cat_L_s  \n",
      "0              3.0  \n",
      "1              3.0  \n",
      "2              3.0  \n",
      "3              3.0  \n",
      "4             12.5  \n"
     ]
    }
   ],
   "source": [
    "print(gdf_GW.head())"
   ]
  }
 ],
 "metadata": {
  "kernelspec": {
   "display_name": "irrigation",
   "language": "python",
   "name": "python3"
  },
  "language_info": {
   "codemirror_mode": {
    "name": "ipython",
    "version": 3
   },
   "file_extension": ".py",
   "mimetype": "text/x-python",
   "name": "python",
   "nbconvert_exporter": "python",
   "pygments_lexer": "ipython3",
   "version": "3.12.4"
  }
 },
 "nbformat": 4,
 "nbformat_minor": 2
}
