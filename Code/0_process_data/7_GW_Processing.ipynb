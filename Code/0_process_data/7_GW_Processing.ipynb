{
 "cells": [
  {
   "cell_type": "markdown",
   "metadata": {},
   "source": [
    "# Groundwater Productivity Data Processing for Africa\n",
    "\n",
    "This notebook processes groundwater productivity data for Africa by:\n",
    "\n",
    "1. Loading and processing groundwater productivity data\n",
    "2. Previewing processed data"
   ]
  },
  {
   "cell_type": "code",
   "execution_count": 1,
   "metadata": {},
   "outputs": [],
   "source": [
    "# Import required libraries\n",
    "import matplotlib.pyplot as plt\n",
    "from shapely.geometry import Point\n",
    "from tqdm import tqdm\n",
    "import numpy as np\n",
    "import geopandas as gpd\n",
    "import pandas as pd\n",
    "import sys\n",
    "import os\n",
    "\n",
    "# Add the project root to sys.path so we can import from Code.utils everywhere\n",
    "project_root = os.path.abspath(os.path.join(os.getcwd(), '..', '..'))\n",
    "if project_root not in sys.path:\n",
    "    sys.path.insert(0, project_root)\n",
    "\n",
    "from Code.utils.utility import load_config, resolve_path, ssa_iso, africa_iso_countries, africa_iso_countries_filtered\n",
    "\n",
    "# Load configuration\n",
    "config = load_config()"
   ]
  },
  {
   "cell_type": "markdown",
   "metadata": {},
   "source": [
    "## 1. Load and process groundwater productivity data"
   ]
  },
  {
   "cell_type": "code",
   "execution_count": 2,
   "metadata": {},
   "outputs": [
    {
     "name": "stderr",
     "output_type": "stream",
     "text": [
      "Creating geometries: 1019265it [00:06, 154293.85it/s]\n",
      "\n"
     ]
    }
   ],
   "source": [
    "# Read groundwater productivity data\n",
    "input_path = resolve_path(config['Groundwater_Productivity_path'])\n",
    "df_GW = pd.read_csv(input_path, sep=r'\\s+')\n",
    "\n",
    "# Create geometry for groundwater productivity points\n",
    "geometry = [Point(xy) for xy in tqdm(zip(df_GW['X'], df_GW['Y']), desc=\"Creating geometries\")]\n",
    "gdf_GW = gpd.GeoDataFrame(df_GW, geometry=geometry)\n",
    "gdf_GW.set_crs(epsg=4326, inplace=True)\n",
    "\n",
    "# Map groundwater productivity categories to numeric values\n",
    "value_map_cat = {'VH': 20.0, 'H': 12.5, 'M': 3.0, 'LM': 0.75, 'L': 0.3, 'VL': 0.1}\n",
    "gdf_GW['GW_prod_cat_L_s'] = gdf_GW['GWPROD_V2'].map(value_map_cat)\n",
    "\n",
    "# Save as GeoPackage\n",
    "output_path = resolve_path(config['Groundwater_Prod_gpkg_path'])\n",
    "gdf_GW.to_file(output_path)\n",
    "\n",
    "# Reproject to Web Mercator (EPSG:3857)\n",
    "gdf_GW = gdf_GW.to_crs(epsg=3857)"
   ]
  },
  {
   "cell_type": "markdown",
   "metadata": {},
   "source": [
    "## 2. Preview processed data"
   ]
  },
  {
   "cell_type": "code",
   "execution_count": 3,
   "metadata": {},
   "outputs": [
    {
     "data": {
      "text/html": [
       "<div>\n",
       "<style scoped>\n",
       "    .dataframe tbody tr th:only-of-type {\n",
       "        vertical-align: middle;\n",
       "    }\n",
       "\n",
       "    .dataframe tbody tr th {\n",
       "        vertical-align: top;\n",
       "    }\n",
       "\n",
       "    .dataframe thead th {\n",
       "        text-align: right;\n",
       "    }\n",
       "</style>\n",
       "<table border=\"1\" class=\"dataframe\">\n",
       "  <thead>\n",
       "    <tr style=\"text-align: right;\">\n",
       "      <th></th>\n",
       "      <th>X</th>\n",
       "      <th>Y</th>\n",
       "      <th>GWPROD_V2</th>\n",
       "      <th>geometry</th>\n",
       "      <th>GW_prod_cat_L_s</th>\n",
       "    </tr>\n",
       "  </thead>\n",
       "  <tbody>\n",
       "    <tr>\n",
       "      <th>0</th>\n",
       "      <td>9.41405</td>\n",
       "      <td>37.251192</td>\n",
       "      <td>M</td>\n",
       "      <td>POINT (1047967.285 4474177.758)</td>\n",
       "      <td>3.0</td>\n",
       "    </tr>\n",
       "    <tr>\n",
       "      <th>1</th>\n",
       "      <td>9.46405</td>\n",
       "      <td>37.251192</td>\n",
       "      <td>M</td>\n",
       "      <td>POINT (1053533.259 4474177.758)</td>\n",
       "      <td>3.0</td>\n",
       "    </tr>\n",
       "    <tr>\n",
       "      <th>2</th>\n",
       "      <td>9.51405</td>\n",
       "      <td>37.251192</td>\n",
       "      <td>M</td>\n",
       "      <td>POINT (1059099.234 4474177.758)</td>\n",
       "      <td>3.0</td>\n",
       "    </tr>\n",
       "    <tr>\n",
       "      <th>3</th>\n",
       "      <td>9.56405</td>\n",
       "      <td>37.251192</td>\n",
       "      <td>M</td>\n",
       "      <td>POINT (1064665.209 4474177.758)</td>\n",
       "      <td>3.0</td>\n",
       "    </tr>\n",
       "    <tr>\n",
       "      <th>4</th>\n",
       "      <td>9.61405</td>\n",
       "      <td>37.251192</td>\n",
       "      <td>H</td>\n",
       "      <td>POINT (1070231.183 4474177.758)</td>\n",
       "      <td>12.5</td>\n",
       "    </tr>\n",
       "  </tbody>\n",
       "</table>\n",
       "</div>"
      ],
      "text/plain": [
       "         X          Y GWPROD_V2                         geometry  \\\n",
       "0  9.41405  37.251192         M  POINT (1047967.285 4474177.758)   \n",
       "1  9.46405  37.251192         M  POINT (1053533.259 4474177.758)   \n",
       "2  9.51405  37.251192         M  POINT (1059099.234 4474177.758)   \n",
       "3  9.56405  37.251192         M  POINT (1064665.209 4474177.758)   \n",
       "4  9.61405  37.251192         H  POINT (1070231.183 4474177.758)   \n",
       "\n",
       "   GW_prod_cat_L_s  \n",
       "0              3.0  \n",
       "1              3.0  \n",
       "2              3.0  \n",
       "3              3.0  \n",
       "4             12.5  "
      ]
     },
     "execution_count": 3,
     "metadata": {},
     "output_type": "execute_result"
    }
   ],
   "source": [
    "# Show a preview of the processed data\n",
    "gdf_GW.head()"
   ]
  }
 ],
 "metadata": {
  "kernelspec": {
   "display_name": "irrigation",
   "language": "python",
   "name": "python3"
  },
  "language_info": {
   "codemirror_mode": {
    "name": "ipython",
    "version": 3
   },
   "file_extension": ".py",
   "mimetype": "text/x-python",
   "name": "python",
   "nbconvert_exporter": "python",
   "pygments_lexer": "ipython3",
   "version": "3.12.4"
  }
 },
 "nbformat": 4,
 "nbformat_minor": 2
}
