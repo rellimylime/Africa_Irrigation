{
 "cells": [
  {
   "cell_type": "code",
   "execution_count": 1,
   "metadata": {},
   "outputs": [],
   "source": [
    "import geopandas as gpd\n",
    "import pandas as pd\n",
    "import matplotlib.pyplot as plt\n",
    "from shapely.geometry import Point\n",
    "import yaml\n",
    "import os\n",
    "\n",
    "# Load configuration\n",
    "with open('../../config.yaml', 'r') as file:\n",
    "    config = yaml.safe_load(file)\n",
    "\n",
    "def resolve_path(relative_path):\n",
    "    return os.path.join(config['base_path'], relative_path)\n",
    "\n",
    "african_isos = [\n",
    "    'DZA', 'AGO', 'BEN', 'BWA', 'BFA', 'BDI', 'CPV', 'CMR', 'CAF', 'TCD', 'COM', 'COD', 'DJI', 'EGY', 'GNQ', 'ERI', \n",
    "    'SWZ', 'ETH', 'GAB', 'GMB', 'GHA', 'GIN', 'GNB', 'CIV', 'KEN', 'LSO', 'LBR', 'LBY', 'MDG', 'MWI', 'MLI', 'MRT', \n",
    "    'MUS', 'MAR', 'MOZ', 'NAM', 'NER', 'NGA', 'RWA', 'STP', 'SEN', 'SYC', 'SLE', 'SOM', 'ZAF', 'SSD', 'SDN', 'TZA', \n",
    "    'TGO', 'UGA', 'ZMB', 'ZWE'\n",
    "]"
   ]
  },
  {
   "cell_type": "markdown",
   "metadata": {},
   "source": [
    "##### Filter the dam data"
   ]
  },
  {
   "cell_type": "code",
   "execution_count": 8,
   "metadata": {},
   "outputs": [
    {
     "name": "stdout",
     "output_type": "stream",
     "text": [
      "         Country                               Purpose  ISO Long__res_  \\\n",
      "321     Zimbabwe                Hydropower, Irrigation  ZWE    32.0167   \n",
      "323         Togo                Irrigation, Hydropower  BEN   1.435166   \n",
      "324   Mozambique                Hydropower; Irrigation  MOZ  32.143353   \n",
      "414      Morocco  Hydropower, Irrigation, Water Supply  MAR  -4.676228   \n",
      "415  Ivory Coast                            Irrigation  CIV  -5.259304   \n",
      "\n",
      "     Lat__res_  \n",
      "321     -19.25  \n",
      "323   7.431467  \n",
      "324 -23.872949  \n",
      "414  33.930336  \n",
      "415   9.565742  \n",
      "          Country     Purpose  ISO Long__res_  Lat__res_\n",
      "415   Ivory Coast  Irrigation  CIV  -5.259304   9.565742\n",
      "416         Egypt  Irrigation  EGY  31.189583  27.202083\n",
      "424       Algeria  Irrigation  DZA   5.923963   34.85386\n",
      "426  South Africa  Irrigation  ZAF  20.405208 -33.393856\n",
      "428  Burkina Faso  Irrigation  BFA  -5.356683  10.590938\n"
     ]
    }
   ],
   "source": [
    "global_dams = pd.read_csv(resolve_path(config['Global_Dam_Data_csv_path']))\n",
    "#print(global_dams.head())\n",
    "\n",
    "# Strip whitespace from ISO column just in case\n",
    "global_dams['ISO'] = global_dams['ISO'].str.strip()\n",
    "\n",
    "#print(global_dams.head())\n",
    "\n",
    "# Filter for African dams\n",
    "africa_dams = global_dams[global_dams['ISO'].isin(african_isos)].copy()\n",
    "\n",
    "#print(africa_dams.head())\n",
    "\n",
    "# Filter and keep only the necessary columns\n",
    "filtered_data = africa_dams[['Country', 'Purpose', 'ISO', 'Long__res_', 'Lat__res_']]\n",
    "\n",
    "#filtered_data.columns = filtered_data.columns.str.strip()\n",
    "\n",
    "# Ensure Long__res_ and Lat__res_ are treated as numeric using .loc\n",
    "filtered_data.loc[:, 'Long__res_'] = pd.to_numeric(filtered_data['Long__res_'], errors='coerce')\n",
    "filtered_data.loc[:, 'Lat__res_'] = pd.to_numeric(filtered_data['Lat__res_'], errors='coerce')\n",
    "\n",
    "# Exclude rows where both 'Long__res_' and 'Lat__res_' are 0\n",
    "filtered_data = filtered_data[(filtered_data['Long__res_'] != 0) | (filtered_data['Lat__res_'] != 0)].copy()\n",
    "\n",
    "filtered_data.to_csv(resolve_path(config['Africa_Dam_csv_path']), index = False)\n",
    "\n",
    "\n",
    "# Filter dams where the 'Purpose' column contains the word 'Irrigation'\n",
    "filtered_data_irrigation = filtered_data[filtered_data['Purpose'].str.contains('Irrigation', case=False, na=False)]\n",
    "\n",
    "print(filtered_data_irrigation.head())\n",
    "\n",
    "filtered_data_irrigation.to_csv(resolve_path(config['Africa_Dam_Irrigation_csv_path']), index = False)\n",
    "\n",
    "\n",
    "# Filter dams where the 'Purpose' =='Irrigation'\n",
    "filtered_data_irrigation_only = filtered_data[filtered_data['Purpose'] == 'Irrigation']\n",
    "\n",
    "print(filtered_data_irrigation_only.head())\n",
    "\n",
    "filtered_data_irrigation_only.to_csv(resolve_path(config['Africa_Dam_Irrigation_Only_csv_path']), index = False)"
   ]
  },
  {
   "cell_type": "markdown",
   "metadata": {},
   "source": [
    "Turn the CSV into a GDF and trim to arid regions"
   ]
  },
  {
   "cell_type": "code",
   "execution_count": 9,
   "metadata": {},
   "outputs": [
    {
     "name": "stdout",
     "output_type": "stream",
     "text": [
      "Semi_Arid CRS: EPSG:4326\n"
     ]
    },
    {
     "name": "stderr",
     "output_type": "stream",
     "text": [
      "/tmp/ipykernel_227600/587839807.py:23: UserWarning: Column names longer than 10 characters will be truncated when saved to ESRI Shapefile.\n",
      "  gdf_dams_layer.to_file(output_path)\n"
     ]
    },
    {
     "name": "stdout",
     "output_type": "stream",
     "text": [
      "Arid CRS: EPSG:4326\n"
     ]
    },
    {
     "name": "stderr",
     "output_type": "stream",
     "text": [
      "/tmp/ipykernel_227600/587839807.py:23: UserWarning: Column names longer than 10 characters will be truncated when saved to ESRI Shapefile.\n",
      "  gdf_dams_layer.to_file(output_path)\n"
     ]
    },
    {
     "name": "stdout",
     "output_type": "stream",
     "text": [
      "Hyper_Arid CRS: EPSG:4326\n"
     ]
    },
    {
     "name": "stderr",
     "output_type": "stream",
     "text": [
      "/tmp/ipykernel_227600/587839807.py:23: UserWarning: Column names longer than 10 characters will be truncated when saved to ESRI Shapefile.\n",
      "  gdf_dams_layer.to_file(output_path)\n"
     ]
    },
    {
     "data": {
      "image/png": "[encoded data removed]",
      "text/plain": [
       "<Figure size 640x480 with 1 Axes>"
      ]
     },
     "metadata": {},
     "output_type": "display_data"
    },
    {
     "name": "stdout",
     "output_type": "stream",
     "text": [
      "All CRS: EPSG:4326\n"
     ]
    },
    {
     "name": "stderr",
     "output_type": "stream",
     "text": [
      "/tmp/ipykernel_227600/587839807.py:23: UserWarning: Column names longer than 10 characters will be truncated when saved to ESRI Shapefile.\n",
      "  gdf_dams_layer.to_file(output_path)\n"
     ]
    }
   ],
   "source": [
    "# Load the dams data and convert to GeoDataFrame\n",
    "africa_dams = pd.read_csv(resolve_path(config['Africa_Dam_Irrigation_csv_path']))\n",
    "geometry = [Point(xy) for xy in zip(africa_dams['Long__res_'], africa_dams['Lat__res_'])]\n",
    "gdf_dams = gpd.GeoDataFrame(africa_dams, geometry=geometry)\n",
    "gdf_dams = gdf_dams.set_crs(\"EPSG:4326\")  # Ensure the initial CRS is correct\n",
    "\n",
    "# Define the aridity layers\n",
    "layers = ['Semi_Arid', 'Arid', 'Hyper_Arid', 'All']\n",
    "\n",
    "# Iterate through each aridity layer, load the shapefile, perform the spatial join, and save the result\n",
    "for layer in layers:\n",
    "    # Load the aridity shapefile and set CRS\n",
    "    shapefile_path = resolve_path(config[f'Africa_{layer}_shp_path'])\n",
    "    arid_shp = gpd.read_file(shapefile_path)\n",
    "    arid_shp = arid_shp.set_crs(\"EPSG:4326\")  # Ensure the CRS is correct\n",
    "    print(f\"{layer} CRS: {arid_shp.crs}\")\n",
    "\n",
    "    # Perform spatial join to crop dams to the aridity layer\n",
    "    gdf_dams_layer = gpd.sjoin(gdf_dams, arid_shp, how=\"inner\", predicate=\"within\")\n",
    "\n",
    "    # Save the cropped dams GeoDataFrame to a shapefile\n",
    "    output_path = resolve_path(config[f'Africa_Dam_{layer}_shp_path'])\n",
    "    gdf_dams_layer.to_file(output_path)\n",
    "\n",
    "    # Optionally, plot the result for verification\n",
    "    if layer == 'Hyper_Arid':  # Plot only the Hyper Arid layer for now\n",
    "        gdf_dams_layer.plot()\n",
    "        plt.title(f'Dams in {layer} Layer')\n",
    "        plt.show()\n",
    "\n",
    "    "
   ]
  },
  {
   "cell_type": "code",
   "execution_count": 2,
   "metadata": {},
   "outputs": [
    {
     "name": "stdout",
     "output_type": "stream",
     "text": [
      "      Country                               Purpose  ISO  Long__res_  \\\n",
      "0    Zimbabwe                Hydropower, Irrigation  ZWE   32.016700   \n",
      "1  Mozambique                Hydropower; Irrigation  MOZ   32.143353   \n",
      "2     Morocco  Hydropower, Irrigation, Water Supply  MAR   -4.676228   \n",
      "3       Egypt                            Irrigation  EGY   31.189583   \n",
      "4     Algeria                            Irrigation  DZA    5.923963   \n",
      "\n",
      "   Lat__res_  index_righ   FID                    geometry  \n",
      "0 -19.250000        3566  3566  POINT (32.01670 -19.25000)  \n",
      "1 -23.872949        3566  3566  POINT (32.14335 -23.87295)  \n",
      "2  33.930336        2466  2466   POINT (-4.67623 33.93034)  \n",
      "3  27.202083        2466  2466   POINT (31.18958 27.20208)  \n",
      "4  34.853860        2466  2466    POINT (5.92396 34.85386)  \n"
     ]
    }
   ],
   "source": [
    "dam_stuf = gpd.read_file(resolve_path(config['Africa_Dam_All_shp_path']))\n",
    "print(dam_stuf.head())"
   ]
  }
 ],
 "metadata": {
  "kernelspec": {
   "display_name": "irrigation",
   "language": "python",
   "name": "python3"
  },
  "language_info": {
   "codemirror_mode": {
    "name": "ipython",
    "version": 3
   },
   "file_extension": ".py",
   "mimetype": "text/x-python",
   "name": "python",
   "nbconvert_exporter": "python",
   "pygments_lexer": "ipython3",
   "version": "3.12.4"
  }
 },
 "nbformat": 4,
 "nbformat_minor": 2
}
