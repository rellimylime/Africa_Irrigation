{
 "cells": [
  {
   "cell_type": "code",
   "execution_count": 10,
   "metadata": {},
   "outputs": [],
   "source": [
    "import geopandas as gpd\n",
    "import pandas as pd\n",
    "import fiona\n",
    "import matplotlib.pyplot as plt\n",
    "import matplotlib\n",
    "from shapely.geometry import Point\n",
    "from tqdm import tqdm\n",
    "from rasterio.plot import show\n",
    "import rasterio\n",
    "import numpy as np\n",
    "import yaml\n",
    "import os\n",
    "\n",
    "# Load configuration\n",
    "with open('../../config.yaml', 'r') as file:\n",
    "    config = yaml.safe_load(file)\n",
    "\n",
    "def resolve_path(relative_path):\n",
    "    return os.path.join(config['base_path'], relative_path)\n",
    "\n",
    "african_isos = [\n",
    "    'DZA', 'AGO', 'BEN', 'BWA', 'BFA', 'BDI', 'CPV', 'CMR', 'CAF', 'TCD', 'COM', 'COD', 'DJI', 'EGY', 'GNQ', 'ERI', \n",
    "    'SWZ', 'ETH', 'GAB', 'GMB', 'GHA', 'GIN', 'GNB', 'CIV', 'KEN', 'LSO', 'LBR', 'LBY', 'MDG', 'MWI', 'MLI', 'MRT', \n",
    "    'MUS', 'MAR', 'MOZ', 'NAM', 'NER', 'NGA', 'RWA', 'STP', 'SEN', 'SYC', 'SLE', 'SOM', 'ZAF', 'SSD', 'SDN', 'TZA', \n",
    "    'TGO', 'UGA', 'ZMB', 'ZWE'\n",
    "]"
   ]
  },
  {
   "cell_type": "markdown",
   "metadata": {},
   "source": [
    "##### Filter the dam data"
   ]
  },
  {
   "cell_type": "code",
   "execution_count": 11,
   "metadata": {},
   "outputs": [
    {
     "name": "stdout",
     "output_type": "stream",
     "text": [
      "         Country                               Purpose  ISO Long__res_  \\\n",
      "321     Zimbabwe                Hydropower, Irrigation  ZWE    32.0167   \n",
      "323         Togo                Irrigation, Hydropower  BEN   1.435166   \n",
      "324   Mozambique                Hydropower; Irrigation  MOZ  32.143353   \n",
      "414      Morocco  Hydropower, Irrigation, Water Supply  MAR  -4.676228   \n",
      "415  Ivory Coast                            Irrigation  CIV  -5.259304   \n",
      "\n",
      "     Lat__res_  \n",
      "321     -19.25  \n",
      "323   7.431467  \n",
      "324 -23.872949  \n",
      "414  33.930336  \n",
      "415   9.565742  \n",
      "          Country     Purpose  ISO Long__res_  Lat__res_\n",
      "415   Ivory Coast  Irrigation  CIV  -5.259304   9.565742\n",
      "416         Egypt  Irrigation  EGY  31.189583  27.202083\n",
      "424       Algeria  Irrigation  DZA   5.923963   34.85386\n",
      "426  South Africa  Irrigation  ZAF  20.405208 -33.393856\n",
      "428  Burkina Faso  Irrigation  BFA  -5.356683  10.590938\n"
     ]
    }
   ],
   "source": [
    "global_dams = pd.read_csv(resolve_path(config['Global_Dam_Data_csv_path']))\n",
    "#print(global_dams.head())\n",
    "\n",
    "# Strip whitespace from ISO column just in case\n",
    "global_dams['ISO'] = global_dams['ISO'].str.strip()\n",
    "\n",
    "#print(global_dams.head())\n",
    "\n",
    "# Filter for African dams\n",
    "africa_dams = global_dams[global_dams['ISO'].isin(african_isos)].copy()\n",
    "\n",
    "#print(africa_dams.head())\n",
    "\n",
    "# Filter and keep only the necessary columns\n",
    "filtered_data = africa_dams[['Country', 'Purpose', 'ISO', 'Long__res_', 'Lat__res_']]\n",
    "\n",
    "#filtered_data.columns = filtered_data.columns.str.strip()\n",
    "\n",
    "# Ensure Long__res_ and Lat__res_ are treated as numeric using .loc\n",
    "filtered_data.loc[:, 'Long__res_'] = pd.to_numeric(filtered_data['Long__res_'], errors='coerce')\n",
    "filtered_data.loc[:, 'Lat__res_'] = pd.to_numeric(filtered_data['Lat__res_'], errors='coerce')\n",
    "\n",
    "# Exclude rows where both 'Long__res_' and 'Lat__res_' are 0\n",
    "filtered_data = filtered_data[(filtered_data['Long__res_'] != 0) | (filtered_data['Lat__res_'] != 0)].copy()\n",
    "\n",
    "filtered_data.to_csv(resolve_path(config['Africa_Dam_csv_path']), index = False)\n",
    "\n",
    "\n",
    "\n",
    "# Filter dams where the 'Purpose' column contains the word 'Irrigation'\n",
    "filtered_data_irrigation = filtered_data[filtered_data['Purpose'].str.contains('Irrigation', case=False, na=False)]\n",
    "\n",
    "print(filtered_data_irrigation.head())\n",
    "\n",
    "filtered_data_irrigation.to_csv(resolve_path(config['Africa_Dam_Irrigation_csv_path']), index = False)\n",
    "\n",
    "\n",
    "\n",
    "# Filter dams where the 'Purpose' =='Irrigation'\n",
    "filtered_data_irrigation_only = filtered_data[filtered_data['Purpose'] == 'Irrigation']\n",
    "\n",
    "print(filtered_data_irrigation_only.head())\n",
    "\n",
    "filtered_data_irrigation_only.to_csv(resolve_path(config['Africa_Dam_Irrigation_Only_csv_path']), index = False)"
   ]
  },
  {
   "cell_type": "markdown",
   "metadata": {},
   "source": [
    "Turn the CSV into a GDF and trim to arid regions"
   ]
  },
  {
   "cell_type": "code",
   "execution_count": 12,
   "metadata": {},
   "outputs": [
    {
     "name": "stdout",
     "output_type": "stream",
     "text": [
      "EPSG:4326\n",
      "EPSG:4326\n",
      "EPSG:4326\n",
      "None\n"
     ]
    },
    {
     "name": "stderr",
     "output_type": "stream",
     "text": [
      "/tmp/ipykernel_125306/2247479518.py:26: UserWarning: Column names longer than 10 characters will be truncated when saved to ESRI Shapefile.\n",
      "  gdf_dams_all.to_file(resolve_path(config['Africa_Dam_All_Arid_shp_path']))\n"
     ]
    },
    {
     "name": "stdout",
     "output_type": "stream",
     "text": [
      "        Country     Purpose  ISO  Long__res_  Lat__res_  \\\n",
      "1         Egypt  Irrigation  EGY   31.189583  27.202083   \n",
      "2       Algeria  Irrigation  DZA    5.923963  34.853860   \n",
      "3  South Africa  Irrigation  ZAF   20.405208 -33.393856   \n",
      "4  Burkina Faso  Irrigation  BFA   -5.356683  10.590938   \n",
      "5  South Africa  Irrigation  ZAF   22.585419 -33.512207   \n",
      "\n",
      "                     geometry  index_right   FID  \n",
      "1   POINT (31.18958 27.20208)         2466  2466  \n",
      "2    POINT (5.92396 34.85386)         2466  2466  \n",
      "3  POINT (20.40521 -33.39386)         3566  3566  \n",
      "4   POINT (-5.35668 10.59094)         1462  1462  \n",
      "5  POINT (22.58542 -33.51221)         3566  3566  \n"
     ]
    },
    {
     "name": "stderr",
     "output_type": "stream",
     "text": [
      "/tmp/ipykernel_125306/2247479518.py:30: UserWarning: Column names longer than 10 characters will be truncated when saved to ESRI Shapefile.\n",
      "  gdf_dams_semi.to_file(resolve_path(config['Africa_Dam_Semi_Arid_shp_path']))\n",
      "/tmp/ipykernel_125306/2247479518.py:33: UserWarning: Column names longer than 10 characters will be truncated when saved to ESRI Shapefile.\n",
      "  gdf_dams_arid.to_file(resolve_path(config['Africa_Dam_Arid_shp_path']))\n",
      "/tmp/ipykernel_125306/2247479518.py:35: UserWarning: CRS mismatch between the CRS of left geometries and the CRS of right geometries.\n",
      "Use `to_crs()` to reproject one of the input geometries to match the CRS of the other.\n",
      "\n",
      "Left CRS: EPSG:4326\n",
      "Right CRS: None\n",
      "\n",
      "  gdf_dams_hyper = gpd.sjoin(gdf_dams, africa_hyper_arid_shp, how=\"inner\", predicate=\"within\")\n",
      "/tmp/ipykernel_125306/2247479518.py:36: UserWarning: Column names longer than 10 characters will be truncated when saved to ESRI Shapefile.\n",
      "  gdf_dams_hyper.to_file(resolve_path(config['Africa_Dam_Hyper_Arid_shp_path']))\n"
     ]
    }
   ],
   "source": [
    "# Load the dams data and convert to GeoDataFrame\n",
    "africa_dams = pd.read_csv(resolve_path(config['Africa_Dam_Irrigation_Only_csv_path']))\n",
    "geometry = [Point(xy) for xy in zip(africa_dams['Long__res_'], africa_dams['Lat__res_'])]\n",
    "gdf_dams = gpd.GeoDataFrame(africa_dams, geometry=geometry)\n",
    "gdf_dams = gdf_dams.set_crs(\"EPSG:4326\")  # Ensure the initial CRS is correct\n",
    "\n",
    "# Load aridity shapefile\n",
    "africa_all_arid_shp = gpd.read_file(resolve_path(config['Africa_all_shp_path']))\n",
    "africa_all_arid_shp.set_crs(\"EPSG:4326\")\n",
    "print(africa_all_arid_shp.crs)\n",
    "\n",
    "africa_semi_arid_shp = gpd.read_file(resolve_path(config['Africa_semi_arid_shp_path']))\n",
    "africa_semi_arid_shp.set_crs(\"EPSG:4326\")\n",
    "print(africa_semi_arid_shp.crs)\n",
    "\n",
    "africa_arid_shp = gpd.read_file(resolve_path(config['Africa_arid_shp_path']))\n",
    "africa_arid_shp.set_crs(\"EPSG:4326\")\n",
    "print(africa_arid_shp.crs)\n",
    "\n",
    "africa_hyper_arid_shp = gpd.read_file(resolve_path(config['Africa_hyper_arid_shp_path']))\n",
    "africa_hyper_arid_shp.set_crs(\"EPSG:4326\")\n",
    "print(africa_hyper_arid_shp.crs)\n",
    "\n",
    "# Crop the dams GDF to the shapefile\n",
    "gdf_dams_all = gpd.sjoin(gdf_dams, africa_all_arid_shp, how=\"inner\", predicate=\"within\")\n",
    "gdf_dams_all.to_file(resolve_path(config['Africa_Dam_All_Arid_shp_path']))\n",
    "print(gdf_dams_all.head())\n",
    "\n",
    "gdf_dams_semi = gpd.sjoin(gdf_dams, africa_semi_arid_shp, how=\"inner\", predicate=\"within\")\n",
    "gdf_dams_semi.to_file(resolve_path(config['Africa_Dam_Semi_Arid_shp_path']))\n",
    "\n",
    "gdf_dams_arid = gpd.sjoin(gdf_dams, africa_arid_shp, how=\"inner\", predicate=\"within\")\n",
    "gdf_dams_arid.to_file(resolve_path(config['Africa_Dam_Arid_shp_path']))\n",
    "\n",
    "gdf_dams_hyper = gpd.sjoin(gdf_dams, africa_hyper_arid_shp, how=\"inner\", predicate=\"within\")\n",
    "gdf_dams_hyper.to_file(resolve_path(config['Africa_Dam_Hyper_Arid_shp_path']))"
   ]
  },
  {
   "cell_type": "markdown",
   "metadata": {},
   "source": [
    "##### Look at some CPIS to Dam distances"
   ]
  },
  {
   "cell_type": "code",
   "execution_count": 35,
   "metadata": {},
   "outputs": [
    {
     "data": {
      "image/png": "[encoded data removed]",
      "text/plain": [
       "<Figure size 640x480 with 1 Axes>"
      ]
     },
     "metadata": {},
     "output_type": "display_data"
    },
    {
     "name": "stdout",
     "output_type": "stream",
     "text": [
      "count    32364.000000\n",
      "mean      4220.502742\n",
      "std        409.566986\n",
      "min       1153.010223\n",
      "25%       4133.059613\n",
      "50%       4293.381575\n",
      "75%       4419.583090\n",
      "max       5465.848190\n",
      "Name: nearest_dam_distance, dtype: float64\n"
     ]
    }
   ],
   "source": [
    "# Load the dams data and convert to GeoDataFrame\n",
    "africa_dams = pd.read_csv(resolve_path(config['Africa_Dam_csv_path']))\n",
    "geometry = [Point(xy) for xy in zip(africa_dams['Long__res_'], africa_dams['Lat__res_'])]\n",
    "gdf_dams = gpd.GeoDataFrame(africa_dams, geometry=geometry)\n",
    "gdf_dams = gdf_dams.set_crs(\"EPSG:4326\")  # Ensure the initial CRS is correct\n",
    "\n",
    "gdf_dams.plot()\n",
    "plt.show()\n",
    "\n",
    "# Load the CPIS shapefile\n",
    "gdf_cpis = gpd.read_file(resolve_path(config['Combined_CPIS_shp_path']))\n",
    "\n",
    "# Ensure both GeoDataFrames use the same CRS (unit in meters instead of degrees)\n",
    "gdf_dams = gdf_dams.to_crs(\"EPSG:3857\")\n",
    "gdf_cpis = gdf_cpis.to_crs(\"EPSG:3857\")\n",
    "\n",
    "# Calculate distances from each CPIS to the nearest dam\n",
    "gdf_cpis['nearest_dam_distance'] = gdf_cpis.geometry.apply(lambda x: gdf_dams.distance(x).min())/1000\n",
    "\n",
    "# Statistical summary of distances\n",
    "distance_summary = gdf_cpis['nearest_dam_distance'].describe()\n",
    "print(distance_summary)"
   ]
  }
 ],
 "metadata": {
  "kernelspec": {
   "display_name": "irrigation",
   "language": "python",
   "name": "python3"
  },
  "language_info": {
   "codemirror_mode": {
    "name": "ipython",
    "version": 3
   },
   "file_extension": ".py",
   "mimetype": "text/x-python",
   "name": "python",
   "nbconvert_exporter": "python",
   "pygments_lexer": "ipython3",
   "version": "3.12.4"
  }
 },
 "nbformat": 4,
 "nbformat_minor": 2
}
