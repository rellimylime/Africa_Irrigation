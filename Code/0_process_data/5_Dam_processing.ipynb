{
 "cells": [
  {
   "cell_type": "code",
   "execution_count": null,
   "metadata": {},
   "outputs": [],
   "source": [
    "import geopandas as gpd\n",
    "import pandas as pd\n",
    "import fiona\n",
    "import matplotlib.pyplot as plt\n",
    "from shapely.geometry import Point\n",
    "from tqdm import tqdm\n",
    "import rasterio\n",
    "import numpy as np\n",
    "import yaml\n",
    "import os\n",
    "\n",
    "# Load configuration\n",
    "with open('../../config.yaml', 'r') as file:\n",
    "    config = yaml.safe_load(file)\n",
    "\n",
    "def resolve_path(relative_path):\n",
    "    return os.path.join(config['base_path'], relative_path)\n",
    "\n",
    "african_isos = [\n",
    "    'DZA', 'AGO', 'BEN', 'BWA', 'BFA', 'BDI', 'CPV', 'CMR', 'CAF', 'TCD', 'COM', 'COD', 'DJI', 'EGY', 'GNQ', 'ERI', \n",
    "    'SWZ', 'ETH', 'GAB', 'GMB', 'GHA', 'GIN', 'GNB', 'CIV', 'KEN', 'LSO', 'LBR', 'LBY', 'MDG', 'MWI', 'MLI', 'MRT', \n",
    "    'MUS', 'MAR', 'MOZ', 'NAM', 'NER', 'NGA', 'RWA', 'STP', 'SEN', 'SYC', 'SLE', 'SOM', 'ZAF', 'SSD', 'SDN', 'TZA', \n",
    "    'TGO', 'UGA', 'ZMB', 'ZWE'\n",
    "]"
   ]
  },
  {
   "cell_type": "markdown",
   "metadata": {},
   "source": [
    "##### Figure out how much data is missing coordinates"
   ]
  },
  {
   "cell_type": "code",
   "execution_count": null,
   "metadata": {},
   "outputs": [],
   "source": [
    "global_dams = pd.read_csv(resolve_path(config['Global_Dam_Data_csv_path']))\n",
    "\n",
    "africa_dams = global_dams[global_dams['ISO'].isin(african_isos)].copy()\n",
    "africa_dams.to_csv(resolve_path(config['Africa_Dam_csv_path']))\n",
    "\n",
    "# Ensure Long__res_ and Lat__res_ are treated as numeric\n",
    "africa_dams.loc[:, 'Long__res_'] = pd.to_numeric(africa_dams['Long__res_'], errors='coerce')\n",
    "africa_dams.loc[:, 'Lat__res_'] = pd.to_numeric(africa_dams['Lat__res_'], errors='coerce')\n",
    "\n",
    "# Strip whitespace from ISO column just in case\n",
    "africa_dams.loc[:, 'ISO'] = africa_dams['ISO'].str.strip()\n",
    "\n",
    "# Check for rows where both Long__res_ and Lat__res_ are 0\n",
    "zero_coords = (africa_dams['Long__res_'] == 0) & (africa_dams['Lat__res_'] == 0)\n",
    "\n",
    "# Calculate the proportion\n",
    "proportion_zeroes = zero_coords.sum() / len(africa_dams)\n",
    "\n",
    "print(f\"The proportion of data with null coordinates is {proportion_zeroes:.2%}\")\n"
   ]
  },
  {
   "cell_type": "markdown",
   "metadata": {},
   "source": [
    "##### Turn the dam data into a gdf"
   ]
  },
  {
   "cell_type": "code",
   "execution_count": null,
   "metadata": {},
   "outputs": [],
   "source": [
    "# Load the dams data and convert to GeoDataFrame\n",
    "africa_dams = pd.read_csv(resolve_path(config['Africa_Dam_csv_path']))\n",
    "geometry = [Point(xy) for xy in zip(africa_dams['Long__res_'], africa_dams['Lat__res_'])]\n",
    "gdf_dams = gpd.GeoDataFrame(africa_dams, geometry=geometry)\n",
    "\n",
    "gdf_dams.plot()\n",
    "plt.show()\n",
    "\n",
    "# Load the CPIS shapefile\n",
    "gdf_cpis = gpd.read_file(resolve_path(config['Combined_CPIS_shp_path']))\n",
    "\n",
    "# Ensure both GeoDataFrames use the same CRS (unit in meters instead of degrees)\n",
    "gdf_dams = gdf_dams.set_crs(\"EPSG:3857\")\n",
    "gdf_cpis = gdf_cpis.to_crs(\"EPSG:3857\")\n",
    "\n",
    "# Calculate distances from each CPIS to the nearest dam\n",
    "gdf_cpis['nearest_dam_distance'] = gdf_cpis.geometry.apply(lambda x: gdf_dams.distance(x).min())/1000\n",
    "\n",
    "# Statistical summary of distances\n",
    "distance_summary = gdf_cpis['nearest_dam_distance'].describe()\n",
    "print(distance_summary)"
   ]
  }
 ],
 "metadata": {
  "language_info": {
   "name": "python"
  }
 },
 "nbformat": 4,
 "nbformat_minor": 2
}
