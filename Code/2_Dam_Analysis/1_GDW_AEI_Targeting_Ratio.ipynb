{
 "cells": [
  {
   "cell_type": "markdown",
   "metadata": {},
   "source": [
    "# Dam-AEI Targeting Ratio Analysis (GDW Dataset, by Aridity Layer)\n",
    "\n",
    "This notebook analyzes the targeting ratio between dams and irrigated areas using the GDW dataset, broken down by aridity layer (All, Semi-Arid, Arid, Hyper-Arid). Targeting ratios are calculated using country-specific denominators for full comparability with the other analysis."
   ]
  },
  {
   "cell_type": "markdown",
   "metadata": {},
   "source": [
    "## 1. Import Libraries and Utility Functions\n",
    "Import all required libraries and utility functions for spatial analysis, configuration, and plotting."
   ]
  },
  {
   "cell_type": "code",
   "execution_count": null,
   "metadata": {},
   "outputs": [],
   "source": [
    "# Import required libraries and utility functions\n",
    "import geopandas as gpd\n",
    "import pandas as pd\n",
    "import matplotlib.pyplot as plt\n",
    "import numpy as np\n",
    "import rasterio\n",
    "from rasterio.mask import mask\n",
    "from scipy.spatial import cKDTree\n",
    "import os\n",
    "import sys\n",
    "\n",
    "# Add the project root to sys.path so we can import from Code.utils everywhere\n",
    "project_root = os.path.abspath(os.path.join(os.getcwd(), '..', '..'))\n",
    "if project_root not in sys.path:\n",
    "    sys.path.insert(0, project_root)\n",
    "\n",
    "from Code.utils.utility import load_config, resolve_path\n",
    "from Code.utils.spatial_utility import load_and_reproject, bootstrap_targeting_ratio, calculate_nearest_distances, generate_distance_ranges\n",
    "\n",
    "# Load configuration\n",
    "config = load_config()\n",
    "layers = ['All', 'Semi_Arid', 'Arid', 'Hyper_Arid']\n",
    "distance_ranges = generate_distance_ranges(min_dist=0, max_dist=100000, num_intervals=10)"
   ]
  },
  {
   "cell_type": "markdown",
   "metadata": {},
   "source": [
    "## 2. Generate Distance Ranges\n",
    "Create distance intervals for classifying proximity to dams."
   ]
  },
  {
   "cell_type": "code",
   "execution_count": 27,
   "metadata": {},
   "outputs": [
    {
     "name": "stdout",
     "output_type": "stream",
     "text": [
      "Distance ranges: [(0.0, 10000.0), (10000.0, 20000.0), (20000.0, 30000.0), (30000.0, 40000.0), (40000.0, 50000.0), (50000.0, 60000.0), (60000.0, 70000.0), (70000.0, 80000.0), (80000.0, 90000.0), (90000.0, 100000.0)]\n"
     ]
    }
   ],
   "source": [
    "# Generate 10 intervals between 0 and 100,000 meters for distance classification\n",
    "# (e.g., 0-10km, 10-20km, ...)\n",
    "distance_ranges = generate_distance_ranges(min_dist=0, max_dist=100000, num_intervals=10)\n",
    "print(\"Distance ranges:\", distance_ranges)"
   ]
  },
  {
   "cell_type": "markdown",
   "metadata": {},
   "source": [
    "## 3. Load and Prepare Input Data\n",
    "Load and reproject dam, AEI, and CPIS data. Clip dams to arid SSA boundary."
   ]
  },
  {
   "cell_type": "code",
   "execution_count": 28,
   "metadata": {},
   "outputs": [
    {
     "name": "stdout",
     "output_type": "stream",
     "text": [
      "Dams in arid SSA: 2764\n",
      "AEI polygons in arid SSA: 16920\n",
      "CPIS polygons in arid SSA: 29493\n",
      "Dams in arid SSA after clipping: 2764\n",
      "Dams in arid SSA after clipping: 2764\n"
     ]
    }
   ],
   "source": [
    "try:\n",
    "    # Load and reproject dam, AEI, and CPIS data\n",
    "    gdf_dams = load_and_reproject(config['GDW_Arid_SSA_Final_shp_path'])\n",
    "    gdf_arid_ssa = load_and_reproject(config['SSA_Arid_by_Country_shp_path'])\n",
    "    gdf_AEI = load_and_reproject(config['AEI_2015_All_shp_path'])\n",
    "    gdf_cpis = load_and_reproject(config['SSA_Combined_CPIS_All_shp_path'])\n",
    "    \n",
    "    print(f\"Dams in arid SSA: {len(gdf_dams)}\")\n",
    "    print(f\"AEI polygons in arid SSA: {len(gdf_AEI)}\")\n",
    "    print(f\"CPIS polygons in arid SSA: {len(gdf_cpis)}\")\n",
    "    \n",
    "    # Clip dams to arid SSA boundary\n",
    "    gdf_dams = gpd.clip(gdf_dams, gdf_arid_ssa)\n",
    "    print(f\"Dams in arid SSA after clipping: {len(gdf_dams)}\")\n",
    "except Exception as e:\n",
    "    print(f\"Error loading input data: {e}\")"
   ]
  },
  {
   "cell_type": "markdown",
   "metadata": {},
   "source": [
    "## 4. Process AEI Raster Data\n",
    "Mask AEI raster to arid SSA and convert to point grid for analysis."
   ]
  },
  {
   "cell_type": "code",
   "execution_count": 29,
   "metadata": {},
   "outputs": [
    {
     "name": "stdout",
     "output_type": "stream",
     "text": [
      "Loaded and masked AEI raster data with shape (746, 828)\n"
     ]
    }
   ],
   "source": [
    "try:\n",
    "    # Load AEI raster data and mask to arid SSA\n",
    "    aei_raster_path = resolve_path(config['Africa_AEI_2015_asc_path'])\n",
    "    with rasterio.open(aei_raster_path) as src:\n",
    "        aei_crs = src.crs or rasterio.crs.CRS.from_epsg(4326)\n",
    "    gdf_arid_ssa = gdf_arid_ssa.to_crs(aei_crs)\n",
    "    with rasterio.open(aei_raster_path) as src:\n",
    "        aei_masked, aei_transform = mask(src, gdf_arid_ssa.geometry, crop=True)\n",
    "        aei_data = aei_masked[0]\n",
    "    print(f\"Loaded and masked AEI raster data with shape {aei_data.shape}\")\n",
    "except Exception as e:\n",
    "    print(f\"Error processing AEI raster data: {e}\")"
   ]
  },
  {
   "cell_type": "markdown",
   "metadata": {},
   "source": [
    "## 5. Convert Raster to Points\n",
    "Convert nonzero AEI raster pixels to point geometries for distance calculations."
   ]
  },
  {
   "cell_type": "code",
   "execution_count": 30,
   "metadata": {},
   "outputs": [
    {
     "name": "stdout",
     "output_type": "stream",
     "text": [
      "Converted AEI raster to 11238 points\n",
      "Reprojected AEI points to CRS: EPSG:3857\n"
     ]
    }
   ],
   "source": [
    "def raster_to_points(aei_array, transform):\n",
    "    \"\"\"Convert a raster array to a set of points for non-zero values.\"\"\"\n",
    "    if aei_array.ndim == 3:\n",
    "        aei_array = np.squeeze(aei_array, axis=0)\n",
    "    rows, cols = np.where(aei_array > 0)\n",
    "    xs, ys = rasterio.transform.xy(transform, rows, cols)\n",
    "    return np.column_stack([xs, ys])\n",
    "\n",
    "try:\n",
    "    # Convert masked AEI pixels to point grid\n",
    "    aei_points = raster_to_points(aei_masked, aei_transform)\n",
    "    print(f\"Converted AEI raster to {len(aei_points)} points\")\n",
    "    # Create a GeoDataFrame from the points\n",
    "    aei_points_gdf = gpd.GeoDataFrame(\n",
    "        geometry=gpd.points_from_xy(aei_points[:, 0], aei_points[:, 1]), \n",
    "        crs=aei_crs\n",
    "    )\n",
    "    # Reproject to match dam CRS\n",
    "    aei_points_gdf = aei_points_gdf.to_crs(gdf_dams.crs)\n",
    "    print(f\"Reprojected AEI points to CRS: {aei_points_gdf.crs}\")\n",
    "except Exception as e:\n",
    "    print(f\"Error converting raster to points: {e}\")"
   ]
  },
  {
   "cell_type": "markdown",
   "metadata": {},
   "source": [
    "## 6. Calculate Distances and Classify\n",
    "Compute distances from AEI points and CPIS centroids to nearest dams, and classify by distance range."
   ]
  },
  {
   "cell_type": "code",
   "execution_count": 31,
   "metadata": {},
   "outputs": [
    {
     "name": "stdout",
     "output_type": "stream",
     "text": [
      "Classified AEI points by distance to nearest dam\n",
      "Classified CPIS points by distance to nearest dam\n",
      "Classified CPIS points by distance to nearest dam\n"
     ]
    }
   ],
   "source": [
    "try:\n",
    "    # Calculate distances from AEI points to nearest dams\n",
    "    aei_coords = np.array([(pt.x, pt.y) for pt in aei_points_gdf.geometry])\n",
    "    dam_coords = np.array([(pt.x, pt.y) for pt in gdf_dams.geometry])\n",
    "    tree = cKDTree(dam_coords)\n",
    "    distances, _ = tree.query(aei_coords)\n",
    "    # Proportion of irrigated pixels in each distance range\n",
    "    def classify_by_distance(distances, distance_ranges):\n",
    "        proportions = {}\n",
    "        total = len(distances)\n",
    "        for lower, upper in distance_ranges:\n",
    "            label = f\"{int(lower)}-{int(upper)}\"\n",
    "            count = np.sum((distances >= lower) & (distances < upper))\n",
    "            proportions[label] = count / total if total > 0 else 0\n",
    "        return proportions\n",
    "    proportion_irrigated_pixels = classify_by_distance(distances, distance_ranges)\n",
    "    print(\"Classified AEI points by distance to nearest dam\")\n",
    "    # Calculate distances from CPIS centroids to nearest dams\n",
    "    cpis_centroids = np.array([(geom.centroid.x, geom.centroid.y) for geom in gdf_cpis.geometry])\n",
    "    cpis_tree = cKDTree(dam_coords)\n",
    "    cpis_distances, _ = cpis_tree.query(cpis_centroids)\n",
    "    gdf_cpis['dam_distance'] = cpis_distances\n",
    "    # Classify CPIS by distance\n",
    "    cpis_classification = {}\n",
    "    for lower, upper in distance_ranges:\n",
    "        label = f\"{int(lower)}-{int(upper)}\"\n",
    "        gdf_cpis[label] = ((gdf_cpis['dam_distance'] >= lower) & (gdf_cpis['dam_distance'] < upper)).astype(int)\n",
    "        cpis_classification[label] = gdf_cpis[label]\n",
    "    print(\"Classified CPIS points by distance to nearest dam\")\n",
    "except Exception as e:\n",
    "    print(f\"Error calculating distances and classifying: {e}\")"
   ]
  },
  {
   "cell_type": "markdown",
   "metadata": {},
   "source": [
    "## 7. Calculate Targeting Ratios\n",
    "Compute targeting ratios and confidence intervals for each distance range."
   ]
  },
  {
   "cell_type": "code",
   "execution_count": 32,
   "metadata": {},
   "outputs": [
    {
     "name": "stdout",
     "output_type": "stream",
     "text": [
      "Calculated initial targeting ratios\n"
     ]
    }
   ],
   "source": [
    "try:\n",
    "    # Calculate targeting ratios for each distance range\n",
    "    targeting_ratios = {}\n",
    "    confidence_intervals = {}\n",
    "    for label in cpis_classification.keys():\n",
    "        numerator = gdf_cpis[label].sum()\n",
    "        denominator = proportion_irrigated_pixels.get(label, 0) * len(gdf_cpis)\n",
    "        if denominator > 0:\n",
    "            ratio = numerator / denominator\n",
    "            ci_low, ci_high = bootstrap_targeting_ratio(numerator, denominator)\n",
    "        else:\n",
    "            ratio, ci_low, ci_high = np.nan, np.nan, np.nan\n",
    "        targeting_ratios[label] = ratio\n",
    "        confidence_intervals[label] = (ci_low, ci_high)\n",
    "    print(\"Calculated initial targeting ratios\")\n",
    "except Exception as e:\n",
    "    print(f\"Error calculating targeting ratios: {e}\")"
   ]
  },
  {
   "cell_type": "markdown",
   "metadata": {},
   "source": [
    "## 8. Calculate Country-Specific Distances and Proportions\n",
    "Classify CPIS by nearest dam distance and calculate irrigated pixel proportions by country."
   ]
  },
  {
   "cell_type": "code",
   "execution_count": 33,
   "metadata": {},
   "outputs": [
    {
     "name": "stdout",
     "output_type": "stream",
     "text": [
      "Classified CPIS by nearest dam distance\n",
      "Calculated proportions by country\n",
      "Calculated proportions by country\n"
     ]
    }
   ],
   "source": [
    "try:\n",
    "    # Calculate nearest dam distances for CPIS\n",
    "    gdf_cpis['nearest_dam_distance'] = calculate_nearest_distances(gdf_cpis, gdf_dams)\n",
    "    # Classify CPIS into distance ranges\n",
    "    for (lower, upper) in distance_ranges:\n",
    "        label = f\"{int(lower)}-{int(upper)}\"\n",
    "        gdf_cpis[f'dist_{label}'] = ((gdf_cpis['nearest_dam_distance'] >= lower) & \n",
    "                                     (gdf_cpis['nearest_dam_distance'] < upper)).astype(int)\n",
    "    print(\"Classified CPIS by nearest dam distance\")\n",
    "\n",
    "    # Calculate proportion of irrigated pixels by country\n",
    "    proportions_by_country = {}\n",
    "    for iso3 in gdf_AEI['ISO'].unique():\n",
    "        aei_country = gdf_AEI[gdf_AEI['ISO'] == iso3]\n",
    "        dams_country = gdf_dams[gdf_dams['ISO'] == iso3]\n",
    "        distances = calculate_nearest_distances(aei_country, dams_country)\n",
    "        total_pixels = len(aei_country)\n",
    "        proportions = {}\n",
    "        for (lower, upper) in distance_ranges:\n",
    "            count = np.sum((distances >= lower) & (distances < upper))\n",
    "            proportions[f'{int(lower)}-{int(upper)}'] = count / total_pixels if total_pixels > 0 else 0\n",
    "        proportions_by_country[iso3] = proportions\n",
    "    print(\"Calculated proportions by country\")\n",
    "except Exception as e:\n",
    "    print(f\"Error calculating country-specific distances: {e}\")"
   ]
  },
  {
   "cell_type": "markdown",
   "metadata": {},
   "source": [
    "## 9. Calculate Final Targeting Ratios (Country-Specific)\n",
    "Compute targeting ratios using country-specific proportions for each distance range."
   ]
  },
  {
   "cell_type": "code",
   "execution_count": 34,
   "metadata": {},
   "outputs": [
    {
     "name": "stdout",
     "output_type": "stream",
     "text": [
      "Calculated final targeting ratios\n"
     ]
    }
   ],
   "source": [
    "try:\n",
    "    # Calculate targeting ratios using country-specific proportions\n",
    "    targeting_ratios = {}\n",
    "    confidence_intervals = {}\n",
    "    for label in cpis_classification.keys():\n",
    "        numerator = gdf_cpis[f'dist_{label}'].sum()\n",
    "        denominator = 0\n",
    "        for iso3 in gdf_cpis['Country Co'].unique():\n",
    "            cpis_count = np.sum(gdf_cpis['Country Co'] == iso3)\n",
    "            prop = proportions_by_country.get(iso3, {}).get(label, 0)\n",
    "            denominator += cpis_count * prop\n",
    "        if denominator > 0:\n",
    "            ratio = numerator / denominator\n",
    "            ci_low, ci_high = bootstrap_targeting_ratio(numerator, denominator)\n",
    "        else:\n",
    "            ratio, ci_low, ci_high = np.nan, np.nan, np.nan\n",
    "        targeting_ratios[label] = ratio\n",
    "        confidence_intervals[label] = (ci_low, ci_high)\n",
    "    print(\"Calculated final targeting ratios\")\n",
    "except Exception as e:\n",
    "    print(f\"Error calculating final targeting ratios: {e}\")"
   ]
  },
  {
   "cell_type": "code",
   "execution_count": 35,
   "metadata": {},
   "outputs": [
    {
     "name": "stderr",
     "output_type": "stream",
     "text": [
      "/tmp/ipykernel_3700528/1376003319.py:16: UserWarning: set_ticklabels() should only be used with a fixed number of ticks, i.e. after set_ticks() or using a FixedLocator.\n",
      "  ax.set_xticklabels([\n"
     ]
    },
    {
     "data": {
      "image/png": "[encoded data removed]",
      "text/plain": [
       "<Figure size 1000x600 with 1 Axes>"
      ]
     },
     "metadata": {},
     "output_type": "display_data"
    },
    {
     "name": "stdout",
     "output_type": "stream",
     "text": [
      "Plotted targeting ratios\n"
     ]
    }
   ],
   "source": [
    "def plot_targeting_ratios(targeting_ratios, confidence_intervals, output_path=None):\n",
    "    \"\"\"Plot targeting ratios with confidence intervals.\"\"\"\n",
    "    range_labels = sorted(targeting_ratios.keys(), key=lambda x: int(x.split('-')[0]))\n",
    "    ratio_values = np.array([targeting_ratios[label] for label in range_labels])\n",
    "    ci_lower = np.array([confidence_intervals[label][0] for label in range_labels])\n",
    "    ci_upper = np.array([confidence_intervals[label][1] for label in range_labels])\n",
    "    error = np.array([ratio_values - ci_lower, ci_upper - ratio_values])\n",
    "    plt.figure(figsize=(10, 6))\n",
    "    ax = plt.gca()\n",
    "    for spine in ax.spines.values():\n",
    "        spine.set_visible(False)\n",
    "    ax.set_facecolor('white')\n",
    "    plt.gcf().set_facecolor('white')\n",
    "    plt.errorbar(range_labels, ratio_values, yerr=error, fmt='-o', capsize=5, color='darkolivegreen', label='All Arid Layer')\n",
    "    plt.axhline(y=1, color='olivedrab', linestyle='--', linewidth=1)\n",
    "    ax.set_xticklabels([\n",
    "        f\"{int(r.split('-')[0])//1000}-{int(r.split('-')[1])//1000} km\" for r in range_labels\n",
    "    ])\n",
    "    plt.xlabel('Distance Range (km)', fontsize=12, labelpad=20, color='#1E3720')\n",
    "    plt.ylabel('Targeting Ratio', fontsize=12, labelpad=20, color='#1E3720')\n",
    "    plt.xticks(color='#1E3720')\n",
    "    plt.yticks(color='#1E3720')\n",
    "    plt.legend()\n",
    "    plt.tight_layout()\n",
    "    if output_path:\n",
    "        plt.savefig(output_path)\n",
    "    plt.show()\n",
    "\n",
    "try:\n",
    "    # Plot the targeting ratios\n",
    "    plot_targeting_ratios(targeting_ratios, confidence_intervals)\n",
    "    print(\"Plotted targeting ratios\")\n",
    "except Exception as e:\n",
    "    print(f\"Error plotting targeting_ratios: {e}\")"
   ]
  },
  {
   "cell_type": "markdown",
   "metadata": {},
   "source": [
    "## Calculate Targeting Ratios and Confidence Intervals by Aridity Layer (In progress)\n",
    "\n",
    "This cell calculates targeting ratios and confidence intervals for each aridity layer using country-specific denominators, following the logic from the 3_Dams_AEI_Targeting_Ratios analysis. The only difference is that the dam dataset used here is the GDW dataset. All country code columns are harmonized as 'ISO' for consistency."
   ]
  },
  {
   "cell_type": "code",
   "execution_count": 38,
   "metadata": {},
   "outputs": [
    {
     "name": "stdout",
     "output_type": "stream",
     "text": [
      "Error processing layer All: 'GDW_All_SSA_Final_shp_path'\n",
      "Error processing layer Semi_Arid: 'GDW_Semi_Arid_SSA_Final_shp_path'\n",
      "Index(['GDW_ID', 'RES_NAME', 'DAM_NAME', 'ALT_NAME', 'DAM_TYPE', 'LAKE_CTRL',\n",
      "       'RIVER', 'ALT_RIVER', 'MAIN_BASIN', 'SUB_BASIN', 'COUNTRY', 'SEC_CNTRY',\n",
      "       'ADMIN_UNIT', 'SEC_ADMIN', 'NEAR_CITY', 'ALT_CITY', 'YEAR_DAM',\n",
      "       'PRE_YEAR', 'YEAR_SRC', 'ALT_YEAR', 'REM_YEAR', 'TIMELINE', 'YEAR_TXT',\n",
      "       'DAM_HGT_M', 'ALT_HGT_M', 'DAM_LEN_M', 'ALT_LEN_M', 'AREA_SKM',\n",
      "       'AREA_POLY', 'AREA_REP', 'AREA_MAX', 'AREA_MIN', 'CAP_MCM', 'CAP_MAX',\n",
      "       'CAP_REP', 'CAP_MIN', 'DEPTH_M', 'DIS_AVG_LS', 'DOR_PC', 'ELEV_MASL',\n",
      "       'CATCH_SKM', 'CATCH_REP', 'POWER_MW', 'DATA_INFO', 'USE_IRRI',\n",
      "       'USE_ELEC', 'USE_SUPP', 'USE_FCON', 'USE_RECR', 'USE_NAVI', 'USE_FISH',\n",
      "       'USE_PCON', 'USE_LIVE', 'USE_OTHR', 'MAIN_USE', 'MULTI_DAMS',\n",
      "       'COMMENTS', 'URL', 'QUALITY', 'EDITOR', 'LONG_RIV', 'LAT_RIV',\n",
      "       'LONG_DAM', 'LAT_DAM', 'ORIG_SRC', 'POLY_SRC', 'GRAND_ID', 'HYRIV_ID',\n",
      "       'INSTREAM', 'HYLAK_ID', 'HYBAS_L12', 'ISO', 'geometry'],\n",
      "      dtype='object')\n",
      "Index(['GDW_ID', 'RES_NAME', 'DAM_NAME', 'ALT_NAME', 'DAM_TYPE', 'LAKE_CTRL',\n",
      "       'RIVER', 'ALT_RIVER', 'MAIN_BASIN', 'SUB_BASIN', 'COUNTRY', 'SEC_CNTRY',\n",
      "       'ADMIN_UNIT', 'SEC_ADMIN', 'NEAR_CITY', 'ALT_CITY', 'YEAR_DAM',\n",
      "       'PRE_YEAR', 'YEAR_SRC', 'ALT_YEAR', 'REM_YEAR', 'TIMELINE', 'YEAR_TXT',\n",
      "       'DAM_HGT_M', 'ALT_HGT_M', 'DAM_LEN_M', 'ALT_LEN_M', 'AREA_SKM',\n",
      "       'AREA_POLY', 'AREA_REP', 'AREA_MAX', 'AREA_MIN', 'CAP_MCM', 'CAP_MAX',\n",
      "       'CAP_REP', 'CAP_MIN', 'DEPTH_M', 'DIS_AVG_LS', 'DOR_PC', 'ELEV_MASL',\n",
      "       'CATCH_SKM', 'CATCH_REP', 'POWER_MW', 'DATA_INFO', 'USE_IRRI',\n",
      "       'USE_ELEC', 'USE_SUPP', 'USE_FCON', 'USE_RECR', 'USE_NAVI', 'USE_FISH',\n",
      "       'USE_PCON', 'USE_LIVE', 'USE_OTHR', 'MAIN_USE', 'MULTI_DAMS',\n",
      "       'COMMENTS', 'URL', 'QUALITY', 'EDITOR', 'LONG_RIV', 'LAT_RIV',\n",
      "       'LONG_DAM', 'LAT_DAM', 'ORIG_SRC', 'POLY_SRC', 'GRAND_ID', 'HYRIV_ID',\n",
      "       'INSTREAM', 'HYLAK_ID', 'HYBAS_L12', 'ISO', 'geometry'],\n",
      "      dtype='object')\n",
      "Index(['raster_val', 'ISO', 'geometry'], dtype='object')\n",
      "Error processing layer Arid: 'SSA_Combined_CPIS_Arid_shp_path'\n",
      "Error processing layer Hyper_Arid: 'GDW_Hyper_Arid_SSA_Final_shp_path'\n",
      "Index(['raster_val', 'ISO', 'geometry'], dtype='object')\n",
      "Error processing layer Arid: 'SSA_Combined_CPIS_Arid_shp_path'\n",
      "Error processing layer Hyper_Arid: 'GDW_Hyper_Arid_SSA_Final_shp_path'\n"
     ]
    }
   ],
   "source": [
    "targeting_ratios_by_layer = {}\n",
    "confidence_intervals_by_layer = {}\n",
    "\n",
    "for layer in layers:\n",
    "    try:\n",
    "        # Load and reproject data for this aridity layer\n",
    "        gdf_dams = load_and_reproject(config[f'GDW_{layer}_SSA_Final_shp_path'])\n",
    "        print(gdf_dams.columns)\n",
    "        gdf_AEI = load_and_reproject(config[f'AEI_2015_{layer}_shp_path'])\n",
    "        print(gdf_AEI.columns)\n",
    "        gdf_cpis = load_and_reproject(config[f'SSA_Combined_CPIS_{layer}_shp_path'])\n",
    "        print(gdf_cpis.columns)\n",
    "        # Harmonize country code column\n",
    "        if 'Country Co' in gdf_cpis.columns:\n",
    "            gdf_cpis = gdf_cpis.rename(columns={'Country Co': 'ISO'})\n",
    "        # Calculate nearest dam distances for CPIS\n",
    "        gdf_cpis['nearest_dam_distance'] = calculate_nearest_distances(gdf_cpis, gdf_dams)\n",
    "        # Classify CPIS into distance ranges\n",
    "        for (lower, upper) in distance_ranges:\n",
    "            label = f\"{int(lower)}-{int(upper)}\"\n",
    "            gdf_cpis[f'dist_{label}'] = ((gdf_cpis['nearest_dam_distance'] >= lower) & \n",
    "                                         (gdf_cpis['nearest_dam_distance'] < upper)).astype(int)\n",
    "        # Calculate proportion of irrigated pixels by country\n",
    "        proportions_by_country = {}\n",
    "        for iso3 in gdf_AEI['ISO'].unique():\n",
    "            aei_country = gdf_AEI[gdf_AEI['ISO'] == iso3]\n",
    "            dams_country = gdf_dams[gdf_dams['ISO'] == iso3]\n",
    "            distances = calculate_nearest_distances(aei_country, dams_country)\n",
    "            total_pixels = len(aei_country)\n",
    "            proportions = {}\n",
    "            for (lower, upper) in distance_ranges:\n",
    "                count = np.sum((distances >= lower) & (distances < upper))\n",
    "                proportions[f'{int(lower)}-{int(upper)}'] = count / total_pixels if total_pixels > 0 else 0\n",
    "            proportions_by_country[iso3] = proportions\n",
    "        # Calculate targeting ratios for this layer\n",
    "        targeting_ratios = {}\n",
    "        confidence_intervals = {}\n",
    "        for (lower, upper) in distance_ranges:\n",
    "            label = f\"{int(lower)}-{int(upper)}\"\n",
    "            numerator = gdf_cpis[f'dist_{label}'].sum()\n",
    "            denominator = 0\n",
    "            for iso3 in gdf_cpis['ISO'].unique():\n",
    "                cpis_count = np.sum(gdf_cpis['ISO'] == iso3)\n",
    "                prop = proportions_by_country.get(iso3, {}).get(label, 0)\n",
    "                denominator += cpis_count * prop\n",
    "            if denominator > 0:\n",
    "                ratio = numerator / denominator\n",
    "                ci_low, ci_high = bootstrap_targeting_ratio(numerator, denominator)\n",
    "            else:\n",
    "                ratio, ci_low, ci_high = np.nan, np.nan, np.nan\n",
    "            targeting_ratios[label] = ratio\n",
    "            confidence_intervals[label] = (ci_low, ci_high)\n",
    "        targeting_ratios_by_layer[layer] = targeting_ratios\n",
    "        confidence_intervals_by_layer[layer] = confidence_intervals\n",
    "        print(f\"Processed layer: {layer}\")\n",
    "    except Exception as e:\n",
    "        print(f\"Error processing layer {layer}: {e}\")\n"
   ]
  },
  {
   "cell_type": "markdown",
   "metadata": {},
   "source": [
    "## 11. Visualize Targeting Ratios by Aridity Layer\n",
    "Plot targeting ratios for all aridity layers on a single figure for direct comparison."
   ]
  },
  {
   "cell_type": "code",
   "execution_count": null,
   "metadata": {},
   "outputs": [
    {
     "ename": "NameError",
     "evalue": "name 'targeting_ratios_by_layer' is not defined",
     "output_type": "error",
     "traceback": [
      "\u001b[0;31m---------------------------------------------------------------------------\u001b[0m",
      "\u001b[0;31mNameError\u001b[0m                                 Traceback (most recent call last)",
      "Cell \u001b[0;32mIn[36], line 21\u001b[0m\n\u001b[1;32m     18\u001b[0m     plt\u001b[38;5;241m.\u001b[39mshow()\n\u001b[1;32m     20\u001b[0m \u001b[38;5;66;03m# Call this after all targeting_ratios_by_layer and confidence_intervals_by_layer are computed\u001b[39;00m\n\u001b[0;32m---> 21\u001b[0m plot_targeting_ratios_by_layer(\u001b[43mtargeting_ratios_by_layer\u001b[49m, confidence_intervals_by_layer)\n",
      "\u001b[0;31mNameError\u001b[0m: name 'targeting_ratios_by_layer' is not defined"
     ]
    }
   ],
   "source": [
    "def plot_targeting_ratios_by_layer(targeting_ratios_by_layer, confidence_intervals_by_layer):\n",
    "    plt.figure(figsize=(12, 7))\n",
    "    for layer, ratios in targeting_ratios_by_layer.items():\n",
    "        range_labels = sorted(ratios.keys(), key=lambda x: int(x.split('-')[0]))\n",
    "        ratio_values = np.array([ratios[label] for label in range_labels])\n",
    "        ci_lower = np.array([confidence_intervals_by_layer[layer][label][0] for label in range_labels])\n",
    "        ci_upper = np.array([confidence_intervals_by_layer[layer][label][1] for label in range_labels])\n",
    "        error = np.array([ratio_values - ci_lower, ci_upper - ratio_values])\n",
    "        plt.errorbar(\n",
    "            [f\"{int(r.split('-')[0])//1000}-{int(r.split('-')[1])//1000} km\" for r in range_labels],\n",
    "            ratio_values, yerr=error, fmt='-o', capsize=5, label=layer)\n",
    "    plt.axhline(y=1, color='gray', linestyle='--', linewidth=1)\n",
    "    plt.xlabel('Distance Range (km)')\n",
    "    plt.ylabel('Targeting Ratio')\n",
    "    plt.title('Targeting Ratios by Distance to Dam and Aridity Layer')\n",
    "    plt.legend(title='Aridity Layer')\n",
    "    plt.tight_layout()\n",
    "    plt.show()\n",
    "\n",
    "# Calculate targeting ratios and confidence intervals for all aridity layers\n",
    "# This cell must be run before plotting\n",
    "\n",
    "targeting_ratios_by_layer = {}\n",
    "confidence_intervals_by_layer = {}\n",
    "\n",
    "for layer in layers:\n",
    "    # Load and reproject data for this aridity layer\n",
    "    # (Assume file paths in config are keyed by layer name, e.g., 'GDW_Arid_SSA_Final_shp_path', etc.)\n",
    "    try:\n",
    "        gdf_dams = load_and_reproject(config[f'GDW_{layer}_SSA_Final_shp_path'])\n",
    "        gdf_arid_ssa = load_and_reproject(config[f'SSA_{layer}_by_Country_shp_path'])\n",
    "        gdf_AEI = load_and_reproject(config[f'AEI_2015_{layer}_shp_path'])\n",
    "        gdf_cpis = load_and_reproject(config[f'SSA_Combined_CPIS_{layer}_shp_path'])\n",
    "        # Harmonize country code column\n",
    "        if 'Country Co' in gdf_cpis.columns:\n",
    "            gdf_cpis = gdf_cpis.rename(columns={'Country Co': 'ISO'})\n",
    "        # Calculate nearest dam distances for CPIS\n",
    "        gdf_cpis['nearest_dam_distance'] = calculate_nearest_distances(gdf_cpis, gdf_dams)\n",
    "        # Classify CPIS into distance ranges\n",
    "        for (lower, upper) in distance_ranges:\n",
    "            label = f\"{int(lower)}-{int(upper)}\"\n",
    "            gdf_cpis[f'dist_{label}'] = ((gdf_cpis['nearest_dam_distance'] >= lower) & \n",
    "                                         (gdf_cpis['nearest_dam_distance'] < upper)).astype(int)\n",
    "        # Calculate proportion of irrigated pixels by country\n",
    "        proportions_by_country = {}\n",
    "        for iso3 in gdf_AEI['ISO'].unique():\n",
    "            aei_country = gdf_AEI[gdf_AEI['ISO'] == iso3]\n",
    "            dams_country = gdf_dams[gdf_dams['ISO'] == iso3]\n",
    "            distances = calculate_nearest_distances(aei_country, dams_country)\n",
    "            total_pixels = len(aei_country)\n",
    "            proportions = {}\n",
    "            for (lower, upper) in distance_ranges:\n",
    "                count = np.sum((distances >= lower) & (distances < upper))\n",
    "                proportions[f'{int(lower)}-{int(upper)}'] = count / total_pixels if total_pixels > 0 else 0\n",
    "            proportions_by_country[iso3] = proportions\n",
    "        # Calculate targeting ratios for this layer\n",
    "        targeting_ratios = {}\n",
    "        confidence_intervals = {}\n",
    "        for (lower, upper) in distance_ranges:\n",
    "            label = f\"{int(lower)}-{int(upper)}\"\n",
    "            numerator = gdf_cpis[f'dist_{label}'].sum()\n",
    "            denominator = 0\n",
    "            for iso3 in gdf_cpis['ISO'].unique():\n",
    "                cpis_count = np.sum(gdf_cpis['ISO'] == iso3)\n",
    "                prop = proportions_by_country.get(iso3, {}).get(label, 0)\n",
    "                denominator += cpis_count * prop\n",
    "            if denominator > 0:\n",
    "                ratio = numerator / denominator\n",
    "                ci_low, ci_high = bootstrap_targeting_ratio(numerator, denominator)\n",
    "            else:\n",
    "                ratio, ci_low, ci_high = np.nan, np.nan, np.nan\n",
    "            targeting_ratios[label] = ratio\n",
    "            confidence_intervals[label] = (ci_low, ci_high)\n",
    "        targeting_ratios_by_layer[layer] = targeting_ratios\n",
    "        confidence_intervals_by_layer[layer] = confidence_intervals\n",
    "        print(f\"Processed layer: {layer}\")\n",
    "    except Exception as e:\n",
    "        print(f\"Error processing layer {layer}: {e}\")\n",
    "\n",
    "# Call this after all targeting_ratios_by_layer and confidence_intervals_by_layer are computed\n",
    "plot_targeting_ratios_by_layer(targeting_ratios_by_layer, confidence_intervals_by_layer)"
   ]
  }
 ],
 "metadata": {
  "kernelspec": {
   "display_name": "irrigation",
   "language": "python",
   "name": "python3"
  },
  "language_info": {
   "codemirror_mode": {
    "name": "ipython",
    "version": 3
   },
   "file_extension": ".py",
   "mimetype": "text/x-python",
   "name": "python",
   "nbconvert_exporter": "python",
   "pygments_lexer": "ipython3",
   "version": "3.12.4"
  }
 },
 "nbformat": 4,
 "nbformat_minor": 4
}
