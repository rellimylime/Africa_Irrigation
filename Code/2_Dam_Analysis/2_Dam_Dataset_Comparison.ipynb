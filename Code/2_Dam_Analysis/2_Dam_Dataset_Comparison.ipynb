{
 "cells": [
  {
   "cell_type": "markdown",
   "metadata": {},
   "source": [
    "# Dam Dataset Comparison\n",
    "\n",
    "This notebook compares the two dam datasets used in the project:\n",
    "1. GRAND database (used in `3_Dams_AEI_Targeting_Ratios.ipynb`)\n",
    "2. AridAfrica_Barriers (used in `1_GDW_AEI_Targeting_Ratio.ipynb`)\n",
    "\n",
    "The goal is to understand why these datasets lead to different targeting ratio results."
   ]
  },
  {
   "cell_type": "markdown",
   "metadata": {},
   "source": [
    "## Notebook Setup\n",
    "\n",
    "We import required libraries and utility functions for spatial data loading and analysis."
   ]
  },
  {
   "cell_type": "code",
   "execution_count": null,
   "metadata": {},
   "outputs": [],
   "source": [
    "# Import libraries and utility functions\n",
    "import geopandas as gpd\n",
    "import pandas as pd\n",
    "import matplotlib.pyplot as plt\n",
    "import numpy as np\n",
    "import os\n",
    "import sys\n",
    "\n",
    "# Add the project root to sys.path so we can import from Code.utils everywhere\n",
    "project_root = os.path.abspath(os.path.join(os.getcwd(), '..', '..'))\n",
    "if project_root not in sys.path:\n",
    "    sys.path.insert(0, project_root)\n",
    "\n",
    "from Code.utils.utility import load_config, resolve_path\n",
    "from Code.utils.spatial_utility import load_and_reproject\n",
    "\n",
    "# Load configuration\n",
    "config = load_config()"
   ]
  },
  {
   "cell_type": "markdown",
   "metadata": {},
   "source": [
    "## Load Both Dam Datasets\n",
    "\n",
    "We load the GRAND and AridAfrica_Barriers dam datasets using the utility loader for consistent CRS and path handling."
   ]
  },
  {
   "cell_type": "code",
   "execution_count": null,
   "metadata": {},
   "outputs": [],
   "source": [
    "# Load dam datasets using utility functions\n",
    "grand_dams = load_and_reproject(config['Africa_Dam_All_shp_path'])\n",
    "arid_barriers = load_and_reproject(config['AridAfrica_Barriers_shp_path'])\n",
    "\n",
    "# Print basic information about both datasets\n",
    "print(f\"GRAND database dams: {len(grand_dams)}\")\n",
    "print(f\"AridAfrica_Barriers dams: {len(arid_barriers)}\")"
   ]
  },
  {
   "cell_type": "markdown",
   "metadata": {},
   "source": [
    "## Compare Dataset Schemas\n",
    "\n",
    "We compare the columns in each dataset to understand their structure and identify common attributes."
   ]
  },
  {
   "cell_type": "code",
   "execution_count": null,
   "metadata": {},
   "outputs": [],
   "source": [
    "# Compare columns in both datasets\n",
    "print(\"GRAND database columns:\")\n",
    "print(grand_dams.columns.tolist())\n",
    "print(\"\\nAridAfrica_Barriers columns:\")\n",
    "print(arid_barriers.columns.tolist())\n",
    "\n",
    "# Check for common columns\n",
    "common_columns = set(grand_dams.columns).intersection(set(arid_barriers.columns))\n",
    "print(f\"\\nCommon columns: {common_columns}\")"
   ]
  },
  {
   "cell_type": "markdown",
   "metadata": {},
   "source": [
    "## Compare Spatial Distribution\n",
    "\n",
    "We visualize the spatial distribution of dams from both datasets on a single map for direct comparison."
   ]
  },
  {
   "cell_type": "code",
   "execution_count": null,
   "metadata": {},
   "outputs": [],
   "source": [
    "# Ensure both datasets are in the same CRS (should already be handled by loader, but double-check)\n",
    "grand_dams = grand_dams.to_crs(\"EPSG:3857\")\n",
    "arid_barriers = arid_barriers.to_crs(\"EPSG:3857\")\n",
    "\n",
    "# Plot both datasets on the same map\n",
    "fig, ax = plt.subplots(figsize=(12, 10))\n",
    "grand_dams.plot(ax=ax, color='blue', markersize=20, label='GRAND database')\n",
    "arid_barriers.plot(ax=ax, color='red', markersize=10, label='AridAfrica_Barriers')\n",
    "ax.set_title('Spatial Distribution of Dam Datasets')\n",
    "ax.legend()\n",
    "plt.show()"
   ]
  },
  {
   "cell_type": "markdown",
   "metadata": {},
   "source": [
    "## Compare Dam Attributes\n",
    "\n",
    "We compare dam attributes, such as height, to see if attribute distributions differ between datasets."
   ]
  },
  {
   "cell_type": "code",
   "execution_count": null,
   "metadata": {},
   "outputs": [],
   "source": [
    "# Compare dam height statistics if available\n",
    "if 'DAM_HGT_M' in grand_dams.columns and 'DAM_HGT_M' in arid_barriers.columns:\n",
    "    print(\"Dam height statistics:\")\n",
    "    print(\"GRAND database:\")\n",
    "    print(grand_dams['DAM_HGT_M'].describe())\n",
    "    print(\"\\nAridAfrica_Barriers:\")\n",
    "    print(arid_barriers['DAM_HGT_M'].describe())\n",
    "    \n",
    "    # Plot height distributions\n",
    "    fig, ax = plt.subplots(figsize=(10, 6))\n",
    "    grand_dams['DAM_HGT_M'].hist(ax=ax, alpha=0.5, bins=20, label='GRAND database')\n",
    "    arid_barriers['DAM_HGT_M'].hist(ax=ax, alpha=0.5, bins=20, label='AridAfrica_Barriers')\n",
    "    ax.set_title('Dam Height Distribution')\n",
    "    ax.set_xlabel('Height (m)')\n",
    "    ax.set_ylabel('Count')\n",
    "    ax.legend()\n",
    "    plt.show()"
   ]
  },
  {
   "cell_type": "markdown",
   "metadata": {},
   "source": [
    "## Compare Country Distribution\n",
    "\n",
    "We compare the number of dams per country in each dataset."
   ]
  },
  {
   "cell_type": "code",
   "execution_count": null,
   "metadata": {},
   "outputs": [],
   "source": [
    "# Compare country distribution in both datasets\n",
    "if 'ISO' in grand_dams.columns and 'ISO' in arid_barriers.columns:\n",
    "    grand_countries = grand_dams['ISO'].value_counts()\n",
    "    arid_countries = arid_barriers['ISO'].value_counts()\n",
    "    \n",
    "    # Create a DataFrame to compare\n",
    "    country_comparison = pd.DataFrame({\n",
    "        'GRAND': grand_countries,\n",
    "        'AridAfrica': arid_countries\n",
    "    }).fillna(0)\n",
    "    \n",
    "    print(country_comparison)\n",
    "    \n",
    "    # Plot comparison\n",
    "    country_comparison.plot(kind='bar', figsize=(12, 8))\n",
    "    plt.title('Dam Count by Country')\n",
    "    plt.ylabel('Number of Dams')\n",
    "    plt.xticks(rotation=45)\n",
    "    plt.tight_layout()\n",
    "    plt.show()"
   ]
  },
  {
   "cell_type": "markdown",
   "metadata": {},
   "source": [
    "## Analyze Targeting Ratio Differences\n",
    "\n",
    "We load CPIS and AEI data, then compare the distance from CPIS points to the nearest dam in each dataset using a utility function for distance calculation."
   ]
  },
  {
   "cell_type": "code",
   "execution_count": null,
   "metadata": {},
   "outputs": [],
   "source": [
    "# Load CPIS and AEI data using utility.resolve_path for consistent path handling\n",
    "cpis = gpd.read_file(resolve_path(config['SSA_Combined_CPIS_All_shp_path'])).to_crs(\"EPSG:3857\")\n",
    "aei = gpd.read_file(resolve_path(config['AEI_2015_All_shp_path'])).to_crs(\"EPSG:3857\")\n",
    "\n",
    "print(f\"CPIS count: {len(cpis)}\")\n",
    "print(f\"AEI count: {len(aei)}\")"
   ]
  },
  {
   "cell_type": "markdown",
   "metadata": {},
   "source": [
    "### Calculate and Compare Distances\n",
    "\n",
    "We use a utility function to calculate the distance from each CPIS point to the nearest dam in each dataset, then compare the distributions."
   ]
  },
  {
   "cell_type": "code",
   "execution_count": null,
   "metadata": {},
   "outputs": [],
   "source": [
    "from scipy.spatial import cKDTree\n",
    "\n",
    "def calculate_distances(src_gdf, target_gdf):\n",
    "    \"\"\"Calculate distances from source points to nearest target points.\"\"\"\n",
    "    src_centroids = np.array(list(src_gdf.geometry.centroid.apply(lambda geom: (geom.x, geom.y))))\n",
    "    target_points = np.array(list(target_gdf.geometry.apply(lambda geom: (geom.x, geom.y))))\n",
    "    \n",
    "    if len(target_points) == 0:\n",
    "        return np.array([])  # Return empty array if no points\n",
    "    \n",
    "    tree = cKDTree(target_points)\n",
    "    dists, _ = tree.query(src_centroids, k=1)\n",
    "    \n",
    "    return dists\n",
    "\n",
    "# Calculate distances using both dam datasets\n",
    "cpis_to_grand_distances = calculate_distances(cpis, grand_dams)\n",
    "cpis_to_arid_distances = calculate_distances(cpis, arid_barriers)\n",
    "\n",
    "# Compare distance distributions\n",
    "fig, ax = plt.subplots(figsize=(10, 6))\n",
    "ax.hist(cpis_to_grand_distances/1000, bins=20, alpha=0.5, label='GRAND database')\n",
    "ax.hist(cpis_to_arid_distances/1000, bins=20, alpha=0.5, label='AridAfrica_Barriers')\n",
    "ax.set_title('Distance from CPIS to Nearest Dam')\n",
    "ax.set_xlabel('Distance (km)')\n",
    "ax.set_ylabel('Count')\n",
    "ax.legend()\n",
    "plt.show()\n",
    "\n",
    "# Print basic statistics\n",
    "print(\"Distance statistics (km):\")\n",
    "print(\"GRAND database:\")\n",
    "print(pd.Series(cpis_to_grand_distances/1000).describe())\n",
    "print(\"\\nAridAfrica_Barriers:\")\n",
    "print(pd.Series(cpis_to_arid_distances/1000).describe())"
   ]
  }
 ],
 "metadata": {
  "kernelspec": {
   "display_name": "irrigation",
   "language": "python",
   "name": "python3"
  },
  "language_info": {
   "codemirror_mode": {
    "name": "ipython",
    "version": 3
   },
   "file_extension": ".py",
   "mimetype": "text/x-python",
   "name": "python",
   "nbconvert_exporter": "python",
   "pygments_lexer": "ipython3",
   "version": "3.12.4"
  }
 },
 "nbformat": 4,
 "nbformat_minor": 4
}
