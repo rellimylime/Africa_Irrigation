{
 "cells": [
  {
   "cell_type": "code",
   "execution_count": 10,
   "id": "75377041",
   "metadata": {},
   "outputs": [],
   "source": [
    "import logging\n",
    "import networkx as nx\n",
    "import numpy as np\n",
    "import os\n",
    "import pandas as pd\n",
    "import rasterio\n",
    "from rasterio.crs import CRS\n",
    "from rasterio.io import MemoryFile\n",
    "from rasterio.mask import mask\n",
    "from rasterio.warp import calculate_default_transform, reproject, Resampling\n",
    "from rasterstats import zonal_stats\n",
    "import sys\n",
    "import tempfile\n",
    "import time\n",
    "from shapely.geometry import mapping\n",
    "from shapely.ops import unary_union\n",
    "from shapely.strtree import STRtree\n",
    "\n",
    "# Add the project root to sys.path so we can import from Code.utils everywhere\n",
    "project_root = os.path.abspath(os.path.join(os.getcwd(), '..', '..'))\n",
    "if project_root not in sys.path:\n",
    "    sys.path.insert(0, project_root)\n",
    "\n",
    "from Code.utils.spatial_utility import load_and_reproject\n",
    "from Code.utils.utility import load_config, resolve_path\n",
    "\n",
    "# Load configuration\n",
    "config = load_config()\n",
    "\n",
    "for handler in logging.root.handlers[:]:\n",
    "    logging.root.removeHandler(handler)\n",
    "\n",
    "logging.basicConfig(\n",
    "    level=logging.INFO,\n",
    "    format='%(asctime)s %(levelname)s: %(message)s',\n",
    "    handlers=[\n",
    "        logging.FileHandler(\"trim_debug.log\", mode='w'),  # overwrite each time\n",
    "        logging.StreamHandler()  # optional: show in notebook output\n",
    "    ]\n",
    ")\n",
    "\n",
    "logger = logging.getLogger(__name__)"
   ]
  },
  {
   "cell_type": "markdown",
   "id": "b31c1d73",
   "metadata": {},
   "source": [
    "### Cropping Irrigation Rasters to Study Area\n",
    "This section processes irrigation rasters to focus on the arid regions of Sub-Saharan Africa (SSA). It involves reprojecting the study area shapefile, masking rasters to the study area, and saving the trimmed rasters for analysis."
   ]
  },
  {
   "cell_type": "code",
   "execution_count": 11,
   "id": "8e9cee50",
   "metadata": {},
   "outputs": [
    {
     "name": "stderr",
     "output_type": "stream",
     "text": [
      "2025-07-17 17:36:06,128 INFO: ⏱️ Function entry time: 1752798966.1288295\n",
      "2025-07-17 17:36:08,789 INFO: Study area CRS: EPSG:4326\n",
      "2025-07-17 17:36:08,789 INFO: Study area CRS: EPSG:4326\n",
      "2025-07-17 17:36:15,826 INFO: 🔁 Processing year: 1980\n",
      "2025-07-17 17:36:15,826 INFO: 🔁 Processing year: 1980\n",
      "2025-07-17 17:36:16,040 INFO: ⚠️ Forcing CRS to EPSG:4326 due to known metadata error or missing CRS.\n",
      "2025-07-17 17:36:16,040 INFO: ⚠️ Forcing CRS to EPSG:4326 due to known metadata error or missing CRS.\n",
      "2025-07-17 17:36:20,937 INFO: 📐 Masked array shape: (746, 828)\n",
      "2025-07-17 17:36:20,937 INFO: 📐 Masked array shape: (746, 828)\n",
      "2025-07-17 17:36:20,939 INFO: 💾 Writing to: /home/waves/data/Africa_Irrigation/Data/Processed/Irrigation_Arid_SSA_1980.tif\n",
      "2025-07-17 17:36:20,939 INFO: 💾 Writing to: /home/waves/data/Africa_Irrigation/Data/Processed/Irrigation_Arid_SSA_1980.tif\n"
     ]
    },
    {
     "name": "stdout",
     "output_type": "stream",
     "text": [
      "Raster bounds: BoundingBox(left=-180.0, bottom=-90.0, right=180.0, top=90.0)\n",
      "Study area bounds: (-17.541666673165007, -34.83333327073998, 51.4156951904301, 27.2980709075929)\n",
      "Min: -9.0\n",
      "Max: 5679.718\n"
     ]
    },
    {
     "name": "stderr",
     "output_type": "stream",
     "text": [
      "2025-07-17 17:36:22,063 INFO: ✅ Trimmed AEI raster for 1980 (all_touched) saved to: /home/waves/data/Africa_Irrigation/Data/Processed/Irrigation_Arid_SSA_1980.tif\n",
      "2025-07-17 17:36:22,065 INFO: 🔁 Processing year: 1985\n",
      "2025-07-17 17:36:22,065 INFO: 🔁 Processing year: 1985\n",
      "2025-07-17 17:36:22,355 INFO: ⚠️ Forcing CRS to EPSG:4326 due to known metadata error or missing CRS.\n",
      "2025-07-17 17:36:22,355 INFO: ⚠️ Forcing CRS to EPSG:4326 due to known metadata error or missing CRS.\n",
      "2025-07-17 17:36:27,557 INFO: 📐 Masked array shape: (746, 828)\n",
      "2025-07-17 17:36:27,557 INFO: 📐 Masked array shape: (746, 828)\n",
      "2025-07-17 17:36:27,559 INFO: 💾 Writing to: /home/waves/data/Africa_Irrigation/Data/Processed/Irrigation_Arid_SSA_1985.tif\n",
      "2025-07-17 17:36:27,559 INFO: 💾 Writing to: /home/waves/data/Africa_Irrigation/Data/Processed/Irrigation_Arid_SSA_1985.tif\n"
     ]
    },
    {
     "name": "stdout",
     "output_type": "stream",
     "text": [
      "Raster bounds: BoundingBox(left=-180.0, bottom=-90.0, right=180.0, top=90.0)\n",
      "Study area bounds: (-17.541666673165007, -34.83333327073998, 51.4156951904301, 27.2980709075929)\n",
      "Min: -9.0\n",
      "Max: 5900.111\n"
     ]
    },
    {
     "name": "stderr",
     "output_type": "stream",
     "text": [
      "2025-07-17 17:36:28,503 INFO: ✅ Trimmed AEI raster for 1985 (all_touched) saved to: /home/waves/data/Africa_Irrigation/Data/Processed/Irrigation_Arid_SSA_1985.tif\n",
      "2025-07-17 17:36:28,505 INFO: 🔁 Processing year: 1990\n",
      "2025-07-17 17:36:28,505 INFO: 🔁 Processing year: 1990\n",
      "2025-07-17 17:36:28,796 INFO: ⚠️ Forcing CRS to EPSG:4326 due to known metadata error or missing CRS.\n",
      "2025-07-17 17:36:28,796 INFO: ⚠️ Forcing CRS to EPSG:4326 due to known metadata error or missing CRS.\n",
      "2025-07-17 17:36:33,989 INFO: 📐 Masked array shape: (746, 828)\n",
      "2025-07-17 17:36:33,991 INFO: 💾 Writing to: /home/waves/data/Africa_Irrigation/Data/Processed/Irrigation_Arid_SSA_1990.tif\n",
      "2025-07-17 17:36:33,989 INFO: 📐 Masked array shape: (746, 828)\n",
      "2025-07-17 17:36:33,991 INFO: 💾 Writing to: /home/waves/data/Africa_Irrigation/Data/Processed/Irrigation_Arid_SSA_1990.tif\n"
     ]
    },
    {
     "name": "stdout",
     "output_type": "stream",
     "text": [
      "Raster bounds: BoundingBox(left=-180.0, bottom=-90.0, right=180.0, top=90.0)\n",
      "Study area bounds: (-17.541666673165007, -34.83333327073998, 51.4156951904301, 27.2980709075929)\n",
      "Min: -9.0\n",
      "Max: 6073.035\n"
     ]
    },
    {
     "name": "stderr",
     "output_type": "stream",
     "text": [
      "2025-07-17 17:36:35,250 INFO: ✅ Trimmed AEI raster for 1990 (all_touched) saved to: /home/waves/data/Africa_Irrigation/Data/Processed/Irrigation_Arid_SSA_1990.tif\n",
      "2025-07-17 17:36:35,252 INFO: 🔁 Processing year: 1995\n",
      "2025-07-17 17:36:35,252 INFO: 🔁 Processing year: 1995\n",
      "2025-07-17 17:36:35,560 INFO: ⚠️ Forcing CRS to EPSG:4326 due to known metadata error or missing CRS.\n",
      "2025-07-17 17:36:35,560 INFO: ⚠️ Forcing CRS to EPSG:4326 due to known metadata error or missing CRS.\n",
      "2025-07-17 17:36:40,860 INFO: 📐 Masked array shape: (746, 828)\n",
      "2025-07-17 17:36:40,860 INFO: 📐 Masked array shape: (746, 828)\n",
      "2025-07-17 17:36:40,861 INFO: 💾 Writing to: /home/waves/data/Africa_Irrigation/Data/Processed/Irrigation_Arid_SSA_1995.tif\n",
      "2025-07-17 17:36:40,861 INFO: 💾 Writing to: /home/waves/data/Africa_Irrigation/Data/Processed/Irrigation_Arid_SSA_1995.tif\n"
     ]
    },
    {
     "name": "stdout",
     "output_type": "stream",
     "text": [
      "Raster bounds: BoundingBox(left=-180.0, bottom=-90.0, right=180.0, top=90.0)\n",
      "Study area bounds: (-17.541666673165007, -34.83333327073998, 51.4156951904301, 27.2980709075929)\n",
      "Min: -9.0\n",
      "Max: 7504.133\n"
     ]
    },
    {
     "name": "stderr",
     "output_type": "stream",
     "text": [
      "2025-07-17 17:36:41,846 INFO: ✅ Trimmed AEI raster for 1995 (all_touched) saved to: /home/waves/data/Africa_Irrigation/Data/Processed/Irrigation_Arid_SSA_1995.tif\n",
      "2025-07-17 17:36:41,847 INFO: 🔁 Processing year: 2000\n",
      "2025-07-17 17:36:41,847 INFO: 🔁 Processing year: 2000\n",
      "2025-07-17 17:36:42,170 INFO: ⚠️ Forcing CRS to EPSG:4326 due to known metadata error or missing CRS.\n",
      "2025-07-17 17:36:42,170 INFO: ⚠️ Forcing CRS to EPSG:4326 due to known metadata error or missing CRS.\n",
      "2025-07-17 17:36:47,415 INFO: 📐 Masked array shape: (746, 828)\n",
      "2025-07-17 17:36:47,415 INFO: 📐 Masked array shape: (746, 828)\n",
      "2025-07-17 17:36:47,417 INFO: 💾 Writing to: /home/waves/data/Africa_Irrigation/Data/Processed/Irrigation_Arid_SSA_2000.tif\n",
      "2025-07-17 17:36:47,417 INFO: 💾 Writing to: /home/waves/data/Africa_Irrigation/Data/Processed/Irrigation_Arid_SSA_2000.tif\n"
     ]
    },
    {
     "name": "stdout",
     "output_type": "stream",
     "text": [
      "Raster bounds: BoundingBox(left=-180.0, bottom=-90.0, right=180.0, top=90.0)\n",
      "Study area bounds: (-17.541666673165007, -34.83333327073998, 51.4156951904301, 27.2980709075929)\n",
      "Min: -9.0\n",
      "Max: 7504.133\n"
     ]
    },
    {
     "name": "stderr",
     "output_type": "stream",
     "text": [
      "2025-07-17 17:36:48,246 INFO: ✅ Trimmed AEI raster for 2000 (all_touched) saved to: /home/waves/data/Africa_Irrigation/Data/Processed/Irrigation_Arid_SSA_2000.tif\n",
      "2025-07-17 17:36:48,248 INFO: 🔁 Processing year: 2005\n",
      "2025-07-17 17:36:48,248 INFO: 🔁 Processing year: 2005\n",
      "2025-07-17 17:36:48,547 INFO: ⚠️ Forcing CRS to EPSG:4326 due to known metadata error or missing CRS.\n",
      "2025-07-17 17:36:48,547 INFO: ⚠️ Forcing CRS to EPSG:4326 due to known metadata error or missing CRS.\n",
      "2025-07-17 17:36:53,753 INFO: 📐 Masked array shape: (746, 828)\n",
      "2025-07-17 17:36:53,753 INFO: 📐 Masked array shape: (746, 828)\n",
      "2025-07-17 17:36:53,754 INFO: 💾 Writing to: /home/waves/data/Africa_Irrigation/Data/Processed/Irrigation_Arid_SSA_2005.tif\n",
      "2025-07-17 17:36:53,754 INFO: 💾 Writing to: /home/waves/data/Africa_Irrigation/Data/Processed/Irrigation_Arid_SSA_2005.tif\n"
     ]
    },
    {
     "name": "stdout",
     "output_type": "stream",
     "text": [
      "Raster bounds: BoundingBox(left=-180.0, bottom=-90.0, right=180.0, top=90.0)\n",
      "Study area bounds: (-17.541666673165007, -34.83333327073998, 51.4156951904301, 27.2980709075929)\n",
      "Min: -9.0\n",
      "Max: 7504.133\n"
     ]
    },
    {
     "name": "stderr",
     "output_type": "stream",
     "text": [
      "2025-07-17 17:36:54,606 INFO: ✅ Trimmed AEI raster for 2005 (all_touched) saved to: /home/waves/data/Africa_Irrigation/Data/Processed/Irrigation_Arid_SSA_2005.tif\n",
      "2025-07-17 17:36:54,608 INFO: 🔁 Processing year: 2010\n",
      "2025-07-17 17:36:54,608 INFO: 🔁 Processing year: 2010\n",
      "2025-07-17 17:36:54,900 INFO: ⚠️ Forcing CRS to EPSG:4326 due to known metadata error or missing CRS.\n",
      "2025-07-17 17:36:54,900 INFO: ⚠️ Forcing CRS to EPSG:4326 due to known metadata error or missing CRS.\n",
      "2025-07-17 17:37:00,138 INFO: 📐 Masked array shape: (746, 828)\n",
      "2025-07-17 17:37:00,138 INFO: 📐 Masked array shape: (746, 828)\n",
      "2025-07-17 17:37:00,141 INFO: 💾 Writing to: /home/waves/data/Africa_Irrigation/Data/Processed/Irrigation_Arid_SSA_2010.tif\n",
      "2025-07-17 17:37:00,141 INFO: 💾 Writing to: /home/waves/data/Africa_Irrigation/Data/Processed/Irrigation_Arid_SSA_2010.tif\n"
     ]
    },
    {
     "name": "stdout",
     "output_type": "stream",
     "text": [
      "Raster bounds: BoundingBox(left=-180.0, bottom=-90.0, right=180.0, top=90.0)\n",
      "Study area bounds: (-17.541666673165007, -34.83333327073998, 51.4156951904301, 27.2980709075929)\n",
      "Min: -9.0\n",
      "Max: 7504.133\n"
     ]
    },
    {
     "name": "stderr",
     "output_type": "stream",
     "text": [
      "2025-07-17 17:37:01,038 INFO: ✅ Trimmed AEI raster for 2010 (all_touched) saved to: /home/waves/data/Africa_Irrigation/Data/Processed/Irrigation_Arid_SSA_2010.tif\n",
      "2025-07-17 17:37:01,040 INFO: 🔁 Processing year: 2015\n",
      "2025-07-17 17:37:01,040 INFO: 🔁 Processing year: 2015\n",
      "2025-07-17 17:37:01,345 INFO: ⚠️ Forcing CRS to EPSG:4326 due to known metadata error or missing CRS.\n",
      "2025-07-17 17:37:01,345 INFO: ⚠️ Forcing CRS to EPSG:4326 due to known metadata error or missing CRS.\n",
      "2025-07-17 17:37:06,682 INFO: 📐 Masked array shape: (746, 828)\n",
      "2025-07-17 17:37:06,682 INFO: 📐 Masked array shape: (746, 828)\n",
      "2025-07-17 17:37:06,684 INFO: 💾 Writing to: /home/waves/data/Africa_Irrigation/Data/Processed/Irrigation_Arid_SSA_2015.tif\n",
      "2025-07-17 17:37:06,684 INFO: 💾 Writing to: /home/waves/data/Africa_Irrigation/Data/Processed/Irrigation_Arid_SSA_2015.tif\n"
     ]
    },
    {
     "name": "stdout",
     "output_type": "stream",
     "text": [
      "Raster bounds: BoundingBox(left=-180.0, bottom=-90.0, right=180.0, top=90.0)\n",
      "Study area bounds: (-17.541666673165007, -34.83333327073998, 51.4156951904301, 27.2980709075929)\n",
      "Min: -9.0\n",
      "Max: 7504.133\n"
     ]
    },
    {
     "name": "stderr",
     "output_type": "stream",
     "text": [
      "2025-07-17 17:37:07,080 INFO: ✅ Trimmed AEI raster for 2015 (all_touched) saved to: /home/waves/data/Africa_Irrigation/Data/Processed/Irrigation_Arid_SSA_2015.tif\n"
     ]
    }
   ],
   "source": [
    "def save_masked_raster(array, transform, meta, out_path):\n",
    "    meta_out = meta.copy()\n",
    "    meta_out.update({\n",
    "        'driver': 'GTiff',\n",
    "        'dtype': array.dtype,\n",
    "        'height': array.shape[0],\n",
    "        'width': array.shape[1],\n",
    "        'transform': transform,\n",
    "        'crs': meta['crs'],\n",
    "        'count': 1\n",
    "    })\n",
    "    logger.info(f\"💾 Writing to: {out_path}\")\n",
    "    with rasterio.open(out_path, 'w', **meta_out) as dst:\n",
    "        dst.write(array, 1)\n",
    "\n",
    "def trim_aei_to_study_area():\n",
    "    logger.info(f\"⏱️ Function entry time: {time.time()}\")\n",
    "\n",
    "    # Reproject study area to match raster CRS (EPSG:4326)\n",
    "    ssa_arid_shp_fp = resolve_path(config['SSA_Arid_by_Country_shp_path'])\n",
    "    study_area = load_and_reproject(ssa_arid_shp_fp, target_crs=\"EPSG:4326\")\n",
    "    logger.info(f\"Study area CRS: {study_area.crs}\")\n",
    "    study_area_union = study_area.geometry.unary_union\n",
    "\n",
    "    aei_years = [1980, 1985, 1990, 1995, 2000, 2005, 2010, 2015]\n",
    "\n",
    "    for year in aei_years:\n",
    "        logger.info(f\"🔁 Processing year: {year}\")\n",
    "        raster_key = f\"Africa_AEI_{year}_asc_path\"\n",
    "        irrig_raster_path = resolve_path(config[raster_key])\n",
    "        output_key = f\"Irrigation_Arid_SSA_{year}_tif_path\"\n",
    "        output_path = resolve_path(config[output_key])\n",
    "\n",
    "        # Load AEI raster and assign CRS if missing\n",
    "        with rasterio.open(irrig_raster_path) as src_file:\n",
    "            bounds = src_file.bounds\n",
    "            meta = src_file.meta.copy()\n",
    "\n",
    "            if (\n",
    "                src_file.crs is None or\n",
    "                (src_file.crs.to_epsg() == 3857 and -180 <= bounds.left <= 180 and -90 <= bounds.bottom <= 90)\n",
    "            ):\n",
    "                logger.info(f\"⚠️ Forcing CRS to EPSG:4326 due to known metadata error or missing CRS.\")\n",
    "                meta['crs'] = CRS.from_epsg(4326)\n",
    "\n",
    "                # Re-open the raster in memory with corrected CRS\n",
    "                mem = MemoryFile()\n",
    "                with mem.open(**meta) as patched_src:\n",
    "                    patched_src.write(src_file.read(1), 1)\n",
    "                src = mem.open()\n",
    "            else:\n",
    "                src = src_file\n",
    "\n",
    "            # Mask to study area (EPSG:4326)\n",
    "            masked, out_transform = mask(\n",
    "                src,\n",
    "                [study_area_union],\n",
    "                crop=True,\n",
    "                all_touched=True,\n",
    "                nodata=src.nodata\n",
    "            )\n",
    "\n",
    "        print(\"Raster bounds:\", src.bounds)\n",
    "        print(\"Study area bounds:\", study_area_union.bounds)\n",
    "\n",
    "        array = masked[0]\n",
    "        assert array.ndim == 2, f\"Expected 2D array, got shape {array.shape}\"\n",
    "        logger.info(f\"📐 Masked array shape: {array.shape}\")\n",
    "        \n",
    "        meta.update({\n",
    "            \"transform\": out_transform,\n",
    "            \"height\": array.shape[0],\n",
    "            \"width\": array.shape[1]\n",
    "        })\n",
    "\n",
    "        print(\"Min:\", np.min(array))\n",
    "        print(\"Max:\", np.max(array))\n",
    "\n",
    "        save_masked_raster(array, out_transform, meta, output_path)\n",
    "        logger.info(f\"✅ Trimmed AEI raster for {year} (all_touched) saved to: {output_path}\")\n",
    "        \n",
    "trim_aei_to_study_area()"
   ]
  },
  {
   "cell_type": "markdown",
   "id": "cb3bbad9",
   "metadata": {},
   "source": [
    "### Merge overlaps in command areas and save as separate shapefile"
   ]
  },
  {
   "cell_type": "code",
   "execution_count": 12,
   "id": "72b0add4",
   "metadata": {},
   "outputs": [
    {
     "name": "stderr",
     "output_type": "stream",
     "text": [
      "/tmp/ipykernel_279431/3725419482.py:45: UserWarning: Column names longer than 10 characters will be truncated when saved to ESRI Shapefile.\n",
      "  CA_No_Overlap.to_file(output_path, driver='ESRI Shapefile')\n",
      "2025-07-17 17:37:31,635 WARNING: Normalized/laundered field name: 'merged_GDW_IDs' to 'merged_GDW'\n",
      "2025-07-17 17:37:31,635 WARNING: Normalized/laundered field name: 'merged_GDW_IDs' to 'merged_GDW'\n"
     ]
    },
    {
     "name": "stdout",
     "output_type": "stream",
     "text": [
      "Saved non-overlapping command areas to: /home/waves/data/Africa_Irrigation/Data/Processed/No_Crop_Vectorized_UniLayer_CA-shp\n"
     ]
    }
   ],
   "source": [
    "# Load command area shapefile\n",
    "ca = load_and_reproject(resolve_path(config['No_Crop_Vectorized_Command_Area_shp_path']), target_crs=\"EPSG:3857\")\n",
    "\n",
    "# Build an undirected graph where nodes are polygon indices, edges mean overlap\n",
    "G = nx.Graph()\n",
    "G.add_nodes_from(range(len(ca)))\n",
    "for i, geom1 in enumerate(ca.geometry):\n",
    "    for j in range(i+1, len(ca)):\n",
    "        geom2 = ca.geometry.iloc[j]\n",
    "        if geom1.intersects(geom2):\n",
    "            G.add_edge(i, j)\n",
    "\n",
    "# Find connected components (groups of overlapping polygons)\n",
    "groups = list(nx.connected_components(G))\n",
    "\n",
    "# Merge polygons in each group\n",
    "merged_geoms = []\n",
    "n_merged = []\n",
    "merged_gdw_ids = []\n",
    "for group in groups:\n",
    "    group_indices = list(group)\n",
    "    group_df = ca.iloc[group_indices]\n",
    "    merged_geom = unary_union(group_df.geometry)\n",
    "    merged_geoms.append(merged_geom)\n",
    "    n_merged.append(len(group_df))\n",
    "    merged_gdw_ids.append(list(group_df['GDW_ID']))\n",
    "\n",
    "CA_No_Overlap = gpd.GeoDataFrame({\n",
    "    'geometry': merged_geoms,\n",
    "    'n_merged': n_merged,\n",
    "    'merged_GDW_IDs': [\",\".join(map(str, ids)) for ids in merged_gdw_ids]\n",
    "}, crs=ca.crs)\n",
    "\n",
    "# Check for overlaps in CA_No_Overlap\n",
    "geoms = list(CA_No_Overlap.geometry)\n",
    "overlap_found = False\n",
    "for i, geom in enumerate(geoms):\n",
    "    matches = [j for j, other in enumerate(geoms) if i != j and geom.intersects(other)]\n",
    "    if matches:\n",
    "        overlap_found = True\n",
    "        print(f\"Overlap found for geometry {i} (overlaps with: {matches})\")\n",
    "        break\n",
    "if not overlap_found:\n",
    "    output_path = resolve_path(config['No_Crop_Vectorized_CA_UniLayer_shp_path'])\n",
    "    CA_No_Overlap.to_file(output_path, driver='ESRI Shapefile')\n",
    "    print(f\"Saved non-overlapping command areas to: {output_path}\")\n",
    "else:\n",
    "    print('Overlaps detected in CA_No_Overlap!')"
   ]
  }
 ],
 "metadata": {
  "kernelspec": {
   "display_name": "irrigation",
   "language": "python",
   "name": "python3"
  },
  "language_info": {
   "codemirror_mode": {
    "name": "ipython",
    "version": 3
   },
   "file_extension": ".py",
   "mimetype": "text/x-python",
   "name": "python",
   "nbconvert_exporter": "python",
   "pygments_lexer": "ipython3",
   "version": "3.12.4"
  }
 },
 "nbformat": 4,
 "nbformat_minor": 5
}
