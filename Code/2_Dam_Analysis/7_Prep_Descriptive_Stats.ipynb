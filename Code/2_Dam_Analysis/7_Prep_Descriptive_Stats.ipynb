{
 "cells": [
  {
   "cell_type": "code",
   "execution_count": null,
   "id": "75377041",
   "metadata": {},
   "outputs": [],
   "source": [
    "import logging\n",
    "import networkx as nx\n",
    "import numpy as np\n",
    "import os\n",
    "import rasterio\n",
    "from rasterio.crs import CRS\n",
    "from rasterio.io import MemoryFile\n",
    "from rasterio.mask import mask\n",
    "import sys\n",
    "import time\n",
    "from shapely.ops import unary_union\n",
    "\n",
    "# Add the project root to sys.path so we can import from Code.utils everywhere\n",
    "project_root = os.path.abspath(os.path.join(os.getcwd(), '..', '..'))\n",
    "if project_root not in sys.path:\n",
    "    sys.path.insert(0, project_root)\n",
    "\n",
    "from Code.utils.spatial_utility import load_and_reproject\n",
    "from Code.utils.utility import load_config, resolve_path\n",
    "\n",
    "# Load configuration\n",
    "config = load_config()\n",
    "\n",
    "for handler in logging.root.handlers[:]:\n",
    "    logging.root.removeHandler(handler)\n",
    "\n",
    "logging.basicConfig(\n",
    "    level=logging.INFO,\n",
    "    format='%(asctime)s %(levelname)s: %(message)s',\n",
    "    handlers=[\n",
    "        logging.FileHandler(\"trim_debug.log\", mode='w'),  # overwrite each time\n",
    "        logging.StreamHandler()  # optional: show in notebook output\n",
    "    ]\n",
    ")\n",
    "\n",
    "logger = logging.getLogger(__name__)"
   ]
  },
  {
   "cell_type": "markdown",
   "id": "b31c1d73",
   "metadata": {},
   "source": [
    "### Cropping Irrigation Rasters to Study Area\n",
    "This section processes irrigation rasters to focus on the arid regions of Sub-Saharan Africa (SSA). It involves reprojecting the study area shapefile, masking rasters to the study area, and saving the trimmed rasters for analysis."
   ]
  },
  {
   "cell_type": "code",
   "execution_count": null,
   "id": "8e9cee50",
   "metadata": {},
   "outputs": [
    {
     "name": "stderr",
     "output_type": "stream",
     "text": [
      "2025-07-17 18:08:40,482 INFO: ⏱️ Function entry time: 1752800920.4826636\n"
     ]
    },
    {
     "name": "stderr",
     "output_type": "stream",
     "text": [
      "2025-07-17 18:08:41,548 INFO: Study area CRS: EPSG:4326\n"
     ]
    },
    {
     "ename": "KeyboardInterrupt",
     "evalue": "",
     "output_type": "error",
     "traceback": [
      "\u001b[0;31m---------------------------------------------------------------------------\u001b[0m",
      "\u001b[0;31mKeyboardInterrupt\u001b[0m                         Traceback (most recent call last)",
      "Cell \u001b[0;32mIn[14], line 82\u001b[0m\n\u001b[1;32m     79\u001b[0m         save_masked_raster(array, out_transform, meta, output_path)\n\u001b[1;32m     80\u001b[0m         logger\u001b[38;5;241m.\u001b[39minfo(\u001b[38;5;124mf\u001b[39m\u001b[38;5;124m\"\u001b[39m\u001b[38;5;124m✅ Trimmed AEI raster for \u001b[39m\u001b[38;5;132;01m{\u001b[39;00myear\u001b[38;5;132;01m}\u001b[39;00m\u001b[38;5;124m (all_touched) saved to: \u001b[39m\u001b[38;5;132;01m{\u001b[39;00moutput_path\u001b[38;5;132;01m}\u001b[39;00m\u001b[38;5;124m\"\u001b[39m)\n\u001b[0;32m---> 82\u001b[0m \u001b[43mtrim_aei_to_study_area\u001b[49m\u001b[43m(\u001b[49m\u001b[43m)\u001b[49m\n",
      "Cell \u001b[0;32mIn[14], line 23\u001b[0m, in \u001b[0;36mtrim_aei_to_study_area\u001b[0;34m()\u001b[0m\n\u001b[1;32m     21\u001b[0m study_area \u001b[38;5;241m=\u001b[39m load_and_reproject(ssa_arid_shp_fp, target_crs\u001b[38;5;241m=\u001b[39m\u001b[38;5;124m\"\u001b[39m\u001b[38;5;124mEPSG:4326\u001b[39m\u001b[38;5;124m\"\u001b[39m)\n\u001b[1;32m     22\u001b[0m logger\u001b[38;5;241m.\u001b[39minfo(\u001b[38;5;124mf\u001b[39m\u001b[38;5;124m\"\u001b[39m\u001b[38;5;124mStudy area CRS: \u001b[39m\u001b[38;5;132;01m{\u001b[39;00mstudy_area\u001b[38;5;241m.\u001b[39mcrs\u001b[38;5;132;01m}\u001b[39;00m\u001b[38;5;124m\"\u001b[39m)\n\u001b[0;32m---> 23\u001b[0m study_area_union \u001b[38;5;241m=\u001b[39m \u001b[43mstudy_area\u001b[49m\u001b[38;5;241;43m.\u001b[39;49m\u001b[43mgeometry\u001b[49m\u001b[38;5;241;43m.\u001b[39;49m\u001b[43munary_union\u001b[49m\n\u001b[1;32m     25\u001b[0m aei_years \u001b[38;5;241m=\u001b[39m [\u001b[38;5;241m1980\u001b[39m, \u001b[38;5;241m1985\u001b[39m, \u001b[38;5;241m1990\u001b[39m, \u001b[38;5;241m1995\u001b[39m, \u001b[38;5;241m2000\u001b[39m, \u001b[38;5;241m2005\u001b[39m, \u001b[38;5;241m2010\u001b[39m, \u001b[38;5;241m2015\u001b[39m]\n\u001b[1;32m     27\u001b[0m \u001b[38;5;28;01mfor\u001b[39;00m year \u001b[38;5;129;01min\u001b[39;00m aei_years:\n",
      "File \u001b[0;32m~/miniconda3/envs/irrigation/lib/python3.12/site-packages/geopandas/base.py:1219\u001b[0m, in \u001b[0;36mGeoPandasBase.unary_union\u001b[0;34m(self)\u001b[0m\n\u001b[1;32m   1200\u001b[0m \u001b[38;5;129m@property\u001b[39m\n\u001b[1;32m   1201\u001b[0m \u001b[38;5;28;01mdef\u001b[39;00m \u001b[38;5;21munary_union\u001b[39m(\u001b[38;5;28mself\u001b[39m):\n\u001b[1;32m   1202\u001b[0m \u001b[38;5;250m    \u001b[39m\u001b[38;5;124;03m\"\"\"Returns a geometry containing the union of all geometries in the\u001b[39;00m\n\u001b[1;32m   1203\u001b[0m \u001b[38;5;124;03m    ``GeoSeries``.\u001b[39;00m\n\u001b[1;32m   1204\u001b[0m \n\u001b[0;32m   (...)\u001b[0m\n\u001b[1;32m   1217\u001b[0m \u001b[38;5;124;03m    POLYGON ((0 1, 0 2, 2 2, 2 0, 1 0, 0 0, 0 1))\u001b[39;00m\n\u001b[1;32m   1218\u001b[0m \u001b[38;5;124;03m    \"\"\"\u001b[39;00m\n\u001b[0;32m-> 1219\u001b[0m     \u001b[38;5;28;01mreturn\u001b[39;00m \u001b[38;5;28;43mself\u001b[39;49m\u001b[38;5;241;43m.\u001b[39;49m\u001b[43mgeometry\u001b[49m\u001b[38;5;241;43m.\u001b[39;49m\u001b[43mvalues\u001b[49m\u001b[38;5;241;43m.\u001b[39;49m\u001b[43munary_union\u001b[49m\u001b[43m(\u001b[49m\u001b[43m)\u001b[49m\n",
      "File \u001b[0;32m~/miniconda3/envs/irrigation/lib/python3.12/site-packages/geopandas/array.py:743\u001b[0m, in \u001b[0;36mGeometryArray.unary_union\u001b[0;34m(self)\u001b[0m\n\u001b[1;32m    742\u001b[0m \u001b[38;5;28;01mdef\u001b[39;00m \u001b[38;5;21munary_union\u001b[39m(\u001b[38;5;28mself\u001b[39m):\n\u001b[0;32m--> 743\u001b[0m     \u001b[38;5;28;01mreturn\u001b[39;00m \u001b[43mvectorized\u001b[49m\u001b[38;5;241;43m.\u001b[39;49m\u001b[43munary_union\u001b[49m\u001b[43m(\u001b[49m\u001b[38;5;28;43mself\u001b[39;49m\u001b[38;5;241;43m.\u001b[39;49m\u001b[43m_data\u001b[49m\u001b[43m)\u001b[49m\n",
      "File \u001b[0;32m~/miniconda3/envs/irrigation/lib/python3.12/site-packages/geopandas/_vectorized.py:1186\u001b[0m, in \u001b[0;36munary_union\u001b[0;34m(data)\u001b[0m\n\u001b[1;32m   1180\u001b[0m warning_msg \u001b[38;5;241m=\u001b[39m (\n\u001b[1;32m   1181\u001b[0m     \u001b[38;5;124m\"\u001b[39m\u001b[38;5;124m`unary_union` returned None due to all-None GeoSeries. In future, \u001b[39m\u001b[38;5;124m\"\u001b[39m\n\u001b[1;32m   1182\u001b[0m     \u001b[38;5;124m\"\u001b[39m\u001b[38;5;124m`unary_union` will return \u001b[39m\u001b[38;5;124m'\u001b[39m\u001b[38;5;124mGEOMETRYCOLLECTION EMPTY\u001b[39m\u001b[38;5;124m'\u001b[39m\u001b[38;5;124m instead.\u001b[39m\u001b[38;5;124m\"\u001b[39m\n\u001b[1;32m   1183\u001b[0m )\n\u001b[1;32m   1185\u001b[0m \u001b[38;5;28;01mif\u001b[39;00m compat\u001b[38;5;241m.\u001b[39mUSE_SHAPELY_20:\n\u001b[0;32m-> 1186\u001b[0m     data \u001b[38;5;241m=\u001b[39m \u001b[43mshapely\u001b[49m\u001b[38;5;241;43m.\u001b[39;49m\u001b[43munion_all\u001b[49m\u001b[43m(\u001b[49m\u001b[43mdata\u001b[49m\u001b[43m)\u001b[49m\n\u001b[1;32m   1187\u001b[0m     \u001b[38;5;28;01mif\u001b[39;00m data \u001b[38;5;129;01mis\u001b[39;00m \u001b[38;5;28;01mNone\u001b[39;00m \u001b[38;5;129;01mor\u001b[39;00m data\u001b[38;5;241m.\u001b[39mis_empty:  \u001b[38;5;66;03m# shapely 2.0a1 and 2.0\u001b[39;00m\n\u001b[1;32m   1188\u001b[0m         warnings\u001b[38;5;241m.\u001b[39mwarn(\n\u001b[1;32m   1189\u001b[0m             warning_msg,\n\u001b[1;32m   1190\u001b[0m             \u001b[38;5;167;01mFutureWarning\u001b[39;00m,\n\u001b[1;32m   1191\u001b[0m             stacklevel\u001b[38;5;241m=\u001b[39m\u001b[38;5;241m4\u001b[39m,\n\u001b[1;32m   1192\u001b[0m         )\n",
      "File \u001b[0;32m~/miniconda3/envs/irrigation/lib/python3.12/site-packages/shapely/decorators.py:173\u001b[0m, in \u001b[0;36mdeprecate_positional.<locals>.decorator.<locals>.wrapper\u001b[0;34m(*args, **kwargs)\u001b[0m\n\u001b[1;32m    171\u001b[0m \u001b[38;5;129m@wraps\u001b[39m(func)\n\u001b[1;32m    172\u001b[0m \u001b[38;5;28;01mdef\u001b[39;00m \u001b[38;5;21mwrapper\u001b[39m(\u001b[38;5;241m*\u001b[39margs, \u001b[38;5;241m*\u001b[39m\u001b[38;5;241m*\u001b[39mkwargs):\n\u001b[0;32m--> 173\u001b[0m     result \u001b[38;5;241m=\u001b[39m \u001b[43mfunc\u001b[49m\u001b[43m(\u001b[49m\u001b[38;5;241;43m*\u001b[39;49m\u001b[43margs\u001b[49m\u001b[43m,\u001b[49m\u001b[43m \u001b[49m\u001b[38;5;241;43m*\u001b[39;49m\u001b[38;5;241;43m*\u001b[39;49m\u001b[43mkwargs\u001b[49m\u001b[43m)\u001b[49m\n\u001b[1;32m    175\u001b[0m     n \u001b[38;5;241m=\u001b[39m \u001b[38;5;28mlen\u001b[39m(args)\n\u001b[1;32m    176\u001b[0m     \u001b[38;5;28;01mif\u001b[39;00m n \u001b[38;5;241m>\u001b[39m warn_from:\n",
      "File \u001b[0;32m~/miniconda3/envs/irrigation/lib/python3.12/site-packages/shapely/decorators.py:88\u001b[0m, in \u001b[0;36mmultithreading_enabled.<locals>.wrapped\u001b[0;34m(*args, **kwargs)\u001b[0m\n\u001b[1;32m     86\u001b[0m     \u001b[38;5;28;01mfor\u001b[39;00m arr \u001b[38;5;129;01min\u001b[39;00m array_args:\n\u001b[1;32m     87\u001b[0m         arr\u001b[38;5;241m.\u001b[39mflags\u001b[38;5;241m.\u001b[39mwriteable \u001b[38;5;241m=\u001b[39m \u001b[38;5;28;01mFalse\u001b[39;00m\n\u001b[0;32m---> 88\u001b[0m     \u001b[38;5;28;01mreturn\u001b[39;00m \u001b[43mfunc\u001b[49m\u001b[43m(\u001b[49m\u001b[38;5;241;43m*\u001b[39;49m\u001b[43margs\u001b[49m\u001b[43m,\u001b[49m\u001b[43m \u001b[49m\u001b[38;5;241;43m*\u001b[39;49m\u001b[38;5;241;43m*\u001b[39;49m\u001b[43mkwargs\u001b[49m\u001b[43m)\u001b[49m\n\u001b[1;32m     89\u001b[0m \u001b[38;5;28;01mfinally\u001b[39;00m:\n\u001b[1;32m     90\u001b[0m     \u001b[38;5;28;01mfor\u001b[39;00m arr, old_flag \u001b[38;5;129;01min\u001b[39;00m \u001b[38;5;28mzip\u001b[39m(array_args, old_flags):\n",
      "File \u001b[0;32m~/miniconda3/envs/irrigation/lib/python3.12/site-packages/shapely/set_operations.py:553\u001b[0m, in \u001b[0;36munion_all\u001b[0;34m(geometries, grid_size, axis, **kwargs)\u001b[0m\n\u001b[1;32m    549\u001b[0m         \u001b[38;5;28;01mraise\u001b[39;00m \u001b[38;5;167;01mValueError\u001b[39;00m(\u001b[38;5;124m\"\u001b[39m\u001b[38;5;124mgrid_size parameter only accepts scalar values\u001b[39m\u001b[38;5;124m\"\u001b[39m)\n\u001b[1;32m    551\u001b[0m     \u001b[38;5;28;01mreturn\u001b[39;00m lib\u001b[38;5;241m.\u001b[39munary_union_prec(collections, grid_size, \u001b[38;5;241m*\u001b[39m\u001b[38;5;241m*\u001b[39mkwargs)\n\u001b[0;32m--> 553\u001b[0m \u001b[38;5;28;01mreturn\u001b[39;00m \u001b[43mlib\u001b[49m\u001b[38;5;241;43m.\u001b[39;49m\u001b[43munary_union\u001b[49m\u001b[43m(\u001b[49m\u001b[43mcollections\u001b[49m\u001b[43m,\u001b[49m\u001b[43m \u001b[49m\u001b[38;5;241;43m*\u001b[39;49m\u001b[38;5;241;43m*\u001b[39;49m\u001b[43mkwargs\u001b[49m\u001b[43m)\u001b[49m\n",
      "\u001b[0;31mKeyboardInterrupt\u001b[0m: "
     ]
    }
   ],
   "source": [
    "def save_masked_raster(array, transform, meta, out_path):\n",
    "    meta_out = meta.copy()\n",
    "    meta_out.update({\n",
    "        'driver': 'GTiff',\n",
    "        'dtype': array.dtype,\n",
    "        'height': array.shape[0],\n",
    "        'width': array.shape[1],\n",
    "        'transform': transform,\n",
    "        'crs': meta['crs'],\n",
    "        'count': 1\n",
    "    })\n",
    "    logger.info(f\"Writing to: {out_path}\")\n",
    "    with rasterio.open(out_path, 'w', **meta_out) as dst:\n",
    "        dst.write(array, 1)\n",
    "\n",
    "def trim_aei_to_study_area():\n",
    "    logger.info(f\"Function entry time: {time.time()}\")\n",
    "\n",
    "    # Reproject study area to match raster CRS (EPSG:4326)\n",
    "    ssa_arid_shp_fp = resolve_path(config['SSA_Arid_by_Country_shp_path'])\n",
    "    study_area = load_and_reproject(ssa_arid_shp_fp, target_crs=\"EPSG:4326\")\n",
    "    logger.info(f\"Study area CRS: {study_area.crs}\")\n",
    "    study_area_union = study_area.geometry.unary_union\n",
    "\n",
    "    aei_years = [1980, 1985, 1990, 1995, 2000, 2005, 2010, 2015]\n",
    "\n",
    "    for year in aei_years:\n",
    "        logger.info(f\"Processing year: {year}\")\n",
    "        raster_key = f\"Africa_AEI_{year}_asc_path\"\n",
    "        irrig_raster_path = resolve_path(config[raster_key])\n",
    "        output_key = f\"Irrigation_Arid_SSA_{year}_tif_path\"\n",
    "        output_path = resolve_path(config[output_key])\n",
    "\n",
    "        # Load AEI raster and assign CRS if missing\n",
    "        with rasterio.open(irrig_raster_path) as src_file:\n",
    "            bounds = src_file.bounds\n",
    "            meta = src_file.meta.copy()\n",
    "\n",
    "            if (\n",
    "                src_file.crs is None or\n",
    "                (src_file.crs.to_epsg() == 3857 and -180 <= bounds.left <= 180 and -90 <= bounds.bottom <= 90)\n",
    "            ):\n",
    "                logger.info(f\"Forcing CRS to EPSG:4326 due to known metadata error or missing CRS.\")\n",
    "                meta['crs'] = CRS.from_epsg(4326)\n",
    "\n",
    "                # Re-open the raster in memory with corrected CRS\n",
    "                mem = MemoryFile()\n",
    "                with mem.open(**meta) as patched_src:\n",
    "                    patched_src.write(src_file.read(1), 1)\n",
    "                src = mem.open()\n",
    "            else:\n",
    "                src = src_file\n",
    "\n",
    "            # Mask to study area (EPSG:4326)\n",
    "            masked, out_transform = mask(\n",
    "                src,\n",
    "                [study_area_union],\n",
    "                crop=True,\n",
    "                all_touched=True,\n",
    "                nodata=src.nodata\n",
    "            )\n",
    "\n",
    "        print(\"Raster bounds:\", src.bounds)\n",
    "        print(\"Study area bounds:\", study_area_union.bounds)\n",
    "\n",
    "        array = masked[0]\n",
    "        assert array.ndim == 2, f\"Expected 2D array, got shape {array.shape}\"\n",
    "        logger.info(f\"Masked array shape: {array.shape}\")\n",
    "        \n",
    "        meta.update({\n",
    "            \"transform\": out_transform,\n",
    "            \"height\": array.shape[0],\n",
    "            \"width\": array.shape[1]\n",
    "        })\n",
    "\n",
    "        print(\"Min:\", np.min(array))\n",
    "        print(\"Max:\", np.max(array))\n",
    "\n",
    "        save_masked_raster(array, out_transform, meta, output_path)\n",
    "        logger.info(f\"Trimmed AEI raster for {year} (all_touched) saved to: {output_path}\")\n",
    "        \n",
    "trim_aei_to_study_area()"
   ]
  },
  {
   "cell_type": "markdown",
   "id": "cb3bbad9",
   "metadata": {},
   "source": [
    "### Merge overlaps in command areas and save as separate shapefile"
   ]
  },
  {
   "cell_type": "code",
   "execution_count": null,
   "id": "72b0add4",
   "metadata": {},
   "outputs": [
    {
     "name": "stderr",
     "output_type": "stream",
     "text": [
      "/tmp/ipykernel_1572140/1835678169.py:65: UserWarning: Column names longer than 10 characters will be truncated when saved to ESRI Shapefile.\n",
      "  CA_No_Overlap.to_file(out_path, driver='ESRI Shapefile')\n",
      "2025-07-23 19:17:16,531 WARNING: Normalized/laundered field name: 'merged_GDW_IDs' to 'merged_GDW'\n"
     ]
    },
    {
     "name": "stdout",
     "output_type": "stream",
     "text": [
      "[1980] ✅ Saved to: /home/waves/data/Africa_Irrigation/Data/Processed/No_Crop_Vectorized_UniLayer_CA-shp/merged_CA_1980.shp\n"
     ]
    },
    {
     "name": "stderr",
     "output_type": "stream",
     "text": [
      "/tmp/ipykernel_1572140/1835678169.py:65: UserWarning: Column names longer than 10 characters will be truncated when saved to ESRI Shapefile.\n",
      "  CA_No_Overlap.to_file(out_path, driver='ESRI Shapefile')\n",
      "2025-07-23 19:17:35,075 WARNING: Normalized/laundered field name: 'merged_GDW_IDs' to 'merged_GDW'\n",
      "2025-07-23 19:17:35,075 WARNING: Normalized/laundered field name: 'merged_GDW_IDs' to 'merged_GDW'\n"
     ]
    },
    {
     "name": "stdout",
     "output_type": "stream",
     "text": [
      "[1985] ✅ Saved to: /home/waves/data/Africa_Irrigation/Data/Processed/No_Crop_Vectorized_UniLayer_CA-shp/merged_CA_1985.shp\n"
     ]
    },
    {
     "name": "stderr",
     "output_type": "stream",
     "text": [
      "/tmp/ipykernel_1572140/1835678169.py:65: UserWarning: Column names longer than 10 characters will be truncated when saved to ESRI Shapefile.\n",
      "  CA_No_Overlap.to_file(out_path, driver='ESRI Shapefile')\n",
      "2025-07-23 19:18:01,117 WARNING: Normalized/laundered field name: 'merged_GDW_IDs' to 'merged_GDW'\n",
      "2025-07-23 19:18:01,117 WARNING: Normalized/laundered field name: 'merged_GDW_IDs' to 'merged_GDW'\n"
     ]
    },
    {
     "name": "stdout",
     "output_type": "stream",
     "text": [
      "[1990] ✅ Saved to: /home/waves/data/Africa_Irrigation/Data/Processed/No_Crop_Vectorized_UniLayer_CA-shp/merged_CA_1990.shp\n"
     ]
    },
    {
     "name": "stderr",
     "output_type": "stream",
     "text": [
      "/tmp/ipykernel_1572140/1835678169.py:65: UserWarning: Column names longer than 10 characters will be truncated when saved to ESRI Shapefile.\n",
      "  CA_No_Overlap.to_file(out_path, driver='ESRI Shapefile')\n",
      "2025-07-23 19:18:27,735 WARNING: Normalized/laundered field name: 'merged_GDW_IDs' to 'merged_GDW'\n",
      "2025-07-23 19:18:27,735 WARNING: Normalized/laundered field name: 'merged_GDW_IDs' to 'merged_GDW'\n"
     ]
    },
    {
     "name": "stdout",
     "output_type": "stream",
     "text": [
      "[1995] ✅ Saved to: /home/waves/data/Africa_Irrigation/Data/Processed/No_Crop_Vectorized_UniLayer_CA-shp/merged_CA_1995.shp\n"
     ]
    },
    {
     "name": "stderr",
     "output_type": "stream",
     "text": [
      "/tmp/ipykernel_1572140/1835678169.py:65: UserWarning: Column names longer than 10 characters will be truncated when saved to ESRI Shapefile.\n",
      "  CA_No_Overlap.to_file(out_path, driver='ESRI Shapefile')\n",
      "2025-07-23 19:18:55,875 WARNING: Normalized/laundered field name: 'merged_GDW_IDs' to 'merged_GDW'\n",
      "2025-07-23 19:18:55,875 WARNING: Normalized/laundered field name: 'merged_GDW_IDs' to 'merged_GDW'\n"
     ]
    },
    {
     "name": "stdout",
     "output_type": "stream",
     "text": [
      "[2000] ✅ Saved to: /home/waves/data/Africa_Irrigation/Data/Processed/No_Crop_Vectorized_UniLayer_CA-shp/merged_CA_2000.shp\n"
     ]
    },
    {
     "name": "stderr",
     "output_type": "stream",
     "text": [
      "/tmp/ipykernel_1572140/1835678169.py:65: UserWarning: Column names longer than 10 characters will be truncated when saved to ESRI Shapefile.\n",
      "  CA_No_Overlap.to_file(out_path, driver='ESRI Shapefile')\n",
      "2025-07-23 19:19:23,111 WARNING: Normalized/laundered field name: 'merged_GDW_IDs' to 'merged_GDW'\n",
      "2025-07-23 19:19:23,111 WARNING: Normalized/laundered field name: 'merged_GDW_IDs' to 'merged_GDW'\n"
     ]
    },
    {
     "name": "stdout",
     "output_type": "stream",
     "text": [
      "[2005] ✅ Saved to: /home/waves/data/Africa_Irrigation/Data/Processed/No_Crop_Vectorized_UniLayer_CA-shp/merged_CA_2005.shp\n"
     ]
    },
    {
     "name": "stderr",
     "output_type": "stream",
     "text": [
      "/tmp/ipykernel_1572140/1835678169.py:65: UserWarning: Column names longer than 10 characters will be truncated when saved to ESRI Shapefile.\n",
      "  CA_No_Overlap.to_file(out_path, driver='ESRI Shapefile')\n",
      "2025-07-23 19:19:51,161 WARNING: Normalized/laundered field name: 'merged_GDW_IDs' to 'merged_GDW'\n",
      "2025-07-23 19:19:51,161 WARNING: Normalized/laundered field name: 'merged_GDW_IDs' to 'merged_GDW'\n"
     ]
    },
    {
     "name": "stdout",
     "output_type": "stream",
     "text": [
      "[2010] ✅ Saved to: /home/waves/data/Africa_Irrigation/Data/Processed/No_Crop_Vectorized_UniLayer_CA-shp/merged_CA_2010.shp\n"
     ]
    },
    {
     "name": "stderr",
     "output_type": "stream",
     "text": [
      "/tmp/ipykernel_1572140/1835678169.py:65: UserWarning: Column names longer than 10 characters will be truncated when saved to ESRI Shapefile.\n",
      "  CA_No_Overlap.to_file(out_path, driver='ESRI Shapefile')\n",
      "2025-07-23 19:20:18,798 WARNING: Normalized/laundered field name: 'merged_GDW_IDs' to 'merged_GDW'\n",
      "2025-07-23 19:20:18,798 WARNING: Normalized/laundered field name: 'merged_GDW_IDs' to 'merged_GDW'\n"
     ]
    },
    {
     "name": "stdout",
     "output_type": "stream",
     "text": [
      "[2015] ✅ Saved to: /home/waves/data/Africa_Irrigation/Data/Processed/No_Crop_Vectorized_UniLayer_CA-shp/merged_CA_2015.shp\n"
     ]
    }
   ],
   "source": [
    "import geopandas as gpd\n",
    "\n",
    "# Load command area shapefile\n",
    "ca = load_and_reproject(resolve_path(config['No_Crop_Vectorized_Command_Area_shp_path']), target_crs=\"EPSG:3857\")\n",
    "\n",
    "# Load dam shapefile and map years to command areas\n",
    "dam_gdf = load_and_reproject(resolve_path(config['GDW_Arid_SSA_Final_Irr_shp_path']), target_crs=\"EPSG:3857\")\n",
    "dam_years = dam_gdf.set_index('GDW_ID')['YEAR_DAM'].to_dict()\n",
    "ca['YEAR_DAM'] = ca['GDW_ID'].map(dam_years)\n",
    "\n",
    "# Define years for analysis\n",
    "years = [1980, 1985, 1990, 1995, 2000, 2005, 2010, 2015]\n",
    "\n",
    "output_path = resolve_path(config['No_Crop_Vectorized_CA_UniLayer_shp_path'])\n",
    "\n",
    "for year in years:\n",
    "    ca_year = ca[ca['YEAR_DAM'] <= year].copy().reset_index(drop=True)\n",
    "    if ca_year.empty:\n",
    "        print(f\"No command areas found for year {year}. Skipping...\")\n",
    "        continue\n",
    "\n",
    "\n",
    "\n",
    "    # Build an undirected graph where nodes are polygon indices, edges mean overlap\n",
    "    G = nx.Graph()\n",
    "    G.add_nodes_from(range(len(ca_year)))\n",
    "    for i, geom1 in enumerate(ca_year.geometry):\n",
    "        for j in range(i+1, len(ca_year)):\n",
    "            geom2 = ca_year.geometry.iloc[j]\n",
    "            if geom1.intersects(geom2):\n",
    "                G.add_edge(i, j)\n",
    "\n",
    "    # Find connected components (groups of overlapping polygons)\n",
    "    groups = list(nx.connected_components(G))\n",
    "    merged_geoms = []\n",
    "    n_merged = []\n",
    "    merged_gdw_ids = []\n",
    "\n",
    "    for group in groups:\n",
    "        group_indices = list(group)\n",
    "        group_df = ca_year.iloc[group_indices]\n",
    "        merged_geom = unary_union(group_df.geometry)\n",
    "        merged_geoms.append(merged_geom)\n",
    "        n_merged.append(len(group_df))\n",
    "        merged_gdw_ids.append(list(group_df['GDW_ID']))\n",
    "\n",
    "    CA_No_Overlap = gpd.GeoDataFrame({\n",
    "            'geometry': merged_geoms,\n",
    "            'n_merged': n_merged,\n",
    "            'merged_GDW': [\",\".join(map(str, ids)) for ids in merged_gdw_ids]\n",
    "        }, crs=ca.crs)\n",
    "\n",
    "    # Check for overlaps in CA_No_Overlap\n",
    "    geoms = list(CA_No_Overlap.geometry)\n",
    "    overlap_found = False\n",
    "    for i, geom in enumerate(geoms):\n",
    "        matches = [j for j, other in enumerate(geoms) if i != j and geom.intersects(other)]\n",
    "        if matches:\n",
    "            print(f\"Overlap found in year {year} for geometry {i} (overlaps with: {matches})\")\n",
    "            overlap_found = True\n",
    "            break\n",
    "\n",
    "    if not overlap_found:\n",
    "        out_path = os.path.join(output_path, f\"merged_CA_{year}.shp\")\n",
    "        CA_No_Overlap.to_file(out_path, driver='ESRI Shapefile')\n",
    "        print(f\"[{year}] Saved to: {out_path}\")\n",
    "    else:\n",
    "        print(f\"[{year}] Overlaps detected — file not saved.\")"
   ]
  }
 ],
 "metadata": {
  "kernelspec": {
   "display_name": "irrigation",
   "language": "python",
   "name": "python3"
  },
  "language_info": {
   "codemirror_mode": {
    "name": "ipython",
    "version": 3
   },
   "file_extension": ".py",
   "mimetype": "text/x-python",
   "name": "python",
   "nbconvert_exporter": "python",
   "pygments_lexer": "ipython3",
   "version": "3.12.4"
  }
 },
 "nbformat": 4,
 "nbformat_minor": 5
}
