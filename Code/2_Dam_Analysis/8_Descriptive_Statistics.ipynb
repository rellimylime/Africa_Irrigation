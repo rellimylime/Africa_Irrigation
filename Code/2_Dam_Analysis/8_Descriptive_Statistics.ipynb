{
 "cells": [
  {
   "cell_type": "markdown",
   "id": "3d0cba6f",
   "metadata": {},
   "source": [
    "# Statistical Analysis of Irrigation Values Inside and Outside Dam Command Areas (2000 & 2015)\n",
    "\n",
    "This notebook performs descriptive statistics, visualizations, and hypothesis testing on irrigation pixel values extracted from inside and outside dam command areas for the years 2000 and 2015. The analysis follows advisor feedback and is structured as follows:\n",
    "\n",
    "**Outline:**\n",
    "1. Data Loading\n",
    "2. Descriptive Statistics\n",
    "3. Distribution Visualization\n",
    "4. Statistical Hypothesis Testing\n",
    "\n",
    "---"
   ]
  },
  {
   "cell_type": "code",
   "execution_count": null,
   "id": "e9c9d7db",
   "metadata": {},
   "outputs": [
    {
     "ename": "FileNotFoundError",
     "evalue": "[Errno 2] No such file or directory: '/home/waves/data/Africa_Irrigation/Irrigation_Inside_CA_2000_csv_path'",
     "output_type": "error",
     "traceback": [
      "\u001b[0;31m---------------------------------------------------------------------------\u001b[0m",
      "\u001b[0;31mFileNotFoundError\u001b[0m                         Traceback (most recent call last)",
      "Cell \u001b[0;32mIn[1], line 16\u001b[0m\n\u001b[1;32m     13\u001b[0m \u001b[38;5;28;01mfrom\u001b[39;00m \u001b[38;5;21;01mCode\u001b[39;00m\u001b[38;5;21;01m.\u001b[39;00m\u001b[38;5;21;01mutils\u001b[39;00m\u001b[38;5;21;01m.\u001b[39;00m\u001b[38;5;21;01mutility\u001b[39;00m \u001b[38;5;28;01mimport\u001b[39;00m resolve_path\n\u001b[1;32m     15\u001b[0m \u001b[38;5;66;03m# Load the four CSV files using resolve_path (for consistency with project I/O)\u001b[39;00m\n\u001b[0;32m---> 16\u001b[0m inside_2000 \u001b[38;5;241m=\u001b[39m \u001b[43mpd\u001b[49m\u001b[38;5;241;43m.\u001b[39;49m\u001b[43mread_csv\u001b[49m\u001b[43m(\u001b[49m\u001b[43mresolve_path\u001b[49m\u001b[43m(\u001b[49m\u001b[38;5;124;43m'\u001b[39;49m\u001b[38;5;124;43mIrrigation_Inside_CA_2000_csv_path\u001b[39;49m\u001b[38;5;124;43m'\u001b[39;49m\u001b[43m)\u001b[49m\u001b[43m)\u001b[49m\n\u001b[1;32m     17\u001b[0m outside_2000 \u001b[38;5;241m=\u001b[39m pd\u001b[38;5;241m.\u001b[39mread_csv(resolve_path(\u001b[38;5;124m'\u001b[39m\u001b[38;5;124mIrrigation_Outside_CA_2000_csv_path\u001b[39m\u001b[38;5;124m'\u001b[39m))\n\u001b[1;32m     18\u001b[0m inside_2015 \u001b[38;5;241m=\u001b[39m pd\u001b[38;5;241m.\u001b[39mread_csv(resolve_path(\u001b[38;5;124m'\u001b[39m\u001b[38;5;124mIrrigation_Inside_CA_2015_csv_path\u001b[39m\u001b[38;5;124m'\u001b[39m))\n",
      "File \u001b[0;32m~/miniconda3/envs/irrigation/lib/python3.12/site-packages/pandas/io/parsers/readers.py:1026\u001b[0m, in \u001b[0;36mread_csv\u001b[0;34m(filepath_or_buffer, sep, delimiter, header, names, index_col, usecols, dtype, engine, converters, true_values, false_values, skipinitialspace, skiprows, skipfooter, nrows, na_values, keep_default_na, na_filter, verbose, skip_blank_lines, parse_dates, infer_datetime_format, keep_date_col, date_parser, date_format, dayfirst, cache_dates, iterator, chunksize, compression, thousands, decimal, lineterminator, quotechar, quoting, doublequote, escapechar, comment, encoding, encoding_errors, dialect, on_bad_lines, delim_whitespace, low_memory, memory_map, float_precision, storage_options, dtype_backend)\u001b[0m\n\u001b[1;32m   1013\u001b[0m kwds_defaults \u001b[38;5;241m=\u001b[39m _refine_defaults_read(\n\u001b[1;32m   1014\u001b[0m     dialect,\n\u001b[1;32m   1015\u001b[0m     delimiter,\n\u001b[0;32m   (...)\u001b[0m\n\u001b[1;32m   1022\u001b[0m     dtype_backend\u001b[38;5;241m=\u001b[39mdtype_backend,\n\u001b[1;32m   1023\u001b[0m )\n\u001b[1;32m   1024\u001b[0m kwds\u001b[38;5;241m.\u001b[39mupdate(kwds_defaults)\n\u001b[0;32m-> 1026\u001b[0m \u001b[38;5;28;01mreturn\u001b[39;00m \u001b[43m_read\u001b[49m\u001b[43m(\u001b[49m\u001b[43mfilepath_or_buffer\u001b[49m\u001b[43m,\u001b[49m\u001b[43m \u001b[49m\u001b[43mkwds\u001b[49m\u001b[43m)\u001b[49m\n",
      "File \u001b[0;32m~/miniconda3/envs/irrigation/lib/python3.12/site-packages/pandas/io/parsers/readers.py:620\u001b[0m, in \u001b[0;36m_read\u001b[0;34m(filepath_or_buffer, kwds)\u001b[0m\n\u001b[1;32m    617\u001b[0m _validate_names(kwds\u001b[38;5;241m.\u001b[39mget(\u001b[38;5;124m\"\u001b[39m\u001b[38;5;124mnames\u001b[39m\u001b[38;5;124m\"\u001b[39m, \u001b[38;5;28;01mNone\u001b[39;00m))\n\u001b[1;32m    619\u001b[0m \u001b[38;5;66;03m# Create the parser.\u001b[39;00m\n\u001b[0;32m--> 620\u001b[0m parser \u001b[38;5;241m=\u001b[39m \u001b[43mTextFileReader\u001b[49m\u001b[43m(\u001b[49m\u001b[43mfilepath_or_buffer\u001b[49m\u001b[43m,\u001b[49m\u001b[43m \u001b[49m\u001b[38;5;241;43m*\u001b[39;49m\u001b[38;5;241;43m*\u001b[39;49m\u001b[43mkwds\u001b[49m\u001b[43m)\u001b[49m\n\u001b[1;32m    622\u001b[0m \u001b[38;5;28;01mif\u001b[39;00m chunksize \u001b[38;5;129;01mor\u001b[39;00m iterator:\n\u001b[1;32m    623\u001b[0m     \u001b[38;5;28;01mreturn\u001b[39;00m parser\n",
      "File \u001b[0;32m~/miniconda3/envs/irrigation/lib/python3.12/site-packages/pandas/io/parsers/readers.py:1620\u001b[0m, in \u001b[0;36mTextFileReader.__init__\u001b[0;34m(self, f, engine, **kwds)\u001b[0m\n\u001b[1;32m   1617\u001b[0m     \u001b[38;5;28mself\u001b[39m\u001b[38;5;241m.\u001b[39moptions[\u001b[38;5;124m\"\u001b[39m\u001b[38;5;124mhas_index_names\u001b[39m\u001b[38;5;124m\"\u001b[39m] \u001b[38;5;241m=\u001b[39m kwds[\u001b[38;5;124m\"\u001b[39m\u001b[38;5;124mhas_index_names\u001b[39m\u001b[38;5;124m\"\u001b[39m]\n\u001b[1;32m   1619\u001b[0m \u001b[38;5;28mself\u001b[39m\u001b[38;5;241m.\u001b[39mhandles: IOHandles \u001b[38;5;241m|\u001b[39m \u001b[38;5;28;01mNone\u001b[39;00m \u001b[38;5;241m=\u001b[39m \u001b[38;5;28;01mNone\u001b[39;00m\n\u001b[0;32m-> 1620\u001b[0m \u001b[38;5;28mself\u001b[39m\u001b[38;5;241m.\u001b[39m_engine \u001b[38;5;241m=\u001b[39m \u001b[38;5;28;43mself\u001b[39;49m\u001b[38;5;241;43m.\u001b[39;49m\u001b[43m_make_engine\u001b[49m\u001b[43m(\u001b[49m\u001b[43mf\u001b[49m\u001b[43m,\u001b[49m\u001b[43m \u001b[49m\u001b[38;5;28;43mself\u001b[39;49m\u001b[38;5;241;43m.\u001b[39;49m\u001b[43mengine\u001b[49m\u001b[43m)\u001b[49m\n",
      "File \u001b[0;32m~/miniconda3/envs/irrigation/lib/python3.12/site-packages/pandas/io/parsers/readers.py:1880\u001b[0m, in \u001b[0;36mTextFileReader._make_engine\u001b[0;34m(self, f, engine)\u001b[0m\n\u001b[1;32m   1878\u001b[0m     \u001b[38;5;28;01mif\u001b[39;00m \u001b[38;5;124m\"\u001b[39m\u001b[38;5;124mb\u001b[39m\u001b[38;5;124m\"\u001b[39m \u001b[38;5;129;01mnot\u001b[39;00m \u001b[38;5;129;01min\u001b[39;00m mode:\n\u001b[1;32m   1879\u001b[0m         mode \u001b[38;5;241m+\u001b[39m\u001b[38;5;241m=\u001b[39m \u001b[38;5;124m\"\u001b[39m\u001b[38;5;124mb\u001b[39m\u001b[38;5;124m\"\u001b[39m\n\u001b[0;32m-> 1880\u001b[0m \u001b[38;5;28mself\u001b[39m\u001b[38;5;241m.\u001b[39mhandles \u001b[38;5;241m=\u001b[39m \u001b[43mget_handle\u001b[49m\u001b[43m(\u001b[49m\n\u001b[1;32m   1881\u001b[0m \u001b[43m    \u001b[49m\u001b[43mf\u001b[49m\u001b[43m,\u001b[49m\n\u001b[1;32m   1882\u001b[0m \u001b[43m    \u001b[49m\u001b[43mmode\u001b[49m\u001b[43m,\u001b[49m\n\u001b[1;32m   1883\u001b[0m \u001b[43m    \u001b[49m\u001b[43mencoding\u001b[49m\u001b[38;5;241;43m=\u001b[39;49m\u001b[38;5;28;43mself\u001b[39;49m\u001b[38;5;241;43m.\u001b[39;49m\u001b[43moptions\u001b[49m\u001b[38;5;241;43m.\u001b[39;49m\u001b[43mget\u001b[49m\u001b[43m(\u001b[49m\u001b[38;5;124;43m\"\u001b[39;49m\u001b[38;5;124;43mencoding\u001b[39;49m\u001b[38;5;124;43m\"\u001b[39;49m\u001b[43m,\u001b[49m\u001b[43m \u001b[49m\u001b[38;5;28;43;01mNone\u001b[39;49;00m\u001b[43m)\u001b[49m\u001b[43m,\u001b[49m\n\u001b[1;32m   1884\u001b[0m \u001b[43m    \u001b[49m\u001b[43mcompression\u001b[49m\u001b[38;5;241;43m=\u001b[39;49m\u001b[38;5;28;43mself\u001b[39;49m\u001b[38;5;241;43m.\u001b[39;49m\u001b[43moptions\u001b[49m\u001b[38;5;241;43m.\u001b[39;49m\u001b[43mget\u001b[49m\u001b[43m(\u001b[49m\u001b[38;5;124;43m\"\u001b[39;49m\u001b[38;5;124;43mcompression\u001b[39;49m\u001b[38;5;124;43m\"\u001b[39;49m\u001b[43m,\u001b[49m\u001b[43m \u001b[49m\u001b[38;5;28;43;01mNone\u001b[39;49;00m\u001b[43m)\u001b[49m\u001b[43m,\u001b[49m\n\u001b[1;32m   1885\u001b[0m \u001b[43m    \u001b[49m\u001b[43mmemory_map\u001b[49m\u001b[38;5;241;43m=\u001b[39;49m\u001b[38;5;28;43mself\u001b[39;49m\u001b[38;5;241;43m.\u001b[39;49m\u001b[43moptions\u001b[49m\u001b[38;5;241;43m.\u001b[39;49m\u001b[43mget\u001b[49m\u001b[43m(\u001b[49m\u001b[38;5;124;43m\"\u001b[39;49m\u001b[38;5;124;43mmemory_map\u001b[39;49m\u001b[38;5;124;43m\"\u001b[39;49m\u001b[43m,\u001b[49m\u001b[43m \u001b[49m\u001b[38;5;28;43;01mFalse\u001b[39;49;00m\u001b[43m)\u001b[49m\u001b[43m,\u001b[49m\n\u001b[1;32m   1886\u001b[0m \u001b[43m    \u001b[49m\u001b[43mis_text\u001b[49m\u001b[38;5;241;43m=\u001b[39;49m\u001b[43mis_text\u001b[49m\u001b[43m,\u001b[49m\n\u001b[1;32m   1887\u001b[0m \u001b[43m    \u001b[49m\u001b[43merrors\u001b[49m\u001b[38;5;241;43m=\u001b[39;49m\u001b[38;5;28;43mself\u001b[39;49m\u001b[38;5;241;43m.\u001b[39;49m\u001b[43moptions\u001b[49m\u001b[38;5;241;43m.\u001b[39;49m\u001b[43mget\u001b[49m\u001b[43m(\u001b[49m\u001b[38;5;124;43m\"\u001b[39;49m\u001b[38;5;124;43mencoding_errors\u001b[39;49m\u001b[38;5;124;43m\"\u001b[39;49m\u001b[43m,\u001b[49m\u001b[43m \u001b[49m\u001b[38;5;124;43m\"\u001b[39;49m\u001b[38;5;124;43mstrict\u001b[39;49m\u001b[38;5;124;43m\"\u001b[39;49m\u001b[43m)\u001b[49m\u001b[43m,\u001b[49m\n\u001b[1;32m   1888\u001b[0m \u001b[43m    \u001b[49m\u001b[43mstorage_options\u001b[49m\u001b[38;5;241;43m=\u001b[39;49m\u001b[38;5;28;43mself\u001b[39;49m\u001b[38;5;241;43m.\u001b[39;49m\u001b[43moptions\u001b[49m\u001b[38;5;241;43m.\u001b[39;49m\u001b[43mget\u001b[49m\u001b[43m(\u001b[49m\u001b[38;5;124;43m\"\u001b[39;49m\u001b[38;5;124;43mstorage_options\u001b[39;49m\u001b[38;5;124;43m\"\u001b[39;49m\u001b[43m,\u001b[49m\u001b[43m \u001b[49m\u001b[38;5;28;43;01mNone\u001b[39;49;00m\u001b[43m)\u001b[49m\u001b[43m,\u001b[49m\n\u001b[1;32m   1889\u001b[0m \u001b[43m\u001b[49m\u001b[43m)\u001b[49m\n\u001b[1;32m   1890\u001b[0m \u001b[38;5;28;01massert\u001b[39;00m \u001b[38;5;28mself\u001b[39m\u001b[38;5;241m.\u001b[39mhandles \u001b[38;5;129;01mis\u001b[39;00m \u001b[38;5;129;01mnot\u001b[39;00m \u001b[38;5;28;01mNone\u001b[39;00m\n\u001b[1;32m   1891\u001b[0m f \u001b[38;5;241m=\u001b[39m \u001b[38;5;28mself\u001b[39m\u001b[38;5;241m.\u001b[39mhandles\u001b[38;5;241m.\u001b[39mhandle\n",
      "File \u001b[0;32m~/miniconda3/envs/irrigation/lib/python3.12/site-packages/pandas/io/common.py:873\u001b[0m, in \u001b[0;36mget_handle\u001b[0;34m(path_or_buf, mode, encoding, compression, memory_map, is_text, errors, storage_options)\u001b[0m\n\u001b[1;32m    868\u001b[0m \u001b[38;5;28;01melif\u001b[39;00m \u001b[38;5;28misinstance\u001b[39m(handle, \u001b[38;5;28mstr\u001b[39m):\n\u001b[1;32m    869\u001b[0m     \u001b[38;5;66;03m# Check whether the filename is to be opened in binary mode.\u001b[39;00m\n\u001b[1;32m    870\u001b[0m     \u001b[38;5;66;03m# Binary mode does not support 'encoding' and 'newline'.\u001b[39;00m\n\u001b[1;32m    871\u001b[0m     \u001b[38;5;28;01mif\u001b[39;00m ioargs\u001b[38;5;241m.\u001b[39mencoding \u001b[38;5;129;01mand\u001b[39;00m \u001b[38;5;124m\"\u001b[39m\u001b[38;5;124mb\u001b[39m\u001b[38;5;124m\"\u001b[39m \u001b[38;5;129;01mnot\u001b[39;00m \u001b[38;5;129;01min\u001b[39;00m ioargs\u001b[38;5;241m.\u001b[39mmode:\n\u001b[1;32m    872\u001b[0m         \u001b[38;5;66;03m# Encoding\u001b[39;00m\n\u001b[0;32m--> 873\u001b[0m         handle \u001b[38;5;241m=\u001b[39m \u001b[38;5;28;43mopen\u001b[39;49m\u001b[43m(\u001b[49m\n\u001b[1;32m    874\u001b[0m \u001b[43m            \u001b[49m\u001b[43mhandle\u001b[49m\u001b[43m,\u001b[49m\n\u001b[1;32m    875\u001b[0m \u001b[43m            \u001b[49m\u001b[43mioargs\u001b[49m\u001b[38;5;241;43m.\u001b[39;49m\u001b[43mmode\u001b[49m\u001b[43m,\u001b[49m\n\u001b[1;32m    876\u001b[0m \u001b[43m            \u001b[49m\u001b[43mencoding\u001b[49m\u001b[38;5;241;43m=\u001b[39;49m\u001b[43mioargs\u001b[49m\u001b[38;5;241;43m.\u001b[39;49m\u001b[43mencoding\u001b[49m\u001b[43m,\u001b[49m\n\u001b[1;32m    877\u001b[0m \u001b[43m            \u001b[49m\u001b[43merrors\u001b[49m\u001b[38;5;241;43m=\u001b[39;49m\u001b[43merrors\u001b[49m\u001b[43m,\u001b[49m\n\u001b[1;32m    878\u001b[0m \u001b[43m            \u001b[49m\u001b[43mnewline\u001b[49m\u001b[38;5;241;43m=\u001b[39;49m\u001b[38;5;124;43m\"\u001b[39;49m\u001b[38;5;124;43m\"\u001b[39;49m\u001b[43m,\u001b[49m\n\u001b[1;32m    879\u001b[0m \u001b[43m        \u001b[49m\u001b[43m)\u001b[49m\n\u001b[1;32m    880\u001b[0m     \u001b[38;5;28;01melse\u001b[39;00m:\n\u001b[1;32m    881\u001b[0m         \u001b[38;5;66;03m# Binary mode\u001b[39;00m\n\u001b[1;32m    882\u001b[0m         handle \u001b[38;5;241m=\u001b[39m \u001b[38;5;28mopen\u001b[39m(handle, ioargs\u001b[38;5;241m.\u001b[39mmode)\n",
      "\u001b[0;31mFileNotFoundError\u001b[0m: [Errno 2] No such file or directory: '/home/waves/data/Africa_Irrigation/Irrigation_Inside_CA_2000_csv_path'"
     ]
    }
   ],
   "source": [
    "# Task 1: Data Loading\n",
    "import pandas as pd\n",
    "import numpy as np\n",
    "import matplotlib.pyplot as plt\n",
    "import seaborn as sns\n",
    "from scipy.stats import mannwhitneyu\n",
    "import os\n",
    "import sys\n",
    "from tqdm import tqdm\n",
    "import warnings\n",
    "warnings.filterwarnings('ignore')\n",
    "# Add the project root to sys.path so we can import from Code.utils everywhere\n",
    "project_root = os.path.abspath(os.path.join(os.getcwd(), '..', '..'))\n",
    "if project_root not in sys.path:\n",
    "    sys.path.insert(0, project_root)\n",
    "from Code.utils.utility import load_config, resolve_path, ssa_iso, africa_iso_countries, africa_iso_countries_filtered\n",
    "from Code.utils.spatial_utility import load_and_reproject, optimized_clip\n",
    "\n",
    "# Load configuration\n",
    "config = load_config()\n",
    "\n",
    "# Load the four CSV files using resolve_path and config (for consistency with project I/O)\n",
    "inside_2000 = pd.read_csv(resolve_path(config['Irrigation_Inside_CA_2000_csv_path']))\n",
    "outside_2000 = pd.read_csv(resolve_path(config['Irrigation_Outside_CA_2000_csv_path']))\n",
    "inside_2015 = pd.read_csv(resolve_path(config['Irrigation_Inside_CA_2015_csv_path']))\n",
    "outside_2015 = pd.read_csv(resolve_path(config['Irrigation_Outside_CA_2015_csv_path']))\n",
    "\n",
    "# Ensure the column is named 'irrigation_value'\n",
    "for df in [inside_2000, outside_2000, inside_2015, outside_2015]:\n",
    "    if 'irrigation_value' not in df.columns:\n",
    "        df.columns = ['irrigation_value']\n",
    "\n",
    "print('Data loaded successfully. Sample rows:')\n",
    "print('Inside 2000:', inside_2000.head(3), sep='\n",
    "\n",
    "\n",
    "\n",
    "print('Outside 2015:', outside_2015.head(3), sep='\n",
    "')print('Inside 2015:', inside_2015.head(3), sep='\n",
    "')print('Outside 2000:', outside_2000.head(3), sep='\n",
    "')')"
   ]
  },
  {
   "cell_type": "markdown",
   "id": "43cab9d4",
   "metadata": {},
   "source": [
    "## Task 2: Descriptive Statistics\n",
    "For each group (inside/outside, 2000/2015), we calculate mean, median, standard deviation, variance, min, max, and quartiles. Variance is highlighted as a key metric."
   ]
  },
  {
   "cell_type": "code",
   "execution_count": null,
   "id": "3e454f8f",
   "metadata": {},
   "outputs": [],
   "source": [
    "def print_descriptive_stats(df, label):\n",
    "    desc = df['irrigation_value'].describe(percentiles=[0.25, 0.75])\n",
    "    variance = df['irrigation_value'].var()\n",
    "    print(f'--- Descriptive Statistics for {label} ---')\n",
    "    print(f'Mean: {desc[mean]:.4f}')\n",
    "    print(f'Median: {desc[50%]:.4f}')\n",
    "    print(f'Std Dev: {desc[std]:.4f}')\n",
    "    print(f'Variance: {variance:.4f}')\n",
    "    print(f'Min: {desc[min]:.4f}')\n",
    "    print(f'Q1 (25th): {desc[25%]:.4f}')\n",
    "    print(f'Q3 (75th): {desc[75%]:.4f}')\n",
    "    print(f'Max: {desc[max]:.4f}')\n",
    "    print()\n",
    "\n",
    "print_descriptive_stats(inside_2000, 'Irrigation Inside Polygons - 2000')\n",
    "print_descriptive_stats(outside_2000, 'Irrigation Outside Polygons - 2000')\n",
    "print_descriptive_stats(inside_2015, 'Irrigation Inside Polygons - 2015')\n",
    "print_descriptive_stats(outside_2015, 'Irrigation Outside Polygons - 2015')"
   ]
  },
  {
   "cell_type": "markdown",
   "id": "0245b71c",
   "metadata": {},
   "source": [
    "**Variance Comparison:**\n",
    "- Compare the variance between inside and outside groups for each year.\n",
    "- Higher variance may indicate more heterogeneity in irrigation values.\n",
    "- This is a key point for advisor feedback."
   ]
  },
  {
   "cell_type": "markdown",
   "id": "846139fc",
   "metadata": {},
   "source": [
    "## Task 3: Distribution Visualization\n",
    "We plot histograms and KDEs for inside and outside groups for each year. Both distributions are shown on the same axes for direct comparison."
   ]
  },
  {
   "cell_type": "code",
   "execution_count": null,
   "id": "4b9aa72a",
   "metadata": {},
   "outputs": [],
   "source": [
    "def plot_distribution(df_in, df_out, year, bins=50):\n",
    "    plt.figure(figsize=(10,6))\n",
    "    sns.histplot(df_in['irrigation_value'], bins=bins, color='green', label='Inside Polygons', kde=True, stat='density', alpha=0.5)\n",
    "    sns.histplot(df_out['irrigation_value'], bins=bins, color='orange', label='Outside Polygons', kde=True, stat='density', alpha=0.5)\n",
    "    plt.xlabel('Irrigation Value')\n",
    "    plt.ylabel('Density')\n",
    "    plt.title(f'Distribution of Irrigation Values - {year}')\n",
    "    plt.legend()\n",
    "    plt.tight_layout()\n",
    "    plt.savefig(f'irrigation_distribution_{year}.png', dpi=300)\n",
    "    plt.show()\n",
    "\n",
    "plot_distribution(inside_2000, outside_2000, 2000)\n",
    "plot_distribution(inside_2015, outside_2015, 2015)"
   ]
  },
  {
   "cell_type": "markdown",
   "id": "901cd28a",
   "metadata": {},
   "source": [
    "**Interpretation:**\n",
    "- Visually inspect the plots for overlap, skewness, and spread.\n",
    "- Note any clear differences or similarities between inside and outside distributions for each year."
   ]
  },
  {
   "cell_type": "markdown",
   "id": "3f07740e",
   "metadata": {},
   "source": [
    "## Task 4: Statistical Hypothesis Testing\n",
    "We use the Mann-Whitney U test to formally compare the distributions of irrigation values inside and outside polygons for each year.\n",
    "\n",
    "**Null Hypothesis (H0):** The distributions of irrigation values inside and outside polygons are the same.\n",
    "\n",
    "**Alternative Hypothesis (Ha):** The distributions are different."
   ]
  },
  {
   "cell_type": "code",
   "execution_count": null,
   "id": "ca9b2477",
   "metadata": {},
   "outputs": [],
   "source": [
    "def mannwhitney_test(df_in, df_out, year):\n",
    "    u_stat, p_val = mannwhitneyu(df_in['irrigation_value'], df_out['irrigation_value'], alternative='two-sided')\n",
    "    print(f'--- Mann-Whitney U Test for {year} ---')\n",
    "    print(f'U-statistic: {u_stat:.2f}')\n",
    "    print(f'p-value: {p_val:.4e}')\n",
    "    if p_val < 0.05:\n",
    "        print('Result: Statistically significant difference (p < 0.05)')\n",
    "    else:\n",
    "        print('Result: No statistically significant difference (p >= 0.05)')\n",
    "    print()\n",
    "\n",
    "mannwhitney_test(inside_2000, outside_2000, 2000)\n",
    "mannwhitney_test(inside_2015, outside_2015, 2015)"
   ]
  },
  {
   "cell_type": "markdown",
   "id": "a11097e0",
   "metadata": {},
   "source": [
    "**Interpretation:**\n",
    "- A p-value less than 0.05 suggests a statistically significant difference between the distributions.\n",
    "- Discuss what this means in the context of irrigation inside vs. outside dam command areas.\n",
    "\n",
    "---\n",
    "*Prepared for advisor review. Please see code comments and outputs for further interpretation and next steps.*"
   ]
  }
 ],
 "metadata": {
  "kernelspec": {
   "display_name": "irrigation",
   "language": "python",
   "name": "python3"
  },
  "language_info": {
   "codemirror_mode": {
    "name": "ipython",
    "version": 3
   },
   "file_extension": ".py",
   "mimetype": "text/x-python",
   "name": "python",
   "nbconvert_exporter": "python",
   "pygments_lexer": "ipython3",
   "version": "3.12.4"
  }
 },
 "nbformat": 4,
 "nbformat_minor": 5
}
