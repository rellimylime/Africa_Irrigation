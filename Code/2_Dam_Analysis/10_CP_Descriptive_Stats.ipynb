{
 "cells": [
  {
   "cell_type": "markdown",
   "id": "8b7c8e4c",
   "metadata": {},
   "source": [
    "# Statistical Analysis of Irrigation Values Inside and Outside Dam Command Areas (1980 - 2015)\n",
    "\n",
    "This notebook performs descriptive statistics, visualizations, and hypothesis testing on\n",
    "irrigation pixel values extracted from inside and outside dam command areas for the years\n",
    "1980–2015.\n",
    "\n",
    "**Outline:**\n",
    "1. Setup and Configuration\n",
    "2. Data Ingestion and Preprocessing\n",
    "3. Pixel Classification (Inside vs. Outside)\n",
    "4. Descriptive Statistics\n",
    "5. Distribution Visualization\n",
    "6. Hypothesis Testing and Effect Sizes\n",
    "7. Bootstrap Confidence Intervals\n",
    "8. Summary Figures Over Time\n",
    "9. Interpretation Aids"
   ]
  },
  {
   "cell_type": "code",
   "execution_count": 7,
   "id": "8ea251c9",
   "metadata": {},
   "outputs": [],
   "source": [
    "# Core Imports\n",
    "import os, sys, warnings\n",
    "from itertools import product\n",
    "from scipy.stats import poisson\n",
    "import numpy as np\n",
    "import pandas as pd\n",
    "import geopandas as gpd\n",
    "import matplotlib.pyplot as plt\n",
    "from matplotlib.cm import get_cmap\n",
    "import seaborn as sns\n",
    "from IPython.display import display, Markdown\n",
    "from tqdm import tqdm\n",
    "import rasterio\n",
    "from rasterio.mask import mask\n",
    "from rasterio.io import MemoryFile\n",
    "from rasterio.features import rasterize\n",
    "import statsmodels.formula.api as smf\n",
    "\n",
    "# Custom Utility Imports\n",
    "project_root = os.path.abspath(os.path.join(os.getcwd(), '..', '..'))\n",
    "if project_root not in sys.path:\n",
    "    sys.path.insert(0, project_root)\n",
    "from Code.utils.utility import load_config, resolve_path\n",
    "from Code.utils.spatial_utility import load_raster_and_reproject\n",
    "\n",
    "warnings.filterwarnings(\"ignore\")\n",
    "config = load_config()"
   ]
  },
  {
   "cell_type": "code",
   "execution_count": 9,
   "id": "1e41d89b",
   "metadata": {},
   "outputs": [
    {
     "name": "stdout",
     "output_type": "stream",
     "text": [
      "   ID  year_2000  year_2021       Country Country Co  \\\n",
      "0   1          1          1  South Africa        ZAF   \n",
      "1   2          1          1  South Africa        ZAF   \n",
      "2   3          1          1  South Africa        ZAF   \n",
      "3   4          1          1  South Africa        ZAF   \n",
      "4   5          1          1  South Africa        ZAF   \n",
      "\n",
      "                                            geometry  \n",
      "0  POLYGON ((2158598.021 -4057555.506, 2158658.42...  \n",
      "1  POLYGON ((2158740.433 -4056950.848, 2158788.75...  \n",
      "2  POLYGON ((2286656.768 -4053677.724, 2286693.00...  \n",
      "3  POLYGON ((2285644.300 -4053175.531, 2285704.69...  \n",
      "4  POLYGON ((2184297.066 -4052314.792, 2184333.29...  \n"
     ]
    }
   ],
   "source": [
    "# Load CPIS shapefile\n",
    "cp_gdf = gpd.read_file(resolve_path(config[\"Combined_CPIS_All_shp_path\"]))\n",
    "print(cp_gdf.head())\n",
    "\n",
    "# Load reference irrigation raster for shape, transform, crs\n",
    "with rasterio.open(resolve_path(config[\"Irrigation_Arid_SSA_2000_tif_path\"])) as ref:\n",
    "    ref_meta = ref.meta.copy()\n",
    "    ref_shape = ref.shape\n",
    "    ref_transform = ref.transform\n",
    "    ref_crs = ref.crs\n",
    "\n",
    "def rasterize_cpis_from_columns(gdf, year_col, out_shape, transform, crs):\n",
    "    gdf_year = gdf[gdf[year_col] == 1].to_crs(crs)\n",
    "    return rasterize(\n",
    "        [(geom, 1) for geom in gdf_year.geometry],\n",
    "        out_shape=out_shape,\n",
    "        transform=transform,\n",
    "        fill=0,\n",
    "        dtype='uint8'\n",
    "    )\n",
    "\n",
    "cp_raster_2000 = rasterize_cpis_from_columns(cp_gdf, \"year_2000\", ref_shape, ref_transform, ref_crs)\n",
    "cp_raster_2021 = rasterize_cpis_from_columns(cp_gdf, \"year_2021\", ref_shape, ref_transform, ref_crs)\n",
    "\n",
    "cp_interp_2015 = cp_raster_2000.astype(float) + (cp_raster_2021 - cp_raster_2000) * (2015 - 2000) / (2021 - 2000)\n",
    "cp_interp_2015 = np.clip(cp_interp_2015, 0, 1)\n"
   ]
  }
 ],
 "metadata": {
  "kernelspec": {
   "display_name": "irrigation",
   "language": "python",
   "name": "python3"
  },
  "language_info": {
   "codemirror_mode": {
    "name": "ipython",
    "version": 3
   },
   "file_extension": ".py",
   "mimetype": "text/x-python",
   "name": "python",
   "nbconvert_exporter": "python",
   "pygments_lexer": "ipython3",
   "version": "3.12.4"
  }
 },
 "nbformat": 4,
 "nbformat_minor": 5
}
